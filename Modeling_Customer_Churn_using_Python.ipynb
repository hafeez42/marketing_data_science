{
  "nbformat": 4,
  "nbformat_minor": 0,
  "metadata": {
    "colab": {
      "name": "Modeling Customer Churn using  Python.ipynb",
      "provenance": [],
      "authorship_tag": "ABX9TyNkDxIwIIRRD9MeDr/tsU6O",
      "include_colab_link": true
    },
    "kernelspec": {
      "name": "python3",
      "display_name": "Python 3"
    },
    "language_info": {
      "name": "python"
    }
  },
  "cells": [
    {
      "cell_type": "markdown",
      "metadata": {
        "id": "view-in-github",
        "colab_type": "text"
      },
      "source": [
        "<a href=\"https://colab.research.google.com/github/hafeez42/marketing_data_science/blob/master/Modeling_Customer_Churn_using_Python.ipynb\" target=\"_parent\"><img src=\"https://colab.research.google.com/assets/colab-badge.svg\" alt=\"Open In Colab\"/></a>"
      ]
    },
    {
      "cell_type": "code",
      "metadata": {
        "id": "fpg_dojvF-u5"
      },
      "source": [
        "import sqlite3\n",
        "import json\n",
        "import pandas as pd\n",
        "import numpy as np\n",
        "import matplotlib.pyplot as plt\n",
        "import seaborn as sns"
      ],
      "execution_count": null,
      "outputs": []
    },
    {
      "cell_type": "code",
      "metadata": {
        "id": "7wDDRvJj1W2M"
      },
      "source": [
        "# import json file into colab\n",
        "from google.colab import files\n",
        "files.upload()\n",
        "\n",
        "# setup Kaggle DIR; copy json file ; chmod\n",
        "!mkdir -p ~/.kaggle\n",
        "!cp kaggle.json ~/.kaggle/\n",
        "!chmod 600 ~/.kaggle/kaggle.json\n",
        "!ls ~/.kaggle\n",
        "\n",
        "# verifying json file content\n",
        "!ls -l ~/.kaggle\n",
        "!cat ~/.kaggle/kaggle.json"
      ],
      "execution_count": null,
      "outputs": []
    },
    {
      "cell_type": "code",
      "metadata": {
        "colab": {
          "base_uri": "https://localhost:8080/"
        },
        "id": "NcAulJzZ1cIC",
        "outputId": "8bfc346a-279e-425b-ba17-263d35ec18ea"
      },
      "source": [
        "!kaggle datasets list -s e-commerce\n"
      ],
      "execution_count": null,
      "outputs": [
        {
          "output_type": "stream",
          "name": "stdout",
          "text": [
            "Warning: Looks like you're using an outdated API Version, please consider updating (server 1.5.12 / client 1.5.4)\n",
            "ref                                                    title                                              size  lastUpdated          downloadCount  \n",
            "-----------------------------------------------------  ------------------------------------------------  -----  -------------------  -------------  \n",
            "carrie1/ecommerce-data                                 E-Commerce Data                                     7MB  2017-08-17 02:44:30          73587  \n",
            "nicapotato/womens-ecommerce-clothing-reviews           Women's E-Commerce Clothing Reviews                 3MB  2018-02-03 19:59:19          42419  \n",
            "olistbr/brazilian-ecommerce                            Brazilian E-Commerce Public Dataset by Olist       43MB  2021-10-01 19:08:27         100202  \n",
            "prachi13/customer-analytics                             E-Commerce Shipping Data                         121KB  2021-02-23 12:01:47          10155  \n",
            "zusmani/pakistans-largest-ecommerce-dataset            Pakistan's Largest E-Commerce Dataset              14MB  2021-01-19 11:42:57           2443  \n",
            "benroshan/ecommerce-data                               E-Commerce Data                                    18KB  2020-04-22 11:47:38           4762  \n",
            "jmmvutu/summer-products-and-sales-in-ecommerce-wish    Sales of summer clothes in E-commerce Wish         44MB  2021-05-03 23:54:28          16705  \n",
            "kolawale/focusing-on-mobile-app-or-website             Linear Regression  E-commerce Dataset              43KB  2019-09-16 19:04:27           2518  \n",
            "ammaraahmad/us-ecommerce-record-2020                   United States E-Commerce records 2020             160KB  2021-09-02 10:07:45           1223  \n",
            "jmmvutu/ecommerce-users-of-a-french-c2c-fashion-store  E-commerce - Users of a French C2C fashion store    2MB  2020-08-04 00:24:42           2451  \n",
            "AppleEcomerceInfo/ecommerce-information                E-commerce Public Dataset by Alibaba                7KB  2019-08-03 20:07:29          18755  \n",
            "census/e-commerce-retail-sales-series-data-collection  E-Commerce Retail Sales Series Data Collection      5KB  2019-12-07 00:20:44           1384  \n",
            "robertvici/indonesia-top-ecommerce-unicorn-tweets      Indonesia's Top E-Commerce Tweets                  49MB  2020-05-31 04:13:31            472  \n",
            "zusmani/gufhtugu-publications-dataset-challenge        Gufhtugu Publications Dataset Challenge           954KB  2021-01-29 14:11:37           1070  \n",
            "wiredwith/websites-list                                Global e-Commerce Websites List                    65MB  2020-08-13 12:55:20            424  \n",
            "vikashrajluhaniwal/fashion-images                      E-commerce Product Images                         335MB  2021-03-27 10:16:46            487  \n",
            "shashwatwork/ecommerce-data                            E-Commerce Data                                     2MB  2020-08-16 16:01:19            545  \n",
            "aerodinamicc/ecommerce-website-funnel-analysis         E-commerce website                                  1MB  2018-11-23 22:10:55           1450  \n",
            "raosuny/e-commerce-purchase-dataset                    E commerce Purchase Dataset                       294KB  2019-12-19 11:34:25            978  \n",
            "dschettler8845/recsys-2020-ecommerce-dataset           Recommender System - E-Commerce Dataset - 2020    629MB  2021-01-01 17:48:41            718  \n"
          ]
        }
      ]
    },
    {
      "cell_type": "code",
      "metadata": {
        "colab": {
          "base_uri": "https://localhost:8080/"
        },
        "id": "n38Proc61yKh",
        "outputId": "8214998a-a070-4a46-87de-bbbfe14845c8"
      },
      "source": [
        "# download the dataset\n",
        "!kaggle datasets download -d carrie1/ecommerce-data    \n",
        "\n",
        "# unzip files\n",
        "!unzip \\*.zip"
      ],
      "execution_count": null,
      "outputs": [
        {
          "output_type": "stream",
          "name": "stdout",
          "text": [
            "Downloading ecommerce-data.zip to /content\n",
            " 69% 5.00M/7.20M [00:00<00:00, 26.9MB/s]\n",
            "100% 7.20M/7.20M [00:00<00:00, 35.2MB/s]\n",
            "Archive:  ecommerce-data.zip\n",
            "  inflating: data.csv                \n"
          ]
        }
      ]
    },
    {
      "cell_type": "code",
      "metadata": {
        "colab": {
          "base_uri": "https://localhost:8080/",
          "height": 677
        },
        "id": "fZzYgs_o2Afy",
        "outputId": "19830176-8c24-45f1-99f9-a209f45cefdf"
      },
      "source": [
        "df = pd.read_csv('data.csv', engine='python')\n",
        "\n",
        "df.head(20)"
      ],
      "execution_count": null,
      "outputs": [
        {
          "output_type": "execute_result",
          "data": {
            "text/html": [
              "<div>\n",
              "<style scoped>\n",
              "    .dataframe tbody tr th:only-of-type {\n",
              "        vertical-align: middle;\n",
              "    }\n",
              "\n",
              "    .dataframe tbody tr th {\n",
              "        vertical-align: top;\n",
              "    }\n",
              "\n",
              "    .dataframe thead th {\n",
              "        text-align: right;\n",
              "    }\n",
              "</style>\n",
              "<table border=\"1\" class=\"dataframe\">\n",
              "  <thead>\n",
              "    <tr style=\"text-align: right;\">\n",
              "      <th></th>\n",
              "      <th>InvoiceNo</th>\n",
              "      <th>StockCode</th>\n",
              "      <th>Description</th>\n",
              "      <th>Quantity</th>\n",
              "      <th>InvoiceDate</th>\n",
              "      <th>UnitPrice</th>\n",
              "      <th>CustomerID</th>\n",
              "      <th>Country</th>\n",
              "    </tr>\n",
              "  </thead>\n",
              "  <tbody>\n",
              "    <tr>\n",
              "      <th>0</th>\n",
              "      <td>536365</td>\n",
              "      <td>85123A</td>\n",
              "      <td>WHITE HANGING HEART T-LIGHT HOLDER</td>\n",
              "      <td>6</td>\n",
              "      <td>12/1/2010 8:26</td>\n",
              "      <td>2.55</td>\n",
              "      <td>17850.0</td>\n",
              "      <td>United Kingdom</td>\n",
              "    </tr>\n",
              "    <tr>\n",
              "      <th>1</th>\n",
              "      <td>536365</td>\n",
              "      <td>71053</td>\n",
              "      <td>WHITE METAL LANTERN</td>\n",
              "      <td>6</td>\n",
              "      <td>12/1/2010 8:26</td>\n",
              "      <td>3.39</td>\n",
              "      <td>17850.0</td>\n",
              "      <td>United Kingdom</td>\n",
              "    </tr>\n",
              "    <tr>\n",
              "      <th>2</th>\n",
              "      <td>536365</td>\n",
              "      <td>84406B</td>\n",
              "      <td>CREAM CUPID HEARTS COAT HANGER</td>\n",
              "      <td>8</td>\n",
              "      <td>12/1/2010 8:26</td>\n",
              "      <td>2.75</td>\n",
              "      <td>17850.0</td>\n",
              "      <td>United Kingdom</td>\n",
              "    </tr>\n",
              "    <tr>\n",
              "      <th>3</th>\n",
              "      <td>536365</td>\n",
              "      <td>84029G</td>\n",
              "      <td>KNITTED UNION FLAG HOT WATER BOTTLE</td>\n",
              "      <td>6</td>\n",
              "      <td>12/1/2010 8:26</td>\n",
              "      <td>3.39</td>\n",
              "      <td>17850.0</td>\n",
              "      <td>United Kingdom</td>\n",
              "    </tr>\n",
              "    <tr>\n",
              "      <th>4</th>\n",
              "      <td>536365</td>\n",
              "      <td>84029E</td>\n",
              "      <td>RED WOOLLY HOTTIE WHITE HEART.</td>\n",
              "      <td>6</td>\n",
              "      <td>12/1/2010 8:26</td>\n",
              "      <td>3.39</td>\n",
              "      <td>17850.0</td>\n",
              "      <td>United Kingdom</td>\n",
              "    </tr>\n",
              "    <tr>\n",
              "      <th>5</th>\n",
              "      <td>536365</td>\n",
              "      <td>22752</td>\n",
              "      <td>SET 7 BABUSHKA NESTING BOXES</td>\n",
              "      <td>2</td>\n",
              "      <td>12/1/2010 8:26</td>\n",
              "      <td>7.65</td>\n",
              "      <td>17850.0</td>\n",
              "      <td>United Kingdom</td>\n",
              "    </tr>\n",
              "    <tr>\n",
              "      <th>6</th>\n",
              "      <td>536365</td>\n",
              "      <td>21730</td>\n",
              "      <td>GLASS STAR FROSTED T-LIGHT HOLDER</td>\n",
              "      <td>6</td>\n",
              "      <td>12/1/2010 8:26</td>\n",
              "      <td>4.25</td>\n",
              "      <td>17850.0</td>\n",
              "      <td>United Kingdom</td>\n",
              "    </tr>\n",
              "    <tr>\n",
              "      <th>7</th>\n",
              "      <td>536366</td>\n",
              "      <td>22633</td>\n",
              "      <td>HAND WARMER UNION JACK</td>\n",
              "      <td>6</td>\n",
              "      <td>12/1/2010 8:28</td>\n",
              "      <td>1.85</td>\n",
              "      <td>17850.0</td>\n",
              "      <td>United Kingdom</td>\n",
              "    </tr>\n",
              "    <tr>\n",
              "      <th>8</th>\n",
              "      <td>536366</td>\n",
              "      <td>22632</td>\n",
              "      <td>HAND WARMER RED POLKA DOT</td>\n",
              "      <td>6</td>\n",
              "      <td>12/1/2010 8:28</td>\n",
              "      <td>1.85</td>\n",
              "      <td>17850.0</td>\n",
              "      <td>United Kingdom</td>\n",
              "    </tr>\n",
              "    <tr>\n",
              "      <th>9</th>\n",
              "      <td>536367</td>\n",
              "      <td>84879</td>\n",
              "      <td>ASSORTED COLOUR BIRD ORNAMENT</td>\n",
              "      <td>32</td>\n",
              "      <td>12/1/2010 8:34</td>\n",
              "      <td>1.69</td>\n",
              "      <td>13047.0</td>\n",
              "      <td>United Kingdom</td>\n",
              "    </tr>\n",
              "    <tr>\n",
              "      <th>10</th>\n",
              "      <td>536367</td>\n",
              "      <td>22745</td>\n",
              "      <td>POPPY'S PLAYHOUSE BEDROOM</td>\n",
              "      <td>6</td>\n",
              "      <td>12/1/2010 8:34</td>\n",
              "      <td>2.10</td>\n",
              "      <td>13047.0</td>\n",
              "      <td>United Kingdom</td>\n",
              "    </tr>\n",
              "    <tr>\n",
              "      <th>11</th>\n",
              "      <td>536367</td>\n",
              "      <td>22748</td>\n",
              "      <td>POPPY'S PLAYHOUSE KITCHEN</td>\n",
              "      <td>6</td>\n",
              "      <td>12/1/2010 8:34</td>\n",
              "      <td>2.10</td>\n",
              "      <td>13047.0</td>\n",
              "      <td>United Kingdom</td>\n",
              "    </tr>\n",
              "    <tr>\n",
              "      <th>12</th>\n",
              "      <td>536367</td>\n",
              "      <td>22749</td>\n",
              "      <td>FELTCRAFT PRINCESS CHARLOTTE DOLL</td>\n",
              "      <td>8</td>\n",
              "      <td>12/1/2010 8:34</td>\n",
              "      <td>3.75</td>\n",
              "      <td>13047.0</td>\n",
              "      <td>United Kingdom</td>\n",
              "    </tr>\n",
              "    <tr>\n",
              "      <th>13</th>\n",
              "      <td>536367</td>\n",
              "      <td>22310</td>\n",
              "      <td>IVORY KNITTED MUG COSY</td>\n",
              "      <td>6</td>\n",
              "      <td>12/1/2010 8:34</td>\n",
              "      <td>1.65</td>\n",
              "      <td>13047.0</td>\n",
              "      <td>United Kingdom</td>\n",
              "    </tr>\n",
              "    <tr>\n",
              "      <th>14</th>\n",
              "      <td>536367</td>\n",
              "      <td>84969</td>\n",
              "      <td>BOX OF 6 ASSORTED COLOUR TEASPOONS</td>\n",
              "      <td>6</td>\n",
              "      <td>12/1/2010 8:34</td>\n",
              "      <td>4.25</td>\n",
              "      <td>13047.0</td>\n",
              "      <td>United Kingdom</td>\n",
              "    </tr>\n",
              "    <tr>\n",
              "      <th>15</th>\n",
              "      <td>536367</td>\n",
              "      <td>22623</td>\n",
              "      <td>BOX OF VINTAGE JIGSAW BLOCKS</td>\n",
              "      <td>3</td>\n",
              "      <td>12/1/2010 8:34</td>\n",
              "      <td>4.95</td>\n",
              "      <td>13047.0</td>\n",
              "      <td>United Kingdom</td>\n",
              "    </tr>\n",
              "    <tr>\n",
              "      <th>16</th>\n",
              "      <td>536367</td>\n",
              "      <td>22622</td>\n",
              "      <td>BOX OF VINTAGE ALPHABET BLOCKS</td>\n",
              "      <td>2</td>\n",
              "      <td>12/1/2010 8:34</td>\n",
              "      <td>9.95</td>\n",
              "      <td>13047.0</td>\n",
              "      <td>United Kingdom</td>\n",
              "    </tr>\n",
              "    <tr>\n",
              "      <th>17</th>\n",
              "      <td>536367</td>\n",
              "      <td>21754</td>\n",
              "      <td>HOME BUILDING BLOCK WORD</td>\n",
              "      <td>3</td>\n",
              "      <td>12/1/2010 8:34</td>\n",
              "      <td>5.95</td>\n",
              "      <td>13047.0</td>\n",
              "      <td>United Kingdom</td>\n",
              "    </tr>\n",
              "    <tr>\n",
              "      <th>18</th>\n",
              "      <td>536367</td>\n",
              "      <td>21755</td>\n",
              "      <td>LOVE BUILDING BLOCK WORD</td>\n",
              "      <td>3</td>\n",
              "      <td>12/1/2010 8:34</td>\n",
              "      <td>5.95</td>\n",
              "      <td>13047.0</td>\n",
              "      <td>United Kingdom</td>\n",
              "    </tr>\n",
              "    <tr>\n",
              "      <th>19</th>\n",
              "      <td>536367</td>\n",
              "      <td>21777</td>\n",
              "      <td>RECIPE BOX WITH METAL HEART</td>\n",
              "      <td>4</td>\n",
              "      <td>12/1/2010 8:34</td>\n",
              "      <td>7.95</td>\n",
              "      <td>13047.0</td>\n",
              "      <td>United Kingdom</td>\n",
              "    </tr>\n",
              "  </tbody>\n",
              "</table>\n",
              "</div>"
            ],
            "text/plain": [
              "   InvoiceNo StockCode  ... CustomerID         Country\n",
              "0     536365    85123A  ...    17850.0  United Kingdom\n",
              "1     536365     71053  ...    17850.0  United Kingdom\n",
              "2     536365    84406B  ...    17850.0  United Kingdom\n",
              "3     536365    84029G  ...    17850.0  United Kingdom\n",
              "4     536365    84029E  ...    17850.0  United Kingdom\n",
              "5     536365     22752  ...    17850.0  United Kingdom\n",
              "6     536365     21730  ...    17850.0  United Kingdom\n",
              "7     536366     22633  ...    17850.0  United Kingdom\n",
              "8     536366     22632  ...    17850.0  United Kingdom\n",
              "9     536367     84879  ...    13047.0  United Kingdom\n",
              "10    536367     22745  ...    13047.0  United Kingdom\n",
              "11    536367     22748  ...    13047.0  United Kingdom\n",
              "12    536367     22749  ...    13047.0  United Kingdom\n",
              "13    536367     22310  ...    13047.0  United Kingdom\n",
              "14    536367     84969  ...    13047.0  United Kingdom\n",
              "15    536367     22623  ...    13047.0  United Kingdom\n",
              "16    536367     22622  ...    13047.0  United Kingdom\n",
              "17    536367     21754  ...    13047.0  United Kingdom\n",
              "18    536367     21755  ...    13047.0  United Kingdom\n",
              "19    536367     21777  ...    13047.0  United Kingdom\n",
              "\n",
              "[20 rows x 8 columns]"
            ]
          },
          "metadata": {},
          "execution_count": 5
        }
      ]
    },
    {
      "cell_type": "code",
      "metadata": {
        "colab": {
          "base_uri": "https://localhost:8080/",
          "height": 300
        },
        "id": "yRCrBuwd2WbB",
        "outputId": "03111dd6-bbe3-493d-a1cc-b2800e359791"
      },
      "source": [
        "df.describe()"
      ],
      "execution_count": null,
      "outputs": [
        {
          "output_type": "execute_result",
          "data": {
            "text/html": [
              "<div>\n",
              "<style scoped>\n",
              "    .dataframe tbody tr th:only-of-type {\n",
              "        vertical-align: middle;\n",
              "    }\n",
              "\n",
              "    .dataframe tbody tr th {\n",
              "        vertical-align: top;\n",
              "    }\n",
              "\n",
              "    .dataframe thead th {\n",
              "        text-align: right;\n",
              "    }\n",
              "</style>\n",
              "<table border=\"1\" class=\"dataframe\">\n",
              "  <thead>\n",
              "    <tr style=\"text-align: right;\">\n",
              "      <th></th>\n",
              "      <th>Quantity</th>\n",
              "      <th>UnitPrice</th>\n",
              "      <th>CustomerID</th>\n",
              "    </tr>\n",
              "  </thead>\n",
              "  <tbody>\n",
              "    <tr>\n",
              "      <th>count</th>\n",
              "      <td>541909.000000</td>\n",
              "      <td>541909.000000</td>\n",
              "      <td>406829.000000</td>\n",
              "    </tr>\n",
              "    <tr>\n",
              "      <th>mean</th>\n",
              "      <td>9.552250</td>\n",
              "      <td>4.611114</td>\n",
              "      <td>15287.690570</td>\n",
              "    </tr>\n",
              "    <tr>\n",
              "      <th>std</th>\n",
              "      <td>218.081158</td>\n",
              "      <td>96.759853</td>\n",
              "      <td>1713.600303</td>\n",
              "    </tr>\n",
              "    <tr>\n",
              "      <th>min</th>\n",
              "      <td>-80995.000000</td>\n",
              "      <td>-11062.060000</td>\n",
              "      <td>12346.000000</td>\n",
              "    </tr>\n",
              "    <tr>\n",
              "      <th>25%</th>\n",
              "      <td>1.000000</td>\n",
              "      <td>1.250000</td>\n",
              "      <td>13953.000000</td>\n",
              "    </tr>\n",
              "    <tr>\n",
              "      <th>50%</th>\n",
              "      <td>3.000000</td>\n",
              "      <td>2.080000</td>\n",
              "      <td>15152.000000</td>\n",
              "    </tr>\n",
              "    <tr>\n",
              "      <th>75%</th>\n",
              "      <td>10.000000</td>\n",
              "      <td>4.130000</td>\n",
              "      <td>16791.000000</td>\n",
              "    </tr>\n",
              "    <tr>\n",
              "      <th>max</th>\n",
              "      <td>80995.000000</td>\n",
              "      <td>38970.000000</td>\n",
              "      <td>18287.000000</td>\n",
              "    </tr>\n",
              "  </tbody>\n",
              "</table>\n",
              "</div>"
            ],
            "text/plain": [
              "            Quantity      UnitPrice     CustomerID\n",
              "count  541909.000000  541909.000000  406829.000000\n",
              "mean        9.552250       4.611114   15287.690570\n",
              "std       218.081158      96.759853    1713.600303\n",
              "min    -80995.000000  -11062.060000   12346.000000\n",
              "25%         1.000000       1.250000   13953.000000\n",
              "50%         3.000000       2.080000   15152.000000\n",
              "75%        10.000000       4.130000   16791.000000\n",
              "max     80995.000000   38970.000000   18287.000000"
            ]
          },
          "metadata": {},
          "execution_count": 6
        }
      ]
    },
    {
      "cell_type": "code",
      "metadata": {
        "colab": {
          "base_uri": "https://localhost:8080/"
        },
        "id": "HWrtKCpg3TdK",
        "outputId": "0135511c-bb66-498c-f800-d04435e1de02"
      },
      "source": [
        "df.info()"
      ],
      "execution_count": null,
      "outputs": [
        {
          "output_type": "stream",
          "name": "stdout",
          "text": [
            "<class 'pandas.core.frame.DataFrame'>\n",
            "RangeIndex: 541909 entries, 0 to 541908\n",
            "Data columns (total 8 columns):\n",
            " #   Column       Non-Null Count   Dtype  \n",
            "---  ------       --------------   -----  \n",
            " 0   InvoiceNo    541909 non-null  object \n",
            " 1   StockCode    541909 non-null  object \n",
            " 2   Description  540455 non-null  object \n",
            " 3   Quantity     541909 non-null  int64  \n",
            " 4   InvoiceDate  541909 non-null  object \n",
            " 5   UnitPrice    541909 non-null  float64\n",
            " 6   CustomerID   406829 non-null  float64\n",
            " 7   Country      541909 non-null  object \n",
            "dtypes: float64(2), int64(1), object(5)\n",
            "memory usage: 33.1+ MB\n"
          ]
        }
      ]
    },
    {
      "cell_type": "code",
      "metadata": {
        "colab": {
          "base_uri": "https://localhost:8080/"
        },
        "id": "yULAjDI_ZbgH",
        "outputId": "128ffb8e-8889-4fdb-cb9b-e8dcd8a62550"
      },
      "source": [
        "df.CustomerID.nunique()"
      ],
      "execution_count": null,
      "outputs": [
        {
          "output_type": "execute_result",
          "data": {
            "text/plain": [
              "4372"
            ]
          },
          "metadata": {},
          "execution_count": 8
        }
      ]
    },
    {
      "cell_type": "markdown",
      "metadata": {
        "id": "5wTCEfe04UV8"
      },
      "source": [
        "create invoce month column"
      ]
    },
    {
      "cell_type": "code",
      "metadata": {
        "colab": {
          "base_uri": "https://localhost:8080/",
          "height": 206
        },
        "id": "slmCQM0c3WWI",
        "outputId": "8cbf62d3-9700-4f06-f338-5b6e2fdaa17f"
      },
      "source": [
        "df['InvoiceDate'] = pd.to_datetime(df['InvoiceDate'])\n",
        "df['InvoiceMonth'] = df['InvoiceDate'].dt.to_period('M')\n",
        "\n",
        "df['TotalSales'] = np.multiply(df.Quantity, df.UnitPrice)\n",
        "\n",
        "df.head()"
      ],
      "execution_count": null,
      "outputs": [
        {
          "output_type": "execute_result",
          "data": {
            "text/html": [
              "<div>\n",
              "<style scoped>\n",
              "    .dataframe tbody tr th:only-of-type {\n",
              "        vertical-align: middle;\n",
              "    }\n",
              "\n",
              "    .dataframe tbody tr th {\n",
              "        vertical-align: top;\n",
              "    }\n",
              "\n",
              "    .dataframe thead th {\n",
              "        text-align: right;\n",
              "    }\n",
              "</style>\n",
              "<table border=\"1\" class=\"dataframe\">\n",
              "  <thead>\n",
              "    <tr style=\"text-align: right;\">\n",
              "      <th></th>\n",
              "      <th>InvoiceNo</th>\n",
              "      <th>StockCode</th>\n",
              "      <th>Description</th>\n",
              "      <th>Quantity</th>\n",
              "      <th>InvoiceDate</th>\n",
              "      <th>UnitPrice</th>\n",
              "      <th>CustomerID</th>\n",
              "      <th>Country</th>\n",
              "      <th>InvoiceMonth</th>\n",
              "      <th>TotalSales</th>\n",
              "    </tr>\n",
              "  </thead>\n",
              "  <tbody>\n",
              "    <tr>\n",
              "      <th>0</th>\n",
              "      <td>536365</td>\n",
              "      <td>85123A</td>\n",
              "      <td>WHITE HANGING HEART T-LIGHT HOLDER</td>\n",
              "      <td>6</td>\n",
              "      <td>2010-12-01 08:26:00</td>\n",
              "      <td>2.55</td>\n",
              "      <td>17850.0</td>\n",
              "      <td>United Kingdom</td>\n",
              "      <td>2010-12</td>\n",
              "      <td>15.30</td>\n",
              "    </tr>\n",
              "    <tr>\n",
              "      <th>1</th>\n",
              "      <td>536365</td>\n",
              "      <td>71053</td>\n",
              "      <td>WHITE METAL LANTERN</td>\n",
              "      <td>6</td>\n",
              "      <td>2010-12-01 08:26:00</td>\n",
              "      <td>3.39</td>\n",
              "      <td>17850.0</td>\n",
              "      <td>United Kingdom</td>\n",
              "      <td>2010-12</td>\n",
              "      <td>20.34</td>\n",
              "    </tr>\n",
              "    <tr>\n",
              "      <th>2</th>\n",
              "      <td>536365</td>\n",
              "      <td>84406B</td>\n",
              "      <td>CREAM CUPID HEARTS COAT HANGER</td>\n",
              "      <td>8</td>\n",
              "      <td>2010-12-01 08:26:00</td>\n",
              "      <td>2.75</td>\n",
              "      <td>17850.0</td>\n",
              "      <td>United Kingdom</td>\n",
              "      <td>2010-12</td>\n",
              "      <td>22.00</td>\n",
              "    </tr>\n",
              "    <tr>\n",
              "      <th>3</th>\n",
              "      <td>536365</td>\n",
              "      <td>84029G</td>\n",
              "      <td>KNITTED UNION FLAG HOT WATER BOTTLE</td>\n",
              "      <td>6</td>\n",
              "      <td>2010-12-01 08:26:00</td>\n",
              "      <td>3.39</td>\n",
              "      <td>17850.0</td>\n",
              "      <td>United Kingdom</td>\n",
              "      <td>2010-12</td>\n",
              "      <td>20.34</td>\n",
              "    </tr>\n",
              "    <tr>\n",
              "      <th>4</th>\n",
              "      <td>536365</td>\n",
              "      <td>84029E</td>\n",
              "      <td>RED WOOLLY HOTTIE WHITE HEART.</td>\n",
              "      <td>6</td>\n",
              "      <td>2010-12-01 08:26:00</td>\n",
              "      <td>3.39</td>\n",
              "      <td>17850.0</td>\n",
              "      <td>United Kingdom</td>\n",
              "      <td>2010-12</td>\n",
              "      <td>20.34</td>\n",
              "    </tr>\n",
              "  </tbody>\n",
              "</table>\n",
              "</div>"
            ],
            "text/plain": [
              "  InvoiceNo StockCode  ... InvoiceMonth  TotalSales\n",
              "0    536365    85123A  ...      2010-12       15.30\n",
              "1    536365     71053  ...      2010-12       20.34\n",
              "2    536365    84406B  ...      2010-12       22.00\n",
              "3    536365    84029G  ...      2010-12       20.34\n",
              "4    536365    84029E  ...      2010-12       20.34\n",
              "\n",
              "[5 rows x 10 columns]"
            ]
          },
          "metadata": {},
          "execution_count": 9
        }
      ]
    },
    {
      "cell_type": "markdown",
      "metadata": {
        "id": "EWtMcj2I7mHR"
      },
      "source": [
        "calculate basic CLV"
      ]
    },
    {
      "cell_type": "code",
      "metadata": {
        "colab": {
          "base_uri": "https://localhost:8080/"
        },
        "id": "MH6WjKji5Z2C",
        "outputId": "3c116be3-a22b-4e72-9b1f-a30959bdf318"
      },
      "source": [
        "# monthly spend per customer\n",
        "monthly_revenue = df.groupby(['CustomerID', 'InvoiceMonth'])['TotalSales'].sum()\n",
        "\n",
        "# monthly average spend\n",
        "monthly_revenue = np.mean(monthly_revenue)\n",
        "\n",
        "# define lifespan\n",
        "lifespan = 36 # months\n",
        "\n",
        "# calculate basic CLV\n",
        "clv_basic = monthly_revenue * lifespan\n",
        "\n",
        "# print the basic CLV value\n",
        "print('Average basic CLV is {:.1f} USD'.format(clv_basic))"
      ],
      "execution_count": null,
      "outputs": [
        {
          "output_type": "stream",
          "name": "stdout",
          "text": [
            "Average basic CLV is 21850.3 USD\n"
          ]
        }
      ]
    },
    {
      "cell_type": "markdown",
      "metadata": {
        "id": "gu9zbHr59bli"
      },
      "source": [
        "calculate granular CLV\n"
      ]
    },
    {
      "cell_type": "code",
      "metadata": {
        "colab": {
          "base_uri": "https://localhost:8080/"
        },
        "id": "MtghZ0Zp9K65",
        "outputId": "0787fe2b-34bb-43d6-c1bb-735b3fa833df"
      },
      "source": [
        "# calculate average revenue per invoice\n",
        "revenue_per_purchase = df.groupby(['InvoiceNo'])['TotalSales'].mean().mean()\n",
        "\n",
        "# calculate average number of unique invoices per customer per month\n",
        "frequency_per_month = df.groupby(['CustomerID','InvoiceMonth'])['InvoiceNo'].nunique().mean()\n",
        "\n",
        "# cefine lifespan to 36 months\n",
        "lifespan_months = 36\n",
        "\n",
        "# calculate granular CLV\n",
        "clv_granular = revenue_per_purchase * frequency_per_month * lifespan_months\n",
        "\n",
        "# Print granular CLV value\n",
        "print('Average granular CLV is {:.1f} USD'.format(clv_granular))"
      ],
      "execution_count": null,
      "outputs": [
        {
          "output_type": "stream",
          "name": "stdout",
          "text": [
            "Average granular CLV is 1183.6 USD\n"
          ]
        }
      ]
    },
    {
      "cell_type": "code",
      "metadata": {
        "colab": {
          "base_uri": "https://localhost:8080/",
          "height": 424
        },
        "id": "MuqAu49pFZoL",
        "outputId": "1be4f066-a6bf-438d-eda4-7d4b50cca079"
      },
      "source": [
        "df[df.TotalSales < 0]"
      ],
      "execution_count": null,
      "outputs": [
        {
          "output_type": "execute_result",
          "data": {
            "text/html": [
              "<div>\n",
              "<style scoped>\n",
              "    .dataframe tbody tr th:only-of-type {\n",
              "        vertical-align: middle;\n",
              "    }\n",
              "\n",
              "    .dataframe tbody tr th {\n",
              "        vertical-align: top;\n",
              "    }\n",
              "\n",
              "    .dataframe thead th {\n",
              "        text-align: right;\n",
              "    }\n",
              "</style>\n",
              "<table border=\"1\" class=\"dataframe\">\n",
              "  <thead>\n",
              "    <tr style=\"text-align: right;\">\n",
              "      <th></th>\n",
              "      <th>InvoiceNo</th>\n",
              "      <th>StockCode</th>\n",
              "      <th>Description</th>\n",
              "      <th>Quantity</th>\n",
              "      <th>InvoiceDate</th>\n",
              "      <th>UnitPrice</th>\n",
              "      <th>CustomerID</th>\n",
              "      <th>Country</th>\n",
              "      <th>InvoiceMonth</th>\n",
              "      <th>TotalSales</th>\n",
              "    </tr>\n",
              "  </thead>\n",
              "  <tbody>\n",
              "    <tr>\n",
              "      <th>141</th>\n",
              "      <td>C536379</td>\n",
              "      <td>D</td>\n",
              "      <td>Discount</td>\n",
              "      <td>-1</td>\n",
              "      <td>2010-12-01 09:41:00</td>\n",
              "      <td>27.50</td>\n",
              "      <td>14527.0</td>\n",
              "      <td>United Kingdom</td>\n",
              "      <td>2010-12</td>\n",
              "      <td>-27.50</td>\n",
              "    </tr>\n",
              "    <tr>\n",
              "      <th>154</th>\n",
              "      <td>C536383</td>\n",
              "      <td>35004C</td>\n",
              "      <td>SET OF 3 COLOURED  FLYING DUCKS</td>\n",
              "      <td>-1</td>\n",
              "      <td>2010-12-01 09:49:00</td>\n",
              "      <td>4.65</td>\n",
              "      <td>15311.0</td>\n",
              "      <td>United Kingdom</td>\n",
              "      <td>2010-12</td>\n",
              "      <td>-4.65</td>\n",
              "    </tr>\n",
              "    <tr>\n",
              "      <th>235</th>\n",
              "      <td>C536391</td>\n",
              "      <td>22556</td>\n",
              "      <td>PLASTERS IN TIN CIRCUS PARADE</td>\n",
              "      <td>-12</td>\n",
              "      <td>2010-12-01 10:24:00</td>\n",
              "      <td>1.65</td>\n",
              "      <td>17548.0</td>\n",
              "      <td>United Kingdom</td>\n",
              "      <td>2010-12</td>\n",
              "      <td>-19.80</td>\n",
              "    </tr>\n",
              "    <tr>\n",
              "      <th>236</th>\n",
              "      <td>C536391</td>\n",
              "      <td>21984</td>\n",
              "      <td>PACK OF 12 PINK PAISLEY TISSUES</td>\n",
              "      <td>-24</td>\n",
              "      <td>2010-12-01 10:24:00</td>\n",
              "      <td>0.29</td>\n",
              "      <td>17548.0</td>\n",
              "      <td>United Kingdom</td>\n",
              "      <td>2010-12</td>\n",
              "      <td>-6.96</td>\n",
              "    </tr>\n",
              "    <tr>\n",
              "      <th>237</th>\n",
              "      <td>C536391</td>\n",
              "      <td>21983</td>\n",
              "      <td>PACK OF 12 BLUE PAISLEY TISSUES</td>\n",
              "      <td>-24</td>\n",
              "      <td>2010-12-01 10:24:00</td>\n",
              "      <td>0.29</td>\n",
              "      <td>17548.0</td>\n",
              "      <td>United Kingdom</td>\n",
              "      <td>2010-12</td>\n",
              "      <td>-6.96</td>\n",
              "    </tr>\n",
              "    <tr>\n",
              "      <th>...</th>\n",
              "      <td>...</td>\n",
              "      <td>...</td>\n",
              "      <td>...</td>\n",
              "      <td>...</td>\n",
              "      <td>...</td>\n",
              "      <td>...</td>\n",
              "      <td>...</td>\n",
              "      <td>...</td>\n",
              "      <td>...</td>\n",
              "      <td>...</td>\n",
              "    </tr>\n",
              "    <tr>\n",
              "      <th>540449</th>\n",
              "      <td>C581490</td>\n",
              "      <td>23144</td>\n",
              "      <td>ZINC T-LIGHT HOLDER STARS SMALL</td>\n",
              "      <td>-11</td>\n",
              "      <td>2011-12-09 09:57:00</td>\n",
              "      <td>0.83</td>\n",
              "      <td>14397.0</td>\n",
              "      <td>United Kingdom</td>\n",
              "      <td>2011-12</td>\n",
              "      <td>-9.13</td>\n",
              "    </tr>\n",
              "    <tr>\n",
              "      <th>541541</th>\n",
              "      <td>C581499</td>\n",
              "      <td>M</td>\n",
              "      <td>Manual</td>\n",
              "      <td>-1</td>\n",
              "      <td>2011-12-09 10:28:00</td>\n",
              "      <td>224.69</td>\n",
              "      <td>15498.0</td>\n",
              "      <td>United Kingdom</td>\n",
              "      <td>2011-12</td>\n",
              "      <td>-224.69</td>\n",
              "    </tr>\n",
              "    <tr>\n",
              "      <th>541715</th>\n",
              "      <td>C581568</td>\n",
              "      <td>21258</td>\n",
              "      <td>VICTORIAN SEWING BOX LARGE</td>\n",
              "      <td>-5</td>\n",
              "      <td>2011-12-09 11:57:00</td>\n",
              "      <td>10.95</td>\n",
              "      <td>15311.0</td>\n",
              "      <td>United Kingdom</td>\n",
              "      <td>2011-12</td>\n",
              "      <td>-54.75</td>\n",
              "    </tr>\n",
              "    <tr>\n",
              "      <th>541716</th>\n",
              "      <td>C581569</td>\n",
              "      <td>84978</td>\n",
              "      <td>HANGING HEART JAR T-LIGHT HOLDER</td>\n",
              "      <td>-1</td>\n",
              "      <td>2011-12-09 11:58:00</td>\n",
              "      <td>1.25</td>\n",
              "      <td>17315.0</td>\n",
              "      <td>United Kingdom</td>\n",
              "      <td>2011-12</td>\n",
              "      <td>-1.25</td>\n",
              "    </tr>\n",
              "    <tr>\n",
              "      <th>541717</th>\n",
              "      <td>C581569</td>\n",
              "      <td>20979</td>\n",
              "      <td>36 PENCILS TUBE RED RETROSPOT</td>\n",
              "      <td>-5</td>\n",
              "      <td>2011-12-09 11:58:00</td>\n",
              "      <td>1.25</td>\n",
              "      <td>17315.0</td>\n",
              "      <td>United Kingdom</td>\n",
              "      <td>2011-12</td>\n",
              "      <td>-6.25</td>\n",
              "    </tr>\n",
              "  </tbody>\n",
              "</table>\n",
              "<p>9290 rows × 10 columns</p>\n",
              "</div>"
            ],
            "text/plain": [
              "       InvoiceNo StockCode  ... InvoiceMonth  TotalSales\n",
              "141      C536379         D  ...      2010-12      -27.50\n",
              "154      C536383    35004C  ...      2010-12       -4.65\n",
              "235      C536391     22556  ...      2010-12      -19.80\n",
              "236      C536391     21984  ...      2010-12       -6.96\n",
              "237      C536391     21983  ...      2010-12       -6.96\n",
              "...          ...       ...  ...          ...         ...\n",
              "540449   C581490     23144  ...      2011-12       -9.13\n",
              "541541   C581499         M  ...      2011-12     -224.69\n",
              "541715   C581568     21258  ...      2011-12      -54.75\n",
              "541716   C581569     84978  ...      2011-12       -1.25\n",
              "541717   C581569     20979  ...      2011-12       -6.25\n",
              "\n",
              "[9290 rows x 10 columns]"
            ]
          },
          "metadata": {},
          "execution_count": 12
        }
      ]
    },
    {
      "cell_type": "markdown",
      "metadata": {
        "id": "NZUNAAwlZRLc"
      },
      "source": [
        "# Understanding the RFM DataFrame"
      ]
    },
    {
      "cell_type": "code",
      "metadata": {
        "colab": {
          "base_uri": "https://localhost:8080/"
        },
        "id": "kbt5XtgB-9aA",
        "outputId": "c4adfcf1-eb6d-4e58-95cc-5c13110442ce"
      },
      "source": [
        "!pip install lifetimes\n",
        "from lifetimes.utils import *"
      ],
      "execution_count": null,
      "outputs": [
        {
          "output_type": "stream",
          "name": "stdout",
          "text": [
            "Collecting lifetimes\n",
            "  Downloading Lifetimes-0.11.3-py3-none-any.whl (584 kB)\n",
            "\u001b[?25l\r\u001b[K     |▋                               | 10 kB 39.1 MB/s eta 0:00:01\r\u001b[K     |█▏                              | 20 kB 37.5 MB/s eta 0:00:01\r\u001b[K     |█▊                              | 30 kB 44.5 MB/s eta 0:00:01\r\u001b[K     |██▎                             | 40 kB 26.4 MB/s eta 0:00:01\r\u001b[K     |██▉                             | 51 kB 16.0 MB/s eta 0:00:01\r\u001b[K     |███▍                            | 61 kB 14.5 MB/s eta 0:00:01\r\u001b[K     |████                            | 71 kB 12.4 MB/s eta 0:00:01\r\u001b[K     |████▌                           | 81 kB 13.4 MB/s eta 0:00:01\r\u001b[K     |█████                           | 92 kB 14.8 MB/s eta 0:00:01\r\u001b[K     |█████▋                          | 102 kB 13.9 MB/s eta 0:00:01\r\u001b[K     |██████▏                         | 112 kB 13.9 MB/s eta 0:00:01\r\u001b[K     |██████▊                         | 122 kB 13.9 MB/s eta 0:00:01\r\u001b[K     |███████▎                        | 133 kB 13.9 MB/s eta 0:00:01\r\u001b[K     |███████▉                        | 143 kB 13.9 MB/s eta 0:00:01\r\u001b[K     |████████▍                       | 153 kB 13.9 MB/s eta 0:00:01\r\u001b[K     |█████████                       | 163 kB 13.9 MB/s eta 0:00:01\r\u001b[K     |█████████▌                      | 174 kB 13.9 MB/s eta 0:00:01\r\u001b[K     |██████████                      | 184 kB 13.9 MB/s eta 0:00:01\r\u001b[K     |██████████▋                     | 194 kB 13.9 MB/s eta 0:00:01\r\u001b[K     |███████████▏                    | 204 kB 13.9 MB/s eta 0:00:01\r\u001b[K     |███████████▉                    | 215 kB 13.9 MB/s eta 0:00:01\r\u001b[K     |████████████▍                   | 225 kB 13.9 MB/s eta 0:00:01\r\u001b[K     |█████████████                   | 235 kB 13.9 MB/s eta 0:00:01\r\u001b[K     |█████████████▌                  | 245 kB 13.9 MB/s eta 0:00:01\r\u001b[K     |██████████████                  | 256 kB 13.9 MB/s eta 0:00:01\r\u001b[K     |██████████████▋                 | 266 kB 13.9 MB/s eta 0:00:01\r\u001b[K     |███████████████▏                | 276 kB 13.9 MB/s eta 0:00:01\r\u001b[K     |███████████████▊                | 286 kB 13.9 MB/s eta 0:00:01\r\u001b[K     |████████████████▎               | 296 kB 13.9 MB/s eta 0:00:01\r\u001b[K     |████████████████▉               | 307 kB 13.9 MB/s eta 0:00:01\r\u001b[K     |█████████████████▍              | 317 kB 13.9 MB/s eta 0:00:01\r\u001b[K     |██████████████████              | 327 kB 13.9 MB/s eta 0:00:01\r\u001b[K     |██████████████████▌             | 337 kB 13.9 MB/s eta 0:00:01\r\u001b[K     |███████████████████             | 348 kB 13.9 MB/s eta 0:00:01\r\u001b[K     |███████████████████▋            | 358 kB 13.9 MB/s eta 0:00:01\r\u001b[K     |████████████████████▏           | 368 kB 13.9 MB/s eta 0:00:01\r\u001b[K     |████████████████████▊           | 378 kB 13.9 MB/s eta 0:00:01\r\u001b[K     |█████████████████████▎          | 389 kB 13.9 MB/s eta 0:00:01\r\u001b[K     |█████████████████████▉          | 399 kB 13.9 MB/s eta 0:00:01\r\u001b[K     |██████████████████████▍         | 409 kB 13.9 MB/s eta 0:00:01\r\u001b[K     |███████████████████████         | 419 kB 13.9 MB/s eta 0:00:01\r\u001b[K     |███████████████████████▋        | 430 kB 13.9 MB/s eta 0:00:01\r\u001b[K     |████████████████████████▏       | 440 kB 13.9 MB/s eta 0:00:01\r\u001b[K     |████████████████████████▊       | 450 kB 13.9 MB/s eta 0:00:01\r\u001b[K     |█████████████████████████▎      | 460 kB 13.9 MB/s eta 0:00:01\r\u001b[K     |█████████████████████████▉      | 471 kB 13.9 MB/s eta 0:00:01\r\u001b[K     |██████████████████████████▍     | 481 kB 13.9 MB/s eta 0:00:01\r\u001b[K     |███████████████████████████     | 491 kB 13.9 MB/s eta 0:00:01\r\u001b[K     |███████████████████████████▌    | 501 kB 13.9 MB/s eta 0:00:01\r\u001b[K     |████████████████████████████    | 512 kB 13.9 MB/s eta 0:00:01\r\u001b[K     |████████████████████████████▋   | 522 kB 13.9 MB/s eta 0:00:01\r\u001b[K     |█████████████████████████████▏  | 532 kB 13.9 MB/s eta 0:00:01\r\u001b[K     |█████████████████████████████▊  | 542 kB 13.9 MB/s eta 0:00:01\r\u001b[K     |██████████████████████████████▎ | 552 kB 13.9 MB/s eta 0:00:01\r\u001b[K     |██████████████████████████████▉ | 563 kB 13.9 MB/s eta 0:00:01\r\u001b[K     |███████████████████████████████▍| 573 kB 13.9 MB/s eta 0:00:01\r\u001b[K     |████████████████████████████████| 583 kB 13.9 MB/s eta 0:00:01\r\u001b[K     |████████████████████████████████| 584 kB 13.9 MB/s \n",
            "\u001b[?25hRequirement already satisfied: pandas>=0.24.0 in /usr/local/lib/python3.7/dist-packages (from lifetimes) (1.1.5)\n",
            "Requirement already satisfied: autograd>=1.2.0 in /usr/local/lib/python3.7/dist-packages (from lifetimes) (1.3)\n",
            "Requirement already satisfied: scipy>=1.0.0 in /usr/local/lib/python3.7/dist-packages (from lifetimes) (1.4.1)\n",
            "Requirement already satisfied: dill>=0.2.6 in /usr/local/lib/python3.7/dist-packages (from lifetimes) (0.3.4)\n",
            "Requirement already satisfied: numpy>=1.10.0 in /usr/local/lib/python3.7/dist-packages (from lifetimes) (1.19.5)\n",
            "Requirement already satisfied: future>=0.15.2 in /usr/local/lib/python3.7/dist-packages (from autograd>=1.2.0->lifetimes) (0.16.0)\n",
            "Requirement already satisfied: python-dateutil>=2.7.3 in /usr/local/lib/python3.7/dist-packages (from pandas>=0.24.0->lifetimes) (2.8.2)\n",
            "Requirement already satisfied: pytz>=2017.2 in /usr/local/lib/python3.7/dist-packages (from pandas>=0.24.0->lifetimes) (2018.9)\n",
            "Requirement already satisfied: six>=1.5 in /usr/local/lib/python3.7/dist-packages (from python-dateutil>=2.7.3->pandas>=0.24.0->lifetimes) (1.15.0)\n",
            "Installing collected packages: lifetimes\n",
            "Successfully installed lifetimes-0.11.3\n"
          ]
        }
      ]
    },
    {
      "cell_type": "code",
      "metadata": {
        "colab": {
          "base_uri": "https://localhost:8080/"
        },
        "id": "_SOdmEuICzxN",
        "outputId": "60b9f50a-6e7b-4ec0-cdd4-00a9940cdc8c"
      },
      "source": [
        "summary = summary_data_from_transaction_data(df,'CustomerID','InvoiceDate',monetary_value_col='UnitPrice',)\n",
        "summary.describe()"
      ],
      "execution_count": null,
      "outputs": [
        {
          "output_type": "execute_result",
          "data": {
            "text/html": [
              "<div>\n",
              "<style scoped>\n",
              "    .dataframe tbody tr th:only-of-type {\n",
              "        vertical-align: middle;\n",
              "    }\n",
              "\n",
              "    .dataframe tbody tr th {\n",
              "        vertical-align: top;\n",
              "    }\n",
              "\n",
              "    .dataframe thead th {\n",
              "        text-align: right;\n",
              "    }\n",
              "</style>\n",
              "<table border=\"1\" class=\"dataframe\">\n",
              "  <thead>\n",
              "    <tr style=\"text-align: right;\">\n",
              "      <th></th>\n",
              "      <th>frequency</th>\n",
              "      <th>recency</th>\n",
              "      <th>T</th>\n",
              "      <th>monetary_value</th>\n",
              "    </tr>\n",
              "  </thead>\n",
              "  <tbody>\n",
              "    <tr>\n",
              "      <th>count</th>\n",
              "      <td>4372.000000</td>\n",
              "      <td>4372.000000</td>\n",
              "      <td>4372.000000</td>\n",
              "      <td>4372.000000</td>\n",
              "    </tr>\n",
              "    <tr>\n",
              "      <th>mean</th>\n",
              "      <td>3.413541</td>\n",
              "      <td>133.723010</td>\n",
              "      <td>225.304209</td>\n",
              "      <td>44.005153</td>\n",
              "    </tr>\n",
              "    <tr>\n",
              "      <th>std</th>\n",
              "      <td>6.674343</td>\n",
              "      <td>133.000474</td>\n",
              "      <td>118.384168</td>\n",
              "      <td>140.603924</td>\n",
              "    </tr>\n",
              "    <tr>\n",
              "      <th>min</th>\n",
              "      <td>0.000000</td>\n",
              "      <td>0.000000</td>\n",
              "      <td>0.000000</td>\n",
              "      <td>0.000000</td>\n",
              "    </tr>\n",
              "    <tr>\n",
              "      <th>25%</th>\n",
              "      <td>0.000000</td>\n",
              "      <td>0.000000</td>\n",
              "      <td>115.000000</td>\n",
              "      <td>0.000000</td>\n",
              "    </tr>\n",
              "    <tr>\n",
              "      <th>50%</th>\n",
              "      <td>1.000000</td>\n",
              "      <td>98.000000</td>\n",
              "      <td>253.000000</td>\n",
              "      <td>23.123333</td>\n",
              "    </tr>\n",
              "    <tr>\n",
              "      <th>75%</th>\n",
              "      <td>4.000000</td>\n",
              "      <td>256.000000</td>\n",
              "      <td>331.000000</td>\n",
              "      <td>57.074375</td>\n",
              "    </tr>\n",
              "    <tr>\n",
              "      <th>max</th>\n",
              "      <td>145.000000</td>\n",
              "      <td>373.000000</td>\n",
              "      <td>373.000000</td>\n",
              "      <td>6253.205000</td>\n",
              "    </tr>\n",
              "  </tbody>\n",
              "</table>\n",
              "</div>"
            ],
            "text/plain": [
              "         frequency      recency            T  monetary_value\n",
              "count  4372.000000  4372.000000  4372.000000     4372.000000\n",
              "mean      3.413541   133.723010   225.304209       44.005153\n",
              "std       6.674343   133.000474   118.384168      140.603924\n",
              "min       0.000000     0.000000     0.000000        0.000000\n",
              "25%       0.000000     0.000000   115.000000        0.000000\n",
              "50%       1.000000    98.000000   253.000000       23.123333\n",
              "75%       4.000000   256.000000   331.000000       57.074375\n",
              "max     145.000000   373.000000   373.000000     6253.205000"
            ]
          },
          "metadata": {},
          "execution_count": 14
        }
      ]
    },
    {
      "cell_type": "code",
      "metadata": {
        "colab": {
          "base_uri": "https://localhost:8080/"
        },
        "id": "vq_wx8hXDovF",
        "outputId": "a025dff1-3c42-48bb-d706-4321c6388c51"
      },
      "source": [
        "summary.head()"
      ],
      "execution_count": null,
      "outputs": [
        {
          "output_type": "execute_result",
          "data": {
            "text/html": [
              "<div>\n",
              "<style scoped>\n",
              "    .dataframe tbody tr th:only-of-type {\n",
              "        vertical-align: middle;\n",
              "    }\n",
              "\n",
              "    .dataframe tbody tr th {\n",
              "        vertical-align: top;\n",
              "    }\n",
              "\n",
              "    .dataframe thead th {\n",
              "        text-align: right;\n",
              "    }\n",
              "</style>\n",
              "<table border=\"1\" class=\"dataframe\">\n",
              "  <thead>\n",
              "    <tr style=\"text-align: right;\">\n",
              "      <th></th>\n",
              "      <th>frequency</th>\n",
              "      <th>recency</th>\n",
              "      <th>T</th>\n",
              "      <th>monetary_value</th>\n",
              "    </tr>\n",
              "    <tr>\n",
              "      <th>CustomerID</th>\n",
              "      <th></th>\n",
              "      <th></th>\n",
              "      <th></th>\n",
              "      <th></th>\n",
              "    </tr>\n",
              "  </thead>\n",
              "  <tbody>\n",
              "    <tr>\n",
              "      <th>12346.0</th>\n",
              "      <td>0.0</td>\n",
              "      <td>0.0</td>\n",
              "      <td>325.0</td>\n",
              "      <td>0.000000</td>\n",
              "    </tr>\n",
              "    <tr>\n",
              "      <th>12347.0</th>\n",
              "      <td>6.0</td>\n",
              "      <td>365.0</td>\n",
              "      <td>367.0</td>\n",
              "      <td>65.270000</td>\n",
              "    </tr>\n",
              "    <tr>\n",
              "      <th>12348.0</th>\n",
              "      <td>3.0</td>\n",
              "      <td>283.0</td>\n",
              "      <td>358.0</td>\n",
              "      <td>43.036667</td>\n",
              "    </tr>\n",
              "    <tr>\n",
              "      <th>12349.0</th>\n",
              "      <td>0.0</td>\n",
              "      <td>0.0</td>\n",
              "      <td>18.0</td>\n",
              "      <td>0.000000</td>\n",
              "    </tr>\n",
              "    <tr>\n",
              "      <th>12350.0</th>\n",
              "      <td>0.0</td>\n",
              "      <td>0.0</td>\n",
              "      <td>310.0</td>\n",
              "      <td>0.000000</td>\n",
              "    </tr>\n",
              "  </tbody>\n",
              "</table>\n",
              "</div>"
            ],
            "text/plain": [
              "            frequency  recency      T  monetary_value\n",
              "CustomerID                                           \n",
              "12346.0           0.0      0.0  325.0        0.000000\n",
              "12347.0           6.0    365.0  367.0       65.270000\n",
              "12348.0           3.0    283.0  358.0       43.036667\n",
              "12349.0           0.0      0.0   18.0        0.000000\n",
              "12350.0           0.0      0.0  310.0        0.000000"
            ]
          },
          "metadata": {},
          "execution_count": 15
        }
      ]
    },
    {
      "cell_type": "markdown",
      "metadata": {
        "id": "TS4bDvh1D-Tf"
      },
      "source": [
        "The summary function converted customer transactions into an aggregated table.Many of the customers have frequency, recency, and monetary = 0, like customer 12346. That's because Lifetimes only considers customers who have made repeat purchases into account.\n",
        "\n",
        "\n",
        "Using days as time periods (can also be defined as weeks or months), variables are defined like so for the Lifetimes model:\n",
        " - **frequency**: # of days in which a customer made a repeat purchase\n",
        " - **T**: customer's age in days\n",
        " - **recency**: customer's age in days at time of most recent purchase\n",
        " - **monetary_value:** mean of a customer's purchases, excluding the 1st purchase\n",
        "\n"
      ]
    },
    {
      "cell_type": "markdown",
      "metadata": {
        "id": "CL0O029mE4Ii"
      },
      "source": [
        "**frequency** excludes the customer's first purchase because that is considered the day the customer is born. Afterwards, you can begin to question whether or not that customer is alive."
      ]
    },
    {
      "cell_type": "code",
      "metadata": {
        "colab": {
          "base_uri": "https://localhost:8080/"
        },
        "id": "cgycsfZvDrnl",
        "outputId": "a4f95e2a-5d33-4401-ac79-e8053d532bdb"
      },
      "source": [
        "summary[summary['frequency']>0].head()"
      ],
      "execution_count": null,
      "outputs": [
        {
          "output_type": "execute_result",
          "data": {
            "text/html": [
              "<div>\n",
              "<style scoped>\n",
              "    .dataframe tbody tr th:only-of-type {\n",
              "        vertical-align: middle;\n",
              "    }\n",
              "\n",
              "    .dataframe tbody tr th {\n",
              "        vertical-align: top;\n",
              "    }\n",
              "\n",
              "    .dataframe thead th {\n",
              "        text-align: right;\n",
              "    }\n",
              "</style>\n",
              "<table border=\"1\" class=\"dataframe\">\n",
              "  <thead>\n",
              "    <tr style=\"text-align: right;\">\n",
              "      <th></th>\n",
              "      <th>frequency</th>\n",
              "      <th>recency</th>\n",
              "      <th>T</th>\n",
              "      <th>monetary_value</th>\n",
              "    </tr>\n",
              "    <tr>\n",
              "      <th>CustomerID</th>\n",
              "      <th></th>\n",
              "      <th></th>\n",
              "      <th></th>\n",
              "      <th></th>\n",
              "    </tr>\n",
              "  </thead>\n",
              "  <tbody>\n",
              "    <tr>\n",
              "      <th>12347.0</th>\n",
              "      <td>6.0</td>\n",
              "      <td>365.0</td>\n",
              "      <td>367.0</td>\n",
              "      <td>65.270000</td>\n",
              "    </tr>\n",
              "    <tr>\n",
              "      <th>12348.0</th>\n",
              "      <td>3.0</td>\n",
              "      <td>283.0</td>\n",
              "      <td>358.0</td>\n",
              "      <td>43.036667</td>\n",
              "    </tr>\n",
              "    <tr>\n",
              "      <th>12352.0</th>\n",
              "      <td>6.0</td>\n",
              "      <td>260.0</td>\n",
              "      <td>296.0</td>\n",
              "      <td>357.125000</td>\n",
              "    </tr>\n",
              "    <tr>\n",
              "      <th>12356.0</th>\n",
              "      <td>2.0</td>\n",
              "      <td>303.0</td>\n",
              "      <td>325.0</td>\n",
              "      <td>37.345000</td>\n",
              "    </tr>\n",
              "    <tr>\n",
              "      <th>12358.0</th>\n",
              "      <td>1.0</td>\n",
              "      <td>149.0</td>\n",
              "      <td>150.0</td>\n",
              "      <td>64.580000</td>\n",
              "    </tr>\n",
              "  </tbody>\n",
              "</table>\n",
              "</div>"
            ],
            "text/plain": [
              "            frequency  recency      T  monetary_value\n",
              "CustomerID                                           \n",
              "12347.0           6.0    365.0  367.0       65.270000\n",
              "12348.0           3.0    283.0  358.0       43.036667\n",
              "12352.0           6.0    260.0  296.0      357.125000\n",
              "12356.0           2.0    303.0  325.0       37.345000\n",
              "12358.0           1.0    149.0  150.0       64.580000"
            ]
          },
          "metadata": {},
          "execution_count": 16
        }
      ]
    },
    {
      "cell_type": "code",
      "metadata": {
        "colab": {
          "base_uri": "https://localhost:8080/"
        },
        "id": "nSZjKLJbEzDM",
        "outputId": "f4d8e73a-d539-4022-81b5-82226c800c64"
      },
      "source": [
        "df[df['CustomerID']==12437.0]['TotalSales'].value_counts()"
      ],
      "execution_count": null,
      "outputs": [
        {
          "output_type": "execute_result",
          "data": {
            "text/plain": [
              "30.00    19\n",
              "10.20    16\n",
              "19.80    11\n",
              "17.40     8\n",
              "30.60     7\n",
              "         ..\n",
              "31.20     1\n",
              "6.64      1\n",
              "12.75     1\n",
              "13.50     1\n",
              "40.80     1\n",
              "Name: TotalSales, Length: 70, dtype: int64"
            ]
          },
          "metadata": {},
          "execution_count": 17
        }
      ]
    },
    {
      "cell_type": "markdown",
      "metadata": {
        "id": "3RaIq6f7Y9Rw"
      },
      "source": [
        "# Vizualizig RFM DataFrame \n",
        "We’re going to use the Beta-Geometric/NBD (BG/NBD) model for customer churn. The BG/NBD model is an adaptation of the Pareto/NBD model. Both models describe repeat purchasing patterns in businesses where customer turnover is unobserved; however, the BG/NBD is much more computationally feasible."
      ]
    },
    {
      "cell_type": "code",
      "metadata": {
        "id": "m2h_X60XFk2k"
      },
      "source": [
        "from lifetimes import BetaGeoFitter,GammaGammaFitter\n",
        "from lifetimes.plotting import plot_probability_alive_matrix, plot_frequency_recency_matrix, plot_period_transactions, plot_cumulative_transactions,plot_incremental_transactions\n",
        "from lifetimes.generate_data import beta_geometric_nbd_model\n",
        "from lifetimes.plotting import plot_calibration_purchases_vs_holdout_purchases, plot_period_transactions,plot_history_alive"
      ],
      "execution_count": null,
      "outputs": []
    },
    {
      "cell_type": "markdown",
      "metadata": {
        "id": "89t00wCnZo0a"
      },
      "source": [
        "Assumptions of the BG/NBD model:\n",
        " - A customer’s relationship has two phases: “alive” for an unobserved period of time, then “dead”\n",
        " - While alive, the number of transactions made by a customer follows a Poisson distribution with transaction rate lambda\n",
        " - Heterogeneity in lambda follows a gamma distribution\n",
        " - After any transaction, a customer dies with probability p; the probability that a customer dies after a number of transactions follows a geometric distribution\n",
        " - p follows a beta distribution\n",
        " - Lambda and p vary independently across customers"
      ]
    },
    {
      "cell_type": "markdown",
      "metadata": {
        "id": "KYpzz7qYbceC"
      },
      "source": [
        "### Example Poisson Distribution"
      ]
    },
    {
      "cell_type": "code",
      "metadata": {
        "colab": {
          "base_uri": "https://localhost:8080/"
        },
        "id": "jJBzGcYNbZbJ",
        "outputId": "8c3f1ec6-40f6-4506-eb52-257c57fa6b29"
      },
      "source": [
        "# making Poisson distributed variable with 100 observations\n",
        "np.random.seed(42)\n",
        "poisson = np.random.poisson(5, 100)\n",
        "\n",
        "# sorting variable in ascending order\n",
        "poisson.sort()\n",
        "\n",
        "# plotting a histogram of Gumbel distribution\n",
        "plt.hist(poisson, bins = 20, color = 'brown')\n",
        "\n",
        "# adding a vertical line at the mean\n",
        "plt.axvline(poisson.mean(), color = 'c', linestyle ='solid', linewidth = 2)\n",
        "\n",
        "# adding a vertical line at one standard deviation above the mean\n",
        "plt.axvline(poisson.mean()+poisson.std(), color = 'c', linestyle = 'dashed', linewidth = 2)\n",
        "\n",
        "# adding a vertical line at one standard deviation below the mean\n",
        "plt.axvline(poisson.mean()-poisson.std(), color = 'c', linestyle = 'dashed', linewidth = 2)\n",
        "plt.show()\n"
      ],
      "execution_count": null,
      "outputs": [
        {
          "output_type": "display_data",
          "data": {
            "image/png": "[encoded data removed]",
            "text/plain": [
              "<Figure size 432x288 with 1 Axes>"
            ]
          },
          "metadata": {
            "needs_background": "light"
          }
        }
      ]
    },
    {
      "cell_type": "markdown",
      "metadata": {
        "id": "71mUFhLdbL2h"
      },
      "source": [
        "### Example Gamma distribution"
      ]
    },
    {
      "cell_type": "code",
      "metadata": {
        "colab": {
          "base_uri": "https://localhost:8080/"
        },
        "id": "qROMBZY8bRb9",
        "outputId": "d1aff665-ed6d-4595-deca-7f994a922097"
      },
      "source": [
        "# making Gamma distrubuted variable with 100 observations\n",
        "np.random.seed(42)\n",
        "gamma = np.random.gamma(5, 20, 100)\n",
        "\n",
        "# sorting variable in ascending order\n",
        "gamma.sort()\n",
        "\n",
        "# plotting a histogrm of Gamma distribution\n",
        "plt.hist(gamma, bins = 20, color = 'brown')\n",
        "\n",
        "# adding a vertical line at the mean\n",
        "plt.axvline(gamma.mean(), color = 'c', linestyle = 'solid', linewidth = 2)\n",
        "\n",
        "# adding a vertical line at one standard deviation above the mean\n",
        "plt.axvline(gamma.mean()+gamma.std(), color = 'c', linestyle = 'dashed', linewidth = 2)\n",
        "\n",
        "# adding a vertical line at one standard deviation below the mean\n",
        "plt.axvline(gamma.mean()-gamma.std(), color = 'c', linestyle = 'dashed', linewidth = 2)\n",
        "plt.show()"
      ],
      "execution_count": null,
      "outputs": [
        {
          "output_type": "display_data",
          "data": {
            "image/png": "[encoded data removed]",
            "text/plain": [
              "<Figure size 432x288 with 1 Axes>"
            ]
          },
          "metadata": {
            "needs_background": "light"
          }
        }
      ]
    },
    {
      "cell_type": "markdown",
      "metadata": {
        "id": "CpQR2ZiBcGWR"
      },
      "source": [
        "### Example Beta Distribution"
      ]
    },
    {
      "cell_type": "code",
      "metadata": {
        "colab": {
          "base_uri": "https://localhost:8080/"
        },
        "id": "h4e2R2s9bS6w",
        "outputId": "842b7699-d328-489f-a1ec-0296071663b3"
      },
      "source": [
        "np.random.seed(42)\n",
        "beta = np.random.beta(81, 219, 100)\n",
        "\n",
        "# sorting variable in ascending order\n",
        "beta.sort()\n",
        "\n",
        "# plotting a histogram for Beta distribution \n",
        "plt.hist(beta, bins = 20, color = 'brown')\n",
        "\n",
        "# adding a vertical line at the mean.\n",
        "plt.axvline(beta.mean(), color = 'c', linestyle = 'solid', linewidth = 2)\n",
        "\n",
        "# adding a vertical line at one standard deviation above the mean\n",
        "plt.axvline(beta.mean() + beta.std(), color = 'c', linestyle = 'dashed', linewidth = 2)\n",
        "\n",
        "# adding a vertical line at one standard deviation below the mean\n",
        "plt.axvline(beta.mean()-beta.std(), color = 'c', linestyle = 'dashed', linewidth = 2)\n",
        "plt.show()"
      ],
      "execution_count": null,
      "outputs": [
        {
          "output_type": "display_data",
          "data": {
            "image/png": "[encoded data removed]",
            "text/plain": [
              "<Figure size 432x288 with 1 Axes>"
            ]
          },
          "metadata": {
            "needs_background": "light"
          }
        }
      ]
    },
    {
      "cell_type": "code",
      "metadata": {
        "id": "BeSi661zce-I",
        "colab": {
          "base_uri": "https://localhost:8080/"
        },
        "outputId": "4c269308-e3a7-42c7-f4d4-07531b293d25"
      },
      "source": [
        "bgf = BetaGeoFitter(penalizer_coef=0.0)\n",
        "bgf.fit(summary['frequency'], summary['recency'], summary['T'])"
      ],
      "execution_count": null,
      "outputs": [
        {
          "output_type": "execute_result",
          "data": {
            "text/plain": [
              "<lifetimes.BetaGeoFitter: fitted with 4372 subjects, a: 0.02, alpha: 55.62, b: 0.49, r: 0.84>"
            ]
          },
          "metadata": {},
          "execution_count": 22
        }
      ]
    },
    {
      "cell_type": "code",
      "metadata": {
        "colab": {
          "base_uri": "https://localhost:8080/"
        },
        "id": "ZFvEzbpbcgn_",
        "outputId": "b81cf0f6-abe2-4bcd-8ae8-7a2ccefc1fe8"
      },
      "source": [
        "plot_frequency_recency_matrix(bgf)"
      ],
      "execution_count": null,
      "outputs": [
        {
          "output_type": "execute_result",
          "data": {
            "text/plain": [
              "<matplotlib.axes._subplots.AxesSubplot at 0x7fe5bc7f7d50>"
            ]
          },
          "metadata": {},
          "execution_count": 23
        },
        {
          "output_type": "display_data",
          "data": {
            "image/png": "[encoded data removed]",
            "text/plain": [
              "<Figure size 432x288 with 2 Axes>"
            ]
          },
          "metadata": {
            "needs_background": "light"
          }
        }
      ]
    },
    {
      "cell_type": "code",
      "metadata": {
        "colab": {
          "base_uri": "https://localhost:8080/"
        },
        "id": "m0gXXCgnckRH",
        "outputId": "ef01e249-b01e-4e11-f9e4-510ec370bb14"
      },
      "source": [
        "plot_probability_alive_matrix(bgf)"
      ],
      "execution_count": null,
      "outputs": [
        {
          "output_type": "execute_result",
          "data": {
            "text/plain": [
              "<matplotlib.axes._subplots.AxesSubplot at 0x7fe5bc805390>"
            ]
          },
          "metadata": {},
          "execution_count": 24
        },
        {
          "output_type": "display_data",
          "data": {
            "image/png": "[encoded data removed]",
            "text/plain": [
              "<Figure size 432x288 with 2 Axes>"
            ]
          },
          "metadata": {
            "needs_background": "light"
          }
        }
      ]
    },
    {
      "cell_type": "markdown",
      "metadata": {
        "id": "pDxeLrl1c3j7"
      },
      "source": [
        "# Training a model and evaluating model performance\n",
        "\n",
        "Next we want to evaluate the model to see how well it performs in the future. I’ll split the data into a training (calibration) period and a holdout (observation) period, train the BG/NBD model and evaluate performance with four plots"
      ]
    },
    {
      "cell_type": "markdown",
      "metadata": {
        "id": "iql2IP8KdL4C"
      },
      "source": [
        "### 1. Calibration period histogram: does the model fit the training data?\n",
        "\n"
      ]
    },
    {
      "cell_type": "code",
      "metadata": {
        "colab": {
          "base_uri": "https://localhost:8080/"
        },
        "id": "YJZgb4wwcpk_",
        "outputId": "1e2341a1-1651-4562-e7f7-e38fa1ce0247"
      },
      "source": [
        "plot_period_transactions(bgf).set_yscale('log')"
      ],
      "execution_count": null,
      "outputs": [
        {
          "output_type": "display_data",
          "data": {
            "image/png": "[encoded data removed]",
            "text/plain": [
              "<Figure size 432x288 with 1 Axes>"
            ]
          },
          "metadata": {
            "needs_background": "light"
          }
        }
      ]
    },
    {
      "cell_type": "markdown",
      "metadata": {
        "id": "MX-YiJT2dnij"
      },
      "source": [
        "The model is fairly representative of the real data up until four repeat transactions. There are few customers who make more purchases."
      ]
    },
    {
      "cell_type": "markdown",
      "metadata": {
        "id": "q5M06vrtdsTA"
      },
      "source": [
        "### 2. Cumulative transaction plot: does the model predict cumulative sales well?"
      ]
    },
    {
      "cell_type": "code",
      "metadata": {
        "colab": {
          "base_uri": "https://localhost:8080/"
        },
        "id": "cSAZmG1eeE3e",
        "outputId": "9ddee726-b336-4ecb-9a1e-00aa42180c1b"
      },
      "source": [
        "df.InvoiceDate.max()"
      ],
      "execution_count": null,
      "outputs": [
        {
          "output_type": "execute_result",
          "data": {
            "text/plain": [
              "Timestamp('2011-12-09 12:50:00')"
            ]
          },
          "metadata": {},
          "execution_count": 26
        }
      ]
    },
    {
      "cell_type": "code",
      "metadata": {
        "id": "i9yAfZI1dYY8"
      },
      "source": [
        "summary_cal_holdout = calibration_and_holdout_data(df, 'CustomerID', 'InvoiceDate',calibration_period_end='2011-01-01', observation_period_end='2011-12-08')"
      ],
      "execution_count": null,
      "outputs": []
    },
    {
      "cell_type": "code",
      "metadata": {
        "colab": {
          "base_uri": "https://localhost:8080/"
        },
        "id": "8LxFEUxtgIHj",
        "outputId": "cba35c02-14c5-4553-80be-962bf84c9e17"
      },
      "source": [
        "summary_cal_holdout.head()"
      ],
      "execution_count": null,
      "outputs": [
        {
          "output_type": "execute_result",
          "data": {
            "text/html": [
              "<div>\n",
              "<style scoped>\n",
              "    .dataframe tbody tr th:only-of-type {\n",
              "        vertical-align: middle;\n",
              "    }\n",
              "\n",
              "    .dataframe tbody tr th {\n",
              "        vertical-align: top;\n",
              "    }\n",
              "\n",
              "    .dataframe thead th {\n",
              "        text-align: right;\n",
              "    }\n",
              "</style>\n",
              "<table border=\"1\" class=\"dataframe\">\n",
              "  <thead>\n",
              "    <tr style=\"text-align: right;\">\n",
              "      <th></th>\n",
              "      <th>frequency_cal</th>\n",
              "      <th>recency_cal</th>\n",
              "      <th>T_cal</th>\n",
              "      <th>frequency_holdout</th>\n",
              "      <th>duration_holdout</th>\n",
              "    </tr>\n",
              "    <tr>\n",
              "      <th>CustomerID</th>\n",
              "      <th></th>\n",
              "      <th></th>\n",
              "      <th></th>\n",
              "      <th></th>\n",
              "      <th></th>\n",
              "    </tr>\n",
              "  </thead>\n",
              "  <tbody>\n",
              "    <tr>\n",
              "      <th>12347.0</th>\n",
              "      <td>0.0</td>\n",
              "      <td>0.0</td>\n",
              "      <td>25.0</td>\n",
              "      <td>6.0</td>\n",
              "      <td>341.0</td>\n",
              "    </tr>\n",
              "    <tr>\n",
              "      <th>12348.0</th>\n",
              "      <td>0.0</td>\n",
              "      <td>0.0</td>\n",
              "      <td>16.0</td>\n",
              "      <td>3.0</td>\n",
              "      <td>341.0</td>\n",
              "    </tr>\n",
              "    <tr>\n",
              "      <th>12370.0</th>\n",
              "      <td>1.0</td>\n",
              "      <td>3.0</td>\n",
              "      <td>18.0</td>\n",
              "      <td>2.0</td>\n",
              "      <td>341.0</td>\n",
              "    </tr>\n",
              "    <tr>\n",
              "      <th>12377.0</th>\n",
              "      <td>0.0</td>\n",
              "      <td>0.0</td>\n",
              "      <td>12.0</td>\n",
              "      <td>1.0</td>\n",
              "      <td>341.0</td>\n",
              "    </tr>\n",
              "    <tr>\n",
              "      <th>12383.0</th>\n",
              "      <td>0.0</td>\n",
              "      <td>0.0</td>\n",
              "      <td>10.0</td>\n",
              "      <td>5.0</td>\n",
              "      <td>341.0</td>\n",
              "    </tr>\n",
              "  </tbody>\n",
              "</table>\n",
              "</div>"
            ],
            "text/plain": [
              "            frequency_cal  recency_cal  ...  frequency_holdout  duration_holdout\n",
              "CustomerID                              ...                                     \n",
              "12347.0               0.0          0.0  ...                6.0             341.0\n",
              "12348.0               0.0          0.0  ...                3.0             341.0\n",
              "12370.0               1.0          3.0  ...                2.0             341.0\n",
              "12377.0               0.0          0.0  ...                1.0             341.0\n",
              "12383.0               0.0          0.0  ...                5.0             341.0\n",
              "\n",
              "[5 rows x 5 columns]"
            ]
          },
          "metadata": {},
          "execution_count": 28
        }
      ]
    },
    {
      "cell_type": "code",
      "metadata": {
        "colab": {
          "base_uri": "https://localhost:8080/"
        },
        "id": "YO-JFVvHgunt",
        "outputId": "5e6141e5-8424-4b33-f915-f9079a52a8a2"
      },
      "source": [
        "bgf.fit(summary_cal_holdout['frequency_cal'], summary_cal_holdout['recency_cal'], summary_cal_holdout['T_cal'])\n",
        "plot_cumulative_transactions(bgf, df, 'InvoiceDate', 'CustomerID', 730, 365)"
      ],
      "execution_count": null,
      "outputs": [
        {
          "output_type": "execute_result",
          "data": {
            "text/plain": [
              "<matplotlib.axes._subplots.AxesSubplot at 0x7fe5bc812750>"
            ]
          },
          "metadata": {},
          "execution_count": 29
        },
        {
          "output_type": "display_data",
          "data": {
            "image/png": "[encoded data removed]",
            "text/plain": [
              "<Figure size 432x288 with 1 Axes>"
            ]
          },
          "metadata": {
            "needs_background": "light"
          }
        }
      ]
    },
    {
      "cell_type": "markdown",
      "metadata": {
        "id": "TtWud4lHiLJW"
      },
      "source": [
        "### 3. Incremental transaction plot: does the model capture the overall trend in transactions?"
      ]
    },
    {
      "cell_type": "code",
      "metadata": {
        "colab": {
          "base_uri": "https://localhost:8080/"
        },
        "id": "Chd7XI7FeI0n",
        "outputId": "9d8b5dc7-4822-48b7-9d3e-a9a465942ae6"
      },
      "source": [
        "plot_incremental_transactions(bgf, df, 'InvoiceDate', 'CustomerID', 730, 365)"
      ],
      "execution_count": null,
      "outputs": [
        {
          "output_type": "execute_result",
          "data": {
            "text/plain": [
              "<matplotlib.axes._subplots.AxesSubplot at 0x7fe5bc87bb50>"
            ]
          },
          "metadata": {},
          "execution_count": 30
        },
        {
          "output_type": "display_data",
          "data": {
            "image/png": "[encoded data removed]",
            "text/plain": [
              "<Figure size 432x288 with 1 Axes>"
            ]
          },
          "metadata": {
            "needs_background": "light"
          }
        }
      ]
    },
    {
      "cell_type": "code",
      "metadata": {
        "colab": {
          "base_uri": "https://localhost:8080/"
        },
        "id": "cgHkmG39eoB8",
        "outputId": "0c5cbaf6-dd24-4447-9fe8-a382209f33e6"
      },
      "source": [
        "df.groupby('CustomerID').size().value_counts()"
      ],
      "execution_count": null,
      "outputs": [
        {
          "output_type": "execute_result",
          "data": {
            "text/plain": [
              "1      79\n",
              "6      78\n",
              "10     74\n",
              "12     72\n",
              "7      72\n",
              "       ..\n",
              "721     1\n",
              "705     1\n",
              "653     1\n",
              "633     1\n",
              "977     1\n",
              "Length: 474, dtype: int64"
            ]
          },
          "metadata": {},
          "execution_count": 31
        }
      ]
    },
    {
      "cell_type": "markdown",
      "metadata": {
        "id": "0nqpkM3Mi7Nz"
      },
      "source": [
        "#Churn "
      ]
    },
    {
      "cell_type": "code",
      "metadata": {
        "colab": {
          "base_uri": "https://localhost:8080/"
        },
        "id": "a58uP_YHgUFc",
        "outputId": "fa32efd7-a0db-4b9f-9cbd-50447557d03c"
      },
      "source": [
        "df_churn = summary[summary['frequency']>0]\n",
        "df_churn['prob_alive'] = bgf.conditional_probability_alive(df_churn['frequency'], df_churn['recency'], df_churn['T'])\n",
        "sns.distplot(df_churn['prob_alive'])"
      ],
      "execution_count": null,
      "outputs": [
        {
          "output_type": "execute_result",
          "data": {
            "text/plain": [
              "<matplotlib.axes._subplots.AxesSubplot at 0x7fe5bc7a9490>"
            ]
          },
          "metadata": {},
          "execution_count": 32
        },
        {
          "output_type": "display_data",
          "data": {
            "image/png": "[encoded data removed]",
            "text/plain": [
              "<Figure size 432x288 with 1 Axes>"
            ]
          },
          "metadata": {
            "needs_background": "light"
          }
        }
      ]
    },
    {
      "cell_type": "code",
      "metadata": {
        "colab": {
          "base_uri": "https://localhost:8080/"
        },
        "id": "K5rF3v2-jFdF",
        "outputId": "83c4a5ad-69bd-4b76-ff8a-caad472657b6"
      },
      "source": [
        "df_churn['churn'] = ['churned' if p < .1 else 'not churned' for p in df_churn['prob_alive']]\n",
        "sns.countplot(df_churn['churn'])\n"
      ],
      "execution_count": null,
      "outputs": [
        {
          "output_type": "execute_result",
          "data": {
            "text/plain": [
              "<matplotlib.axes._subplots.AxesSubplot at 0x7fe5bc7b7e10>"
            ]
          },
          "metadata": {},
          "execution_count": 33
        },
        {
          "output_type": "display_data",
          "data": {
            "image/png": "[encoded data removed]",
            "text/plain": [
              "<Figure size 432x288 with 1 Axes>"
            ]
          },
          "metadata": {
            "needs_background": "light"
          }
        }
      ]
    },
    {
      "cell_type": "code",
      "metadata": {
        "colab": {
          "base_uri": "https://localhost:8080/"
        },
        "id": "pg3KVA7XjU1V",
        "outputId": "f1937dab-52ec-4389-83cd-48fd3601abea"
      },
      "source": [
        "sns.distplot(df_churn[df_churn['churn']=='not churned']['prob_alive']).set_title('Probability alive, not churned');"
      ],
      "execution_count": null,
      "outputs": [
        {
          "output_type": "display_data",
          "data": {
            "image/png": "[encoded data removed]",
            "text/plain": [
              "<Figure size 432x288 with 1 Axes>"
            ]
          },
          "metadata": {
            "needs_background": "light"
          }
        }
      ]
    },
    {
      "cell_type": "code",
      "metadata": {
        "colab": {
          "base_uri": "https://localhost:8080/"
        },
        "id": "BnkYR5MCjiB1",
        "outputId": "05a33a5b-e879-4ed0-e5ec-45c5536c4e6d"
      },
      "source": [
        "df_churn['churn'][(df_churn['prob_alive']>=.1) & (df_churn['prob_alive']<.2)] = \"high risk\"\n",
        "df_churn['churn'].value_counts()"
      ],
      "execution_count": null,
      "outputs": [
        {
          "output_type": "execute_result",
          "data": {
            "text/plain": [
              "not churned    2391\n",
              "churned         331\n",
              "high risk       269\n",
              "Name: churn, dtype: int64"
            ]
          },
          "metadata": {},
          "execution_count": 35
        }
      ]
    },
    {
      "cell_type": "markdown",
      "source": [
        "# Purchase Prediction"
      ],
      "metadata": {
        "id": "goTZGJZIafAi"
      }
    },
    {
      "cell_type": "code",
      "metadata": {
        "id": "6v0vRtEBj61c",
        "colab": {
          "base_uri": "https://localhost:8080/",
          "height": 206
        },
        "outputId": "3d86ea9a-3e64-4461-a878-53b22a4661eb"
      },
      "source": [
        "df.head()"
      ],
      "execution_count": null,
      "outputs": [
        {
          "output_type": "execute_result",
          "data": {
            "text/html": [
              "<div>\n",
              "<style scoped>\n",
              "    .dataframe tbody tr th:only-of-type {\n",
              "        vertical-align: middle;\n",
              "    }\n",
              "\n",
              "    .dataframe tbody tr th {\n",
              "        vertical-align: top;\n",
              "    }\n",
              "\n",
              "    .dataframe thead th {\n",
              "        text-align: right;\n",
              "    }\n",
              "</style>\n",
              "<table border=\"1\" class=\"dataframe\">\n",
              "  <thead>\n",
              "    <tr style=\"text-align: right;\">\n",
              "      <th></th>\n",
              "      <th>InvoiceNo</th>\n",
              "      <th>StockCode</th>\n",
              "      <th>Description</th>\n",
              "      <th>Quantity</th>\n",
              "      <th>InvoiceDate</th>\n",
              "      <th>UnitPrice</th>\n",
              "      <th>CustomerID</th>\n",
              "      <th>Country</th>\n",
              "      <th>InvoiceMonth</th>\n",
              "      <th>TotalSales</th>\n",
              "    </tr>\n",
              "  </thead>\n",
              "  <tbody>\n",
              "    <tr>\n",
              "      <th>0</th>\n",
              "      <td>536365</td>\n",
              "      <td>85123A</td>\n",
              "      <td>WHITE HANGING HEART T-LIGHT HOLDER</td>\n",
              "      <td>6</td>\n",
              "      <td>2010-12-01 08:26:00</td>\n",
              "      <td>2.55</td>\n",
              "      <td>17850.0</td>\n",
              "      <td>United Kingdom</td>\n",
              "      <td>2010-12</td>\n",
              "      <td>15.30</td>\n",
              "    </tr>\n",
              "    <tr>\n",
              "      <th>1</th>\n",
              "      <td>536365</td>\n",
              "      <td>71053</td>\n",
              "      <td>WHITE METAL LANTERN</td>\n",
              "      <td>6</td>\n",
              "      <td>2010-12-01 08:26:00</td>\n",
              "      <td>3.39</td>\n",
              "      <td>17850.0</td>\n",
              "      <td>United Kingdom</td>\n",
              "      <td>2010-12</td>\n",
              "      <td>20.34</td>\n",
              "    </tr>\n",
              "    <tr>\n",
              "      <th>2</th>\n",
              "      <td>536365</td>\n",
              "      <td>84406B</td>\n",
              "      <td>CREAM CUPID HEARTS COAT HANGER</td>\n",
              "      <td>8</td>\n",
              "      <td>2010-12-01 08:26:00</td>\n",
              "      <td>2.75</td>\n",
              "      <td>17850.0</td>\n",
              "      <td>United Kingdom</td>\n",
              "      <td>2010-12</td>\n",
              "      <td>22.00</td>\n",
              "    </tr>\n",
              "    <tr>\n",
              "      <th>3</th>\n",
              "      <td>536365</td>\n",
              "      <td>84029G</td>\n",
              "      <td>KNITTED UNION FLAG HOT WATER BOTTLE</td>\n",
              "      <td>6</td>\n",
              "      <td>2010-12-01 08:26:00</td>\n",
              "      <td>3.39</td>\n",
              "      <td>17850.0</td>\n",
              "      <td>United Kingdom</td>\n",
              "      <td>2010-12</td>\n",
              "      <td>20.34</td>\n",
              "    </tr>\n",
              "    <tr>\n",
              "      <th>4</th>\n",
              "      <td>536365</td>\n",
              "      <td>84029E</td>\n",
              "      <td>RED WOOLLY HOTTIE WHITE HEART.</td>\n",
              "      <td>6</td>\n",
              "      <td>2010-12-01 08:26:00</td>\n",
              "      <td>3.39</td>\n",
              "      <td>17850.0</td>\n",
              "      <td>United Kingdom</td>\n",
              "      <td>2010-12</td>\n",
              "      <td>20.34</td>\n",
              "    </tr>\n",
              "  </tbody>\n",
              "</table>\n",
              "</div>"
            ],
            "text/plain": [
              "  InvoiceNo StockCode  ... InvoiceMonth  TotalSales\n",
              "0    536365    85123A  ...      2010-12       15.30\n",
              "1    536365     71053  ...      2010-12       20.34\n",
              "2    536365    84406B  ...      2010-12       22.00\n",
              "3    536365    84029G  ...      2010-12       20.34\n",
              "4    536365    84029E  ...      2010-12       20.34\n",
              "\n",
              "[5 rows x 10 columns]"
            ]
          },
          "metadata": {},
          "execution_count": 36
        }
      ]
    },
    {
      "cell_type": "code",
      "source": [
        "df.groupby(['InvoiceMonth']).size()"
      ],
      "metadata": {
        "colab": {
          "base_uri": "https://localhost:8080/"
        },
        "id": "d5RYqElEa0Bv",
        "outputId": "db930859-fcf6-43b7-ea7a-7d2b6d0c75af"
      },
      "execution_count": null,
      "outputs": [
        {
          "output_type": "execute_result",
          "data": {
            "text/plain": [
              "InvoiceMonth\n",
              "2010-12    42481\n",
              "2011-01    35147\n",
              "2011-02    27707\n",
              "2011-03    36748\n",
              "2011-04    29916\n",
              "2011-05    37030\n",
              "2011-06    36874\n",
              "2011-07    39518\n",
              "2011-08    35284\n",
              "2011-09    50226\n",
              "2011-10    60742\n",
              "2011-11    84711\n",
              "2011-12    25525\n",
              "Freq: M, dtype: int64"
            ]
          },
          "metadata": {},
          "execution_count": 37
        }
      ]
    },
    {
      "cell_type": "code",
      "source": [
        "import datetime as dt\n",
        "\n",
        "NOW = dt.datetime(2011,12,1)\n",
        "\n",
        "# features\n",
        "\n",
        "features = df.groupby('CustomerID').agg({\n",
        "    'InvoiceDate': lambda x: (NOW - x.max()).days,\n",
        "    'InvoiceNo': pd.Series.nunique,\n",
        "    'TotalSales': np.sum,\n",
        "    'Quantity': ['mean', 'sum']}).reset_index()\n",
        "\n",
        "features.columns = ['CustomerID','recency', 'frequency', 'monetary', 'quantity_avg', 'quantity_total']\n"
      ],
      "metadata": {
        "id": "Ml14bjOna9Fj"
      },
      "execution_count": null,
      "outputs": []
    },
    {
      "cell_type": "code",
      "source": [
        "df_a = df[df['InvoiceMonth']!='2011-12']"
      ],
      "metadata": {
        "id": "PozfuNPV7YHN"
      },
      "execution_count": null,
      "outputs": []
    },
    {
      "cell_type": "code",
      "source": [
        "# calculate target variable\n",
        "customer_month_tx = pd.pivot_table(data = df, index=['CustomerID'],\n",
        "                                   values = 'InvoiceNo',\n",
        "                                   columns = ['InvoiceMonth'],\n",
        "                                   aggfunc = pd.Series.nunique, fill_value = 0)\n",
        "\n",
        "customer_month_tx.head()"
      ],
      "metadata": {
        "colab": {
          "base_uri": "https://localhost:8080/",
          "height": 238
        },
        "id": "9g-h20ERd19i",
        "outputId": "2c31285f-da84-4d4b-81fb-8d638fca6e86"
      },
      "execution_count": null,
      "outputs": [
        {
          "output_type": "execute_result",
          "data": {
            "text/html": [
              "<div>\n",
              "<style scoped>\n",
              "    .dataframe tbody tr th:only-of-type {\n",
              "        vertical-align: middle;\n",
              "    }\n",
              "\n",
              "    .dataframe tbody tr th {\n",
              "        vertical-align: top;\n",
              "    }\n",
              "\n",
              "    .dataframe thead th {\n",
              "        text-align: right;\n",
              "    }\n",
              "</style>\n",
              "<table border=\"1\" class=\"dataframe\">\n",
              "  <thead>\n",
              "    <tr style=\"text-align: right;\">\n",
              "      <th>InvoiceMonth</th>\n",
              "      <th>2010-12</th>\n",
              "      <th>2011-01</th>\n",
              "      <th>2011-02</th>\n",
              "      <th>2011-03</th>\n",
              "      <th>2011-04</th>\n",
              "      <th>2011-05</th>\n",
              "      <th>2011-06</th>\n",
              "      <th>2011-07</th>\n",
              "      <th>2011-08</th>\n",
              "      <th>2011-09</th>\n",
              "      <th>2011-10</th>\n",
              "      <th>2011-11</th>\n",
              "      <th>2011-12</th>\n",
              "    </tr>\n",
              "    <tr>\n",
              "      <th>CustomerID</th>\n",
              "      <th></th>\n",
              "      <th></th>\n",
              "      <th></th>\n",
              "      <th></th>\n",
              "      <th></th>\n",
              "      <th></th>\n",
              "      <th></th>\n",
              "      <th></th>\n",
              "      <th></th>\n",
              "      <th></th>\n",
              "      <th></th>\n",
              "      <th></th>\n",
              "      <th></th>\n",
              "    </tr>\n",
              "  </thead>\n",
              "  <tbody>\n",
              "    <tr>\n",
              "      <th>12346.0</th>\n",
              "      <td>0</td>\n",
              "      <td>2</td>\n",
              "      <td>0</td>\n",
              "      <td>0</td>\n",
              "      <td>0</td>\n",
              "      <td>0</td>\n",
              "      <td>0</td>\n",
              "      <td>0</td>\n",
              "      <td>0</td>\n",
              "      <td>0</td>\n",
              "      <td>0</td>\n",
              "      <td>0</td>\n",
              "      <td>0</td>\n",
              "    </tr>\n",
              "    <tr>\n",
              "      <th>12347.0</th>\n",
              "      <td>1</td>\n",
              "      <td>1</td>\n",
              "      <td>0</td>\n",
              "      <td>0</td>\n",
              "      <td>1</td>\n",
              "      <td>0</td>\n",
              "      <td>1</td>\n",
              "      <td>0</td>\n",
              "      <td>1</td>\n",
              "      <td>0</td>\n",
              "      <td>1</td>\n",
              "      <td>0</td>\n",
              "      <td>1</td>\n",
              "    </tr>\n",
              "    <tr>\n",
              "      <th>12348.0</th>\n",
              "      <td>1</td>\n",
              "      <td>1</td>\n",
              "      <td>0</td>\n",
              "      <td>0</td>\n",
              "      <td>1</td>\n",
              "      <td>0</td>\n",
              "      <td>0</td>\n",
              "      <td>0</td>\n",
              "      <td>0</td>\n",
              "      <td>1</td>\n",
              "      <td>0</td>\n",
              "      <td>0</td>\n",
              "      <td>0</td>\n",
              "    </tr>\n",
              "    <tr>\n",
              "      <th>12349.0</th>\n",
              "      <td>0</td>\n",
              "      <td>0</td>\n",
              "      <td>0</td>\n",
              "      <td>0</td>\n",
              "      <td>0</td>\n",
              "      <td>0</td>\n",
              "      <td>0</td>\n",
              "      <td>0</td>\n",
              "      <td>0</td>\n",
              "      <td>0</td>\n",
              "      <td>0</td>\n",
              "      <td>1</td>\n",
              "      <td>0</td>\n",
              "    </tr>\n",
              "    <tr>\n",
              "      <th>12350.0</th>\n",
              "      <td>0</td>\n",
              "      <td>0</td>\n",
              "      <td>1</td>\n",
              "      <td>0</td>\n",
              "      <td>0</td>\n",
              "      <td>0</td>\n",
              "      <td>0</td>\n",
              "      <td>0</td>\n",
              "      <td>0</td>\n",
              "      <td>0</td>\n",
              "      <td>0</td>\n",
              "      <td>0</td>\n",
              "      <td>0</td>\n",
              "    </tr>\n",
              "  </tbody>\n",
              "</table>\n",
              "</div>"
            ],
            "text/plain": [
              "InvoiceMonth  2010-12  2011-01  2011-02  ...  2011-10  2011-11  2011-12\n",
              "CustomerID                               ...                           \n",
              "12346.0             0        2        0  ...        0        0        0\n",
              "12347.0             1        1        0  ...        1        0        1\n",
              "12348.0             1        1        0  ...        0        0        0\n",
              "12349.0             0        0        0  ...        0        1        0\n",
              "12350.0             0        0        1  ...        0        0        0\n",
              "\n",
              "[5 rows x 13 columns]"
            ]
          },
          "metadata": {},
          "execution_count": 47
        }
      ]
    },
    {
      "cell_type": "code",
      "source": [
        "customer_month_tx.head()"
      ],
      "metadata": {
        "colab": {
          "base_uri": "https://localhost:8080/",
          "height": 238
        },
        "id": "GsGme5z77JZn",
        "outputId": "0affb5c3-afdf-4c7b-f945-32f2b678cadb"
      },
      "execution_count": null,
      "outputs": [
        {
          "output_type": "execute_result",
          "data": {
            "text/html": [
              "<div>\n",
              "<style scoped>\n",
              "    .dataframe tbody tr th:only-of-type {\n",
              "        vertical-align: middle;\n",
              "    }\n",
              "\n",
              "    .dataframe tbody tr th {\n",
              "        vertical-align: top;\n",
              "    }\n",
              "\n",
              "    .dataframe thead th {\n",
              "        text-align: right;\n",
              "    }\n",
              "</style>\n",
              "<table border=\"1\" class=\"dataframe\">\n",
              "  <thead>\n",
              "    <tr style=\"text-align: right;\">\n",
              "      <th>InvoiceMonth</th>\n",
              "      <th>2010-12</th>\n",
              "      <th>2011-01</th>\n",
              "      <th>2011-02</th>\n",
              "      <th>2011-03</th>\n",
              "      <th>2011-04</th>\n",
              "      <th>2011-05</th>\n",
              "      <th>2011-06</th>\n",
              "      <th>2011-07</th>\n",
              "      <th>2011-08</th>\n",
              "      <th>2011-09</th>\n",
              "      <th>2011-10</th>\n",
              "      <th>2011-11</th>\n",
              "    </tr>\n",
              "    <tr>\n",
              "      <th>CustomerID</th>\n",
              "      <th></th>\n",
              "      <th></th>\n",
              "      <th></th>\n",
              "      <th></th>\n",
              "      <th></th>\n",
              "      <th></th>\n",
              "      <th></th>\n",
              "      <th></th>\n",
              "      <th></th>\n",
              "      <th></th>\n",
              "      <th></th>\n",
              "      <th></th>\n",
              "    </tr>\n",
              "  </thead>\n",
              "  <tbody>\n",
              "    <tr>\n",
              "      <th>12346.0</th>\n",
              "      <td>0</td>\n",
              "      <td>2</td>\n",
              "      <td>0</td>\n",
              "      <td>0</td>\n",
              "      <td>0</td>\n",
              "      <td>0</td>\n",
              "      <td>0</td>\n",
              "      <td>0</td>\n",
              "      <td>0</td>\n",
              "      <td>0</td>\n",
              "      <td>0</td>\n",
              "      <td>0</td>\n",
              "    </tr>\n",
              "    <tr>\n",
              "      <th>12347.0</th>\n",
              "      <td>1</td>\n",
              "      <td>1</td>\n",
              "      <td>0</td>\n",
              "      <td>0</td>\n",
              "      <td>1</td>\n",
              "      <td>0</td>\n",
              "      <td>1</td>\n",
              "      <td>0</td>\n",
              "      <td>1</td>\n",
              "      <td>0</td>\n",
              "      <td>1</td>\n",
              "      <td>0</td>\n",
              "    </tr>\n",
              "    <tr>\n",
              "      <th>12348.0</th>\n",
              "      <td>1</td>\n",
              "      <td>1</td>\n",
              "      <td>0</td>\n",
              "      <td>0</td>\n",
              "      <td>1</td>\n",
              "      <td>0</td>\n",
              "      <td>0</td>\n",
              "      <td>0</td>\n",
              "      <td>0</td>\n",
              "      <td>1</td>\n",
              "      <td>0</td>\n",
              "      <td>0</td>\n",
              "    </tr>\n",
              "    <tr>\n",
              "      <th>12349.0</th>\n",
              "      <td>0</td>\n",
              "      <td>0</td>\n",
              "      <td>0</td>\n",
              "      <td>0</td>\n",
              "      <td>0</td>\n",
              "      <td>0</td>\n",
              "      <td>0</td>\n",
              "      <td>0</td>\n",
              "      <td>0</td>\n",
              "      <td>0</td>\n",
              "      <td>0</td>\n",
              "      <td>1</td>\n",
              "    </tr>\n",
              "    <tr>\n",
              "      <th>12350.0</th>\n",
              "      <td>0</td>\n",
              "      <td>0</td>\n",
              "      <td>1</td>\n",
              "      <td>0</td>\n",
              "      <td>0</td>\n",
              "      <td>0</td>\n",
              "      <td>0</td>\n",
              "      <td>0</td>\n",
              "      <td>0</td>\n",
              "      <td>0</td>\n",
              "      <td>0</td>\n",
              "      <td>0</td>\n",
              "    </tr>\n",
              "  </tbody>\n",
              "</table>\n",
              "</div>"
            ],
            "text/plain": [
              "InvoiceMonth  2010-12  2011-01  2011-02  ...  2011-09  2011-10  2011-11\n",
              "CustomerID                               ...                           \n",
              "12346.0             0        2        0  ...        0        0        0\n",
              "12347.0             1        1        0  ...        0        1        0\n",
              "12348.0             1        1        0  ...        1        0        0\n",
              "12349.0             0        0        0  ...        0        0        1\n",
              "12350.0             0        0        1  ...        0        0        0\n",
              "\n",
              "[5 rows x 12 columns]"
            ]
          },
          "metadata": {},
          "execution_count": 46
        }
      ]
    },
    {
      "cell_type": "code",
      "source": [
        "custid = ['CustomerID']\n",
        "target = ['2011-12']\n",
        "\n",
        "y = customer_month_tx[target]\n",
        "cols = [col for col in features.columns if col not in custid]\n",
        "X = features[cols]\n",
        "\n",
        "# splitting data into train and test\n",
        "\n",
        "from sklearn.model_selection import train_test_split\n",
        "\n",
        "X_train, X_test, y_train, y_test  = train_test_split(X, y, test_size = 0.25, random_state = 42)\n",
        "\n",
        "print(X_train.shape, X_test.shape, y_train.shape, y_test.shape)"
      ],
      "metadata": {
        "colab": {
          "base_uri": "https://localhost:8080/"
        },
        "id": "Y1np16Vke7aq",
        "outputId": "bf4b3e4f-aa19-4d1a-9d92-25eeea6969b7"
      },
      "execution_count": null,
      "outputs": [
        {
          "output_type": "stream",
          "name": "stdout",
          "text": [
            "(3279, 5) (1093, 5) (3279, 1) (1093, 1)\n"
          ]
        }
      ]
    },
    {
      "cell_type": "markdown",
      "source": [
        "# Initialize Model"
      ],
      "metadata": {
        "id": "Levmh32k8l1k"
      }
    },
    {
      "cell_type": "code",
      "source": [
        "from sklearn.linear_model import LinearRegression\n",
        "from sklearn.metrics import mean_absolute_error, mean_squared_error\n",
        "\n",
        "\n",
        "\n",
        "linreg = LinearRegression()\n",
        "linreg.fit(X_train, y_train)\n",
        "\n",
        "pred_Y_train = linreg.predict(X_train)\n",
        "pred_Y_test = linreg.predict(X_test)"
      ],
      "metadata": {
        "id": "uhVmFpe-ibv4"
      },
      "execution_count": null,
      "outputs": []
    },
    {
      "cell_type": "code",
      "source": [
        "rmse_train = np.sqrt(mean_squared_error(y_train, pred_Y_train))\n",
        "\n",
        "# Calculate mean absolute error on training data\n",
        "mae_train = mean_absolute_error(y_train, pred_Y_train)\n",
        "\n",
        "# Calculate root mean squared error on testing data\n",
        "rmse_test = np.sqrt(mean_squared_error(y_test, pred_Y_test))\n",
        "\n",
        "# Calculate mean absolute error on testing data\n",
        "mae_test = mean_absolute_error(y_test, pred_Y_test)\n",
        "\n",
        "# Print the performance metrics\n",
        "print('RMSE train: {}; RMSE test: {}\\nMAE train: {}, MAE test: {}'.format(rmse_train, rmse_test, mae_train, mae_test))"
      ],
      "metadata": {
        "id": "fXAknAAVidAJ",
        "colab": {
          "base_uri": "https://localhost:8080/"
        },
        "outputId": "6d325ae3-64d0-4548-be1c-f25a95a0a899"
      },
      "execution_count": null,
      "outputs": [
        {
          "output_type": "stream",
          "name": "stdout",
          "text": [
            "RMSE train: 0.4556361800182266; RMSE test: 0.48652093012869146\n",
            "MAE train: 0.2856245682152858, MAE test: 0.2973683945752259\n"
          ]
        }
      ]
    },
    {
      "cell_type": "code",
      "source": [
        "# Import `statsmodels.api` module\n",
        "import statsmodels.api as sm\n",
        "\n",
        "# Initialize model instance on the training data\n",
        "y_train = np.array(y_train)\n",
        "olsreg = sm.OLS(y_train, X_train)\n",
        "\n",
        "# Fit the model\n",
        "olsreg = olsreg.fit()\n",
        "\n",
        "# Print model summary\n",
        "print(olsreg.summary())"
      ],
      "metadata": {
        "colab": {
          "base_uri": "https://localhost:8080/"
        },
        "id": "n-V4co3w_7kV",
        "outputId": "9cd173c5-05e9-434b-f6b5-d91ea34843f6"
      },
      "execution_count": null,
      "outputs": [
        {
          "output_type": "stream",
          "name": "stdout",
          "text": [
            "                                 OLS Regression Results                                \n",
            "=======================================================================================\n",
            "Dep. Variable:                      y   R-squared (uncentered):                   0.425\n",
            "Model:                            OLS   Adj. R-squared (uncentered):              0.424\n",
            "Method:                 Least Squares   F-statistic:                              484.1\n",
            "Date:                Fri, 10 Dec 2021   Prob (F-statistic):                        0.00\n",
            "Time:                        06:23:25   Log-Likelihood:                         -2114.9\n",
            "No. Observations:                3279   AIC:                                      4240.\n",
            "Df Residuals:                    3274   BIC:                                      4270.\n",
            "Df Model:                           5                                                  \n",
            "Covariance Type:            nonrobust                                                  \n",
            "==================================================================================\n",
            "                     coef    std err          t      P>|t|      [0.025      0.975]\n",
            "----------------------------------------------------------------------------------\n",
            "recency           -0.0005    6.3e-05     -7.778      0.000      -0.001      -0.000\n",
            "frequency          0.0400      0.001     37.865      0.000       0.038       0.042\n",
            "monetary        3.586e-06   2.51e-06      1.431      0.153   -1.33e-06     8.5e-06\n",
            "quantity_avg    1.788e-05   3.36e-05      0.532      0.595    -4.8e-05    8.38e-05\n",
            "quantity_total -4.184e-06   4.19e-06     -0.997      0.319   -1.24e-05    4.04e-06\n",
            "==============================================================================\n",
            "Omnibus:                     1786.910   Durbin-Watson:                   1.999\n",
            "Prob(Omnibus):                  0.000   Jarque-Bera (JB):            32776.187\n",
            "Skew:                           2.183   Prob(JB):                         0.00\n",
            "Kurtosis:                      17.861   Cond. No.                     1.30e+03\n",
            "==============================================================================\n",
            "\n",
            "Warnings:\n",
            "[1] Standard Errors assume that the covariance matrix of the errors is correctly specified.\n",
            "[2] The condition number is large, 1.3e+03. This might indicate that there are\n",
            "strong multicollinearity or other numerical problems.\n"
          ]
        }
      ]
    },
    {
      "cell_type": "code",
      "source": [
        ""
      ],
      "metadata": {
        "id": "RP5xR8HRAabj"
      },
      "execution_count": null,
      "outputs": []
    }
  ]
}