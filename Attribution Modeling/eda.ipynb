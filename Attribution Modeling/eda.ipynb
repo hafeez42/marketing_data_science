{
 "cells": [
  {
   "cell_type": "code",
   "execution_count": 24,
   "id": "21e8f5d3-65f1-4b8c-b014-9fcf938a31aa",
   "metadata": {},
   "outputs": [],
   "source": [
    "from pathlib import Path\n",
    "import pandas as pd\n",
    "import numpy as np\n",
    "\n",
    "import plotly.express as px\n",
    "import plotly.io as pio\n",
    "\n",
    "import matplotlib.pyplot as plt\n",
    "import seaborn as sns\n",
    "%matplotlib inline\n",
    "\n",
    "import warnings\n",
    "warnings.filterwarnings('ignore')"
   ]
  },
  {
   "cell_type": "code",
   "execution_count": 2,
   "id": "35f7822b-a6e0-4c24-806a-72c0f98b2a07",
   "metadata": {},
   "outputs": [],
   "source": [
    "data_file = Path.cwd() / \"data\" / \"attribution data.csv\""
   ]
  },
  {
   "cell_type": "code",
   "execution_count": 32,
   "id": "69d05a0b-253a-4063-b757-38186542ced7",
   "metadata": {},
   "outputs": [
    {
     "data": {
      "text/html": [
       "<div><div id=2a051c42-070a-4594-a839-9bb0d5250c35 style=\"display:none; background-color:#9D6CFF; color:white; width:200px; height:30px; padding-left:5px; border-radius:4px; flex-direction:row; justify-content:space-around; align-items:center;\" onmouseover=\"this.style.backgroundColor='#BA9BF8'\" onmouseout=\"this.style.backgroundColor='#9D6CFF'\" onclick=\"window.commands?.execute('create-mitosheet-from-dataframe-output');\">See Full Dataframe in Mito</div> <script> if (window.commands.hasCommand('create-mitosheet-from-dataframe-output')) document.getElementById('2a051c42-070a-4594-a839-9bb0d5250c35').style.display = 'flex' </script> <table border=\"1\" class=\"dataframe\">\n",
       "  <thead>\n",
       "    <tr style=\"text-align: right;\">\n",
       "      <th></th>\n",
       "      <th>cookie</th>\n",
       "      <th>time</th>\n",
       "      <th>interaction</th>\n",
       "      <th>conversion</th>\n",
       "      <th>conversion_value</th>\n",
       "      <th>channel</th>\n",
       "    </tr>\n",
       "  </thead>\n",
       "  <tbody>\n",
       "    <tr>\n",
       "      <th>0</th>\n",
       "      <td>00000FkCnDfDDf0iC97iC703B</td>\n",
       "      <td>2018-07-03 13:02:11+00:00</td>\n",
       "      <td>impression</td>\n",
       "      <td>0</td>\n",
       "      <td>0.0</td>\n",
       "      <td>Instagram</td>\n",
       "    </tr>\n",
       "    <tr>\n",
       "      <th>1</th>\n",
       "      <td>00000FkCnDfDDf0iC97iC703B</td>\n",
       "      <td>2018-07-17 19:15:07+00:00</td>\n",
       "      <td>impression</td>\n",
       "      <td>0</td>\n",
       "      <td>0.0</td>\n",
       "      <td>Online Display</td>\n",
       "    </tr>\n",
       "    <tr>\n",
       "      <th>2</th>\n",
       "      <td>00000FkCnDfDDf0iC97iC703B</td>\n",
       "      <td>2018-07-24 15:51:46+00:00</td>\n",
       "      <td>impression</td>\n",
       "      <td>0</td>\n",
       "      <td>0.0</td>\n",
       "      <td>Online Display</td>\n",
       "    </tr>\n",
       "    <tr>\n",
       "      <th>3</th>\n",
       "      <td>00000FkCnDfDDf0iC97iC703B</td>\n",
       "      <td>2018-07-29 07:44:51+00:00</td>\n",
       "      <td>impression</td>\n",
       "      <td>0</td>\n",
       "      <td>0.0</td>\n",
       "      <td>Online Display</td>\n",
       "    </tr>\n",
       "    <tr>\n",
       "      <th>4</th>\n",
       "      <td>0000nACkD9nFkBBDECD3ki00E</td>\n",
       "      <td>2018-07-03 09:44:57+00:00</td>\n",
       "      <td>impression</td>\n",
       "      <td>0</td>\n",
       "      <td>0.0</td>\n",
       "      <td>Paid Search</td>\n",
       "    </tr>\n",
       "  </tbody>\n",
       "</table></div>"
      ],
      "text/plain": [
       "                      cookie                      time interaction  \\\n",
       "0  00000FkCnDfDDf0iC97iC703B 2018-07-03 13:02:11+00:00  impression   \n",
       "1  00000FkCnDfDDf0iC97iC703B 2018-07-17 19:15:07+00:00  impression   \n",
       "2  00000FkCnDfDDf0iC97iC703B 2018-07-24 15:51:46+00:00  impression   \n",
       "3  00000FkCnDfDDf0iC97iC703B 2018-07-29 07:44:51+00:00  impression   \n",
       "4  0000nACkD9nFkBBDECD3ki00E 2018-07-03 09:44:57+00:00  impression   \n",
       "\n",
       "   conversion  conversion_value         channel  \n",
       "0           0               0.0       Instagram  \n",
       "1           0               0.0  Online Display  \n",
       "2           0               0.0  Online Display  \n",
       "3           0               0.0  Online Display  \n",
       "4           0               0.0     Paid Search  "
      ]
     },
     "execution_count": 32,
     "metadata": {},
     "output_type": "execute_result"
    }
   ],
   "source": [
    "data = pd.read_csv(data_file)\n",
    "data['time'] = pd.to_datetime(data['time'])\n",
    "\n",
    "data.head()"
   ]
  },
  {
   "cell_type": "code",
   "execution_count": 33,
   "id": "330505b0-c24d-4d22-aa12-833a39dada6d",
   "metadata": {},
   "outputs": [
    {
     "data": {
      "text/html": [
       "<div><div id=57cc4e61-2645-4765-b487-d9a2e90e5469 style=\"display:none; background-color:#9D6CFF; color:white; width:200px; height:30px; padding-left:5px; border-radius:4px; flex-direction:row; justify-content:space-around; align-items:center;\" onmouseover=\"this.style.backgroundColor='#BA9BF8'\" onmouseout=\"this.style.backgroundColor='#9D6CFF'\" onclick=\"window.commands?.execute('create-mitosheet-from-dataframe-output');\">See Full Dataframe in Mito</div> <script> if (window.commands.hasCommand('create-mitosheet-from-dataframe-output')) document.getElementById('57cc4e61-2645-4765-b487-d9a2e90e5469').style.display = 'flex' </script> <table border=\"1\" class=\"dataframe\">\n",
       "  <thead>\n",
       "    <tr style=\"text-align: right;\">\n",
       "      <th></th>\n",
       "      <th>time</th>\n",
       "      <th>channel</th>\n",
       "      <th>conversion</th>\n",
       "      <th>conversion_value</th>\n",
       "    </tr>\n",
       "  </thead>\n",
       "  <tbody>\n",
       "    <tr>\n",
       "      <th>0</th>\n",
       "      <td>2018-07-01</td>\n",
       "      <td>Facebook</td>\n",
       "      <td>135</td>\n",
       "      <td>835.0</td>\n",
       "    </tr>\n",
       "    <tr>\n",
       "      <th>1</th>\n",
       "      <td>2018-07-01</td>\n",
       "      <td>Instagram</td>\n",
       "      <td>69</td>\n",
       "      <td>438.5</td>\n",
       "    </tr>\n",
       "    <tr>\n",
       "      <th>2</th>\n",
       "      <td>2018-07-01</td>\n",
       "      <td>Online Display</td>\n",
       "      <td>75</td>\n",
       "      <td>463.5</td>\n",
       "    </tr>\n",
       "    <tr>\n",
       "      <th>3</th>\n",
       "      <td>2018-07-01</td>\n",
       "      <td>Online Video</td>\n",
       "      <td>42</td>\n",
       "      <td>257.5</td>\n",
       "    </tr>\n",
       "    <tr>\n",
       "      <th>4</th>\n",
       "      <td>2018-07-01</td>\n",
       "      <td>Paid Search</td>\n",
       "      <td>98</td>\n",
       "      <td>590.5</td>\n",
       "    </tr>\n",
       "    <tr>\n",
       "      <th>...</th>\n",
       "      <td>...</td>\n",
       "      <td>...</td>\n",
       "      <td>...</td>\n",
       "      <td>...</td>\n",
       "    </tr>\n",
       "    <tr>\n",
       "      <th>142</th>\n",
       "      <td>2018-07-30</td>\n",
       "      <td>Facebook</td>\n",
       "      <td>226</td>\n",
       "      <td>1412.5</td>\n",
       "    </tr>\n",
       "    <tr>\n",
       "      <th>143</th>\n",
       "      <td>2018-07-30</td>\n",
       "      <td>Instagram</td>\n",
       "      <td>102</td>\n",
       "      <td>639.5</td>\n",
       "    </tr>\n",
       "    <tr>\n",
       "      <th>144</th>\n",
       "      <td>2018-07-30</td>\n",
       "      <td>Online Display</td>\n",
       "      <td>1</td>\n",
       "      <td>7.5</td>\n",
       "    </tr>\n",
       "    <tr>\n",
       "      <th>145</th>\n",
       "      <td>2018-07-30</td>\n",
       "      <td>Online Video</td>\n",
       "      <td>15</td>\n",
       "      <td>91.0</td>\n",
       "    </tr>\n",
       "    <tr>\n",
       "      <th>146</th>\n",
       "      <td>2018-07-30</td>\n",
       "      <td>Paid Search</td>\n",
       "      <td>81</td>\n",
       "      <td>509.0</td>\n",
       "    </tr>\n",
       "  </tbody>\n",
       "</table></div>"
      ],
      "text/plain": [
       "           time         channel  conversion  conversion_value\n",
       "0    2018-07-01        Facebook         135             835.0\n",
       "1    2018-07-01       Instagram          69             438.5\n",
       "2    2018-07-01  Online Display          75             463.5\n",
       "3    2018-07-01    Online Video          42             257.5\n",
       "4    2018-07-01     Paid Search          98             590.5\n",
       "..          ...             ...         ...               ...\n",
       "142  2018-07-30        Facebook         226            1412.5\n",
       "143  2018-07-30       Instagram         102             639.5\n",
       "144  2018-07-30  Online Display           1               7.5\n",
       "145  2018-07-30    Online Video          15              91.0\n",
       "146  2018-07-30     Paid Search          81             509.0\n",
       "\n",
       "[147 rows x 4 columns]"
      ]
     },
     "execution_count": 33,
     "metadata": {},
     "output_type": "execute_result"
    }
   ],
   "source": [
    "conversions = data[data['conversion']==1]\n",
    "conversions['time'] = conversions['time'].dt.date\n",
    "conversions = conversions[conversions['time']< pd.to_datetime(\"2018-7-31\").date()]\n",
    "conversions = conversions.drop(['cookie','interaction'], axis = 1)\n",
    "conversions = conversions.groupby(['time', 'channel']).sum().reset_index()\n",
    "conversions"
   ]
  },
  {
   "cell_type": "code",
   "execution_count": 34,
   "id": "f971042b-b5d8-4089-8970-8bbf10cdc1bd",
   "metadata": {},
   "outputs": [
    {
     "data": {
      "application/vnd.plotly.v1+json": {
       "config": {
        "plotlyServerURL": "https://plot.ly"
       },
       "data": [
        {
         "hovertemplate": "channel=Facebook<br>time=%{x}<br>conversion=%{y}<extra></extra>",
         "legendgroup": "Facebook",
         "line": {
          "color": "#636efa",
          "dash": "solid"
         },
         "marker": {
          "symbol": "circle"
         },
         "mode": "lines",
         "name": "Facebook",
         "orientation": "v",
         "showlegend": true,
         "type": "scatter",
         "x": [
          "2018-07-01",
          "2018-07-02",
          "2018-07-03",
          "2018-07-04",
          "2018-07-05",
          "2018-07-06",
          "2018-07-07",
          "2018-07-08",
          "2018-07-09",
          "2018-07-10",
          "2018-07-11",
          "2018-07-12",
          "2018-07-13",
          "2018-07-14",
          "2018-07-15",
          "2018-07-16",
          "2018-07-17",
          "2018-07-18",
          "2018-07-19",
          "2018-07-20",
          "2018-07-21",
          "2018-07-22",
          "2018-07-23",
          "2018-07-24",
          "2018-07-25",
          "2018-07-26",
          "2018-07-27",
          "2018-07-28",
          "2018-07-29",
          "2018-07-30"
         ],
         "xaxis": "x",
         "y": [
          135,
          158,
          162,
          173,
          175,
          174,
          197,
          169,
          139,
          157,
          179,
          163,
          151,
          199,
          155,
          174,
          195,
          170,
          173,
          153,
          185,
          187,
          209,
          165,
          159,
          163,
          168,
          158,
          230,
          226
         ],
         "yaxis": "y"
        },
        {
         "hovertemplate": "channel=Instagram<br>time=%{x}<br>conversion=%{y}<extra></extra>",
         "legendgroup": "Instagram",
         "line": {
          "color": "#EF553B",
          "dash": "solid"
         },
         "marker": {
          "symbol": "circle"
         },
         "mode": "lines",
         "name": "Instagram",
         "orientation": "v",
         "showlegend": true,
         "type": "scatter",
         "x": [
          "2018-07-01",
          "2018-07-02",
          "2018-07-03",
          "2018-07-04",
          "2018-07-05",
          "2018-07-06",
          "2018-07-07",
          "2018-07-08",
          "2018-07-09",
          "2018-07-10",
          "2018-07-11",
          "2018-07-12",
          "2018-07-13",
          "2018-07-14",
          "2018-07-15",
          "2018-07-16",
          "2018-07-17",
          "2018-07-18",
          "2018-07-19",
          "2018-07-20",
          "2018-07-21",
          "2018-07-22",
          "2018-07-23",
          "2018-07-24",
          "2018-07-25",
          "2018-07-26",
          "2018-07-27",
          "2018-07-28",
          "2018-07-29",
          "2018-07-30"
         ],
         "xaxis": "x",
         "y": [
          69,
          84,
          69,
          79,
          58,
          66,
          82,
          56,
          63,
          55,
          74,
          66,
          85,
          91,
          79,
          76,
          85,
          83,
          64,
          73,
          72,
          79,
          70,
          65,
          44,
          84,
          72,
          67,
          81,
          102
         ],
         "yaxis": "y"
        },
        {
         "hovertemplate": "channel=Online Display<br>time=%{x}<br>conversion=%{y}<extra></extra>",
         "legendgroup": "Online Display",
         "line": {
          "color": "#00cc96",
          "dash": "solid"
         },
         "marker": {
          "symbol": "circle"
         },
         "mode": "lines",
         "name": "Online Display",
         "orientation": "v",
         "showlegend": true,
         "type": "scatter",
         "x": [
          "2018-07-01",
          "2018-07-02",
          "2018-07-03",
          "2018-07-04",
          "2018-07-06",
          "2018-07-07",
          "2018-07-09",
          "2018-07-11",
          "2018-07-12",
          "2018-07-13",
          "2018-07-14",
          "2018-07-15",
          "2018-07-16",
          "2018-07-17",
          "2018-07-18",
          "2018-07-19",
          "2018-07-20",
          "2018-07-21",
          "2018-07-22",
          "2018-07-23",
          "2018-07-24",
          "2018-07-25",
          "2018-07-26",
          "2018-07-27",
          "2018-07-28",
          "2018-07-29",
          "2018-07-30"
         ],
         "xaxis": "x",
         "y": [
          75,
          71,
          70,
          63,
          57,
          62,
          86,
          90,
          114,
          83,
          78,
          114,
          100,
          111,
          105,
          110,
          67,
          64,
          81,
          92,
          71,
          72,
          70,
          69,
          78,
          85,
          1
         ],
         "yaxis": "y"
        },
        {
         "hovertemplate": "channel=Online Video<br>time=%{x}<br>conversion=%{y}<extra></extra>",
         "legendgroup": "Online Video",
         "line": {
          "color": "#ab63fa",
          "dash": "solid"
         },
         "marker": {
          "symbol": "circle"
         },
         "mode": "lines",
         "name": "Online Video",
         "orientation": "v",
         "showlegend": true,
         "type": "scatter",
         "x": [
          "2018-07-01",
          "2018-07-02",
          "2018-07-03",
          "2018-07-04",
          "2018-07-05",
          "2018-07-06",
          "2018-07-07",
          "2018-07-08",
          "2018-07-09",
          "2018-07-10",
          "2018-07-11",
          "2018-07-12",
          "2018-07-13",
          "2018-07-14",
          "2018-07-15",
          "2018-07-16",
          "2018-07-17",
          "2018-07-18",
          "2018-07-19",
          "2018-07-20",
          "2018-07-21",
          "2018-07-22",
          "2018-07-23",
          "2018-07-24",
          "2018-07-25",
          "2018-07-26",
          "2018-07-27",
          "2018-07-28",
          "2018-07-29",
          "2018-07-30"
         ],
         "xaxis": "x",
         "y": [
          42,
          73,
          76,
          66,
          68,
          46,
          68,
          92,
          102,
          178,
          162,
          182,
          99,
          141,
          178,
          147,
          147,
          211,
          188,
          131,
          148,
          187,
          134,
          72,
          164,
          113,
          38,
          39,
          101,
          15
         ],
         "yaxis": "y"
        },
        {
         "hovertemplate": "channel=Paid Search<br>time=%{x}<br>conversion=%{y}<extra></extra>",
         "legendgroup": "Paid Search",
         "line": {
          "color": "#FFA15A",
          "dash": "solid"
         },
         "marker": {
          "symbol": "circle"
         },
         "mode": "lines",
         "name": "Paid Search",
         "orientation": "v",
         "showlegend": true,
         "type": "scatter",
         "x": [
          "2018-07-01",
          "2018-07-02",
          "2018-07-03",
          "2018-07-04",
          "2018-07-05",
          "2018-07-06",
          "2018-07-07",
          "2018-07-08",
          "2018-07-09",
          "2018-07-10",
          "2018-07-11",
          "2018-07-12",
          "2018-07-13",
          "2018-07-14",
          "2018-07-15",
          "2018-07-16",
          "2018-07-17",
          "2018-07-18",
          "2018-07-19",
          "2018-07-20",
          "2018-07-21",
          "2018-07-22",
          "2018-07-23",
          "2018-07-24",
          "2018-07-25",
          "2018-07-26",
          "2018-07-27",
          "2018-07-28",
          "2018-07-29",
          "2018-07-30"
         ],
         "xaxis": "x",
         "y": [
          98,
          171,
          256,
          252,
          145,
          126,
          160,
          191,
          184,
          197,
          245,
          200,
          170,
          198,
          172,
          186,
          218,
          172,
          175,
          133,
          137,
          81,
          76,
          69,
          82,
          86,
          56,
          115,
          109,
          81
         ],
         "yaxis": "y"
        }
       ],
       "layout": {
        "autosize": true,
        "legend": {
         "title": {
          "text": "channel"
         },
         "tracegroupgap": 0
        },
        "margin": {
         "t": 60
        },
        "template": {
         "data": {
          "bar": [
           {
            "error_x": {
             "color": "#2a3f5f"
            },
            "error_y": {
             "color": "#2a3f5f"
            },
            "marker": {
             "line": {
              "color": "#E5ECF6",
              "width": 0.5
             },
             "pattern": {
              "fillmode": "overlay",
              "size": 10,
              "solidity": 0.2
             }
            },
            "type": "bar"
           }
          ],
          "barpolar": [
           {
            "marker": {
             "line": {
              "color": "#E5ECF6",
              "width": 0.5
             },
             "pattern": {
              "fillmode": "overlay",
              "size": 10,
              "solidity": 0.2
             }
            },
            "type": "barpolar"
           }
          ],
          "carpet": [
           {
            "aaxis": {
             "endlinecolor": "#2a3f5f",
             "gridcolor": "white",
             "linecolor": "white",
             "minorgridcolor": "white",
             "startlinecolor": "#2a3f5f"
            },
            "baxis": {
             "endlinecolor": "#2a3f5f",
             "gridcolor": "white",
             "linecolor": "white",
             "minorgridcolor": "white",
             "startlinecolor": "#2a3f5f"
            },
            "type": "carpet"
           }
          ],
          "choropleth": [
           {
            "colorbar": {
             "outlinewidth": 0,
             "ticks": ""
            },
            "type": "choropleth"
           }
          ],
          "contour": [
           {
            "colorbar": {
             "outlinewidth": 0,
             "ticks": ""
            },
            "colorscale": [
             [
              0,
              "#0d0887"
             ],
             [
              0.1111111111111111,
              "#46039f"
             ],
             [
              0.2222222222222222,
              "#7201a8"
             ],
             [
              0.3333333333333333,
              "#9c179e"
             ],
             [
              0.4444444444444444,
              "#bd3786"
             ],
             [
              0.5555555555555556,
              "#d8576b"
             ],
             [
              0.6666666666666666,
              "#ed7953"
             ],
             [
              0.7777777777777778,
              "#fb9f3a"
             ],
             [
              0.8888888888888888,
              "#fdca26"
             ],
             [
              1,
              "#f0f921"
             ]
            ],
            "type": "contour"
           }
          ],
          "contourcarpet": [
           {
            "colorbar": {
             "outlinewidth": 0,
             "ticks": ""
            },
            "type": "contourcarpet"
           }
          ],
          "heatmap": [
           {
            "colorbar": {
             "outlinewidth": 0,
             "ticks": ""
            },
            "colorscale": [
             [
              0,
              "#0d0887"
             ],
             [
              0.1111111111111111,
              "#46039f"
             ],
             [
              0.2222222222222222,
              "#7201a8"
             ],
             [
              0.3333333333333333,
              "#9c179e"
             ],
             [
              0.4444444444444444,
              "#bd3786"
             ],
             [
              0.5555555555555556,
              "#d8576b"
             ],
             [
              0.6666666666666666,
              "#ed7953"
             ],
             [
              0.7777777777777778,
              "#fb9f3a"
             ],
             [
              0.8888888888888888,
              "#fdca26"
             ],
             [
              1,
              "#f0f921"
             ]
            ],
            "type": "heatmap"
           }
          ],
          "heatmapgl": [
           {
            "colorbar": {
             "outlinewidth": 0,
             "ticks": ""
            },
            "colorscale": [
             [
              0,
              "#0d0887"
             ],
             [
              0.1111111111111111,
              "#46039f"
             ],
             [
              0.2222222222222222,
              "#7201a8"
             ],
             [
              0.3333333333333333,
              "#9c179e"
             ],
             [
              0.4444444444444444,
              "#bd3786"
             ],
             [
              0.5555555555555556,
              "#d8576b"
             ],
             [
              0.6666666666666666,
              "#ed7953"
             ],
             [
              0.7777777777777778,
              "#fb9f3a"
             ],
             [
              0.8888888888888888,
              "#fdca26"
             ],
             [
              1,
              "#f0f921"
             ]
            ],
            "type": "heatmapgl"
           }
          ],
          "histogram": [
           {
            "marker": {
             "pattern": {
              "fillmode": "overlay",
              "size": 10,
              "solidity": 0.2
             }
            },
            "type": "histogram"
           }
          ],
          "histogram2d": [
           {
            "colorbar": {
             "outlinewidth": 0,
             "ticks": ""
            },
            "colorscale": [
             [
              0,
              "#0d0887"
             ],
             [
              0.1111111111111111,
              "#46039f"
             ],
             [
              0.2222222222222222,
              "#7201a8"
             ],
             [
              0.3333333333333333,
              "#9c179e"
             ],
             [
              0.4444444444444444,
              "#bd3786"
             ],
             [
              0.5555555555555556,
              "#d8576b"
             ],
             [
              0.6666666666666666,
              "#ed7953"
             ],
             [
              0.7777777777777778,
              "#fb9f3a"
             ],
             [
              0.8888888888888888,
              "#fdca26"
             ],
             [
              1,
              "#f0f921"
             ]
            ],
            "type": "histogram2d"
           }
          ],
          "histogram2dcontour": [
           {
            "colorbar": {
             "outlinewidth": 0,
             "ticks": ""
            },
            "colorscale": [
             [
              0,
              "#0d0887"
             ],
             [
              0.1111111111111111,
              "#46039f"
             ],
             [
              0.2222222222222222,
              "#7201a8"
             ],
             [
              0.3333333333333333,
              "#9c179e"
             ],
             [
              0.4444444444444444,
              "#bd3786"
             ],
             [
              0.5555555555555556,
              "#d8576b"
             ],
             [
              0.6666666666666666,
              "#ed7953"
             ],
             [
              0.7777777777777778,
              "#fb9f3a"
             ],
             [
              0.8888888888888888,
              "#fdca26"
             ],
             [
              1,
              "#f0f921"
             ]
            ],
            "type": "histogram2dcontour"
           }
          ],
          "mesh3d": [
           {
            "colorbar": {
             "outlinewidth": 0,
             "ticks": ""
            },
            "type": "mesh3d"
           }
          ],
          "parcoords": [
           {
            "line": {
             "colorbar": {
              "outlinewidth": 0,
              "ticks": ""
             }
            },
            "type": "parcoords"
           }
          ],
          "pie": [
           {
            "automargin": true,
            "type": "pie"
           }
          ],
          "scatter": [
           {
            "marker": {
             "colorbar": {
              "outlinewidth": 0,
              "ticks": ""
             }
            },
            "type": "scatter"
           }
          ],
          "scatter3d": [
           {
            "line": {
             "colorbar": {
              "outlinewidth": 0,
              "ticks": ""
             }
            },
            "marker": {
             "colorbar": {
              "outlinewidth": 0,
              "ticks": ""
             }
            },
            "type": "scatter3d"
           }
          ],
          "scattercarpet": [
           {
            "marker": {
             "colorbar": {
              "outlinewidth": 0,
              "ticks": ""
             }
            },
            "type": "scattercarpet"
           }
          ],
          "scattergeo": [
           {
            "marker": {
             "colorbar": {
              "outlinewidth": 0,
              "ticks": ""
             }
            },
            "type": "scattergeo"
           }
          ],
          "scattergl": [
           {
            "marker": {
             "colorbar": {
              "outlinewidth": 0,
              "ticks": ""
             }
            },
            "type": "scattergl"
           }
          ],
          "scattermapbox": [
           {
            "marker": {
             "colorbar": {
              "outlinewidth": 0,
              "ticks": ""
             }
            },
            "type": "scattermapbox"
           }
          ],
          "scatterpolar": [
           {
            "marker": {
             "colorbar": {
              "outlinewidth": 0,
              "ticks": ""
             }
            },
            "type": "scatterpolar"
           }
          ],
          "scatterpolargl": [
           {
            "marker": {
             "colorbar": {
              "outlinewidth": 0,
              "ticks": ""
             }
            },
            "type": "scatterpolargl"
           }
          ],
          "scatterternary": [
           {
            "marker": {
             "colorbar": {
              "outlinewidth": 0,
              "ticks": ""
             }
            },
            "type": "scatterternary"
           }
          ],
          "surface": [
           {
            "colorbar": {
             "outlinewidth": 0,
             "ticks": ""
            },
            "colorscale": [
             [
              0,
              "#0d0887"
             ],
             [
              0.1111111111111111,
              "#46039f"
             ],
             [
              0.2222222222222222,
              "#7201a8"
             ],
             [
              0.3333333333333333,
              "#9c179e"
             ],
             [
              0.4444444444444444,
              "#bd3786"
             ],
             [
              0.5555555555555556,
              "#d8576b"
             ],
             [
              0.6666666666666666,
              "#ed7953"
             ],
             [
              0.7777777777777778,
              "#fb9f3a"
             ],
             [
              0.8888888888888888,
              "#fdca26"
             ],
             [
              1,
              "#f0f921"
             ]
            ],
            "type": "surface"
           }
          ],
          "table": [
           {
            "cells": {
             "fill": {
              "color": "#EBF0F8"
             },
             "line": {
              "color": "white"
             }
            },
            "header": {
             "fill": {
              "color": "#C8D4E3"
             },
             "line": {
              "color": "white"
             }
            },
            "type": "table"
           }
          ]
         },
         "layout": {
          "annotationdefaults": {
           "arrowcolor": "#2a3f5f",
           "arrowhead": 0,
           "arrowwidth": 1
          },
          "autotypenumbers": "strict",
          "coloraxis": {
           "colorbar": {
            "outlinewidth": 0,
            "ticks": ""
           }
          },
          "colorscale": {
           "diverging": [
            [
             0,
             "#8e0152"
            ],
            [
             0.1,
             "#c51b7d"
            ],
            [
             0.2,
             "#de77ae"
            ],
            [
             0.3,
             "#f1b6da"
            ],
            [
             0.4,
             "#fde0ef"
            ],
            [
             0.5,
             "#f7f7f7"
            ],
            [
             0.6,
             "#e6f5d0"
            ],
            [
             0.7,
             "#b8e186"
            ],
            [
             0.8,
             "#7fbc41"
            ],
            [
             0.9,
             "#4d9221"
            ],
            [
             1,
             "#276419"
            ]
           ],
           "sequential": [
            [
             0,
             "#0d0887"
            ],
            [
             0.1111111111111111,
             "#46039f"
            ],
            [
             0.2222222222222222,
             "#7201a8"
            ],
            [
             0.3333333333333333,
             "#9c179e"
            ],
            [
             0.4444444444444444,
             "#bd3786"
            ],
            [
             0.5555555555555556,
             "#d8576b"
            ],
            [
             0.6666666666666666,
             "#ed7953"
            ],
            [
             0.7777777777777778,
             "#fb9f3a"
            ],
            [
             0.8888888888888888,
             "#fdca26"
            ],
            [
             1,
             "#f0f921"
            ]
           ],
           "sequentialminus": [
            [
             0,
             "#0d0887"
            ],
            [
             0.1111111111111111,
             "#46039f"
            ],
            [
             0.2222222222222222,
             "#7201a8"
            ],
            [
             0.3333333333333333,
             "#9c179e"
            ],
            [
             0.4444444444444444,
             "#bd3786"
            ],
            [
             0.5555555555555556,
             "#d8576b"
            ],
            [
             0.6666666666666666,
             "#ed7953"
            ],
            [
             0.7777777777777778,
             "#fb9f3a"
            ],
            [
             0.8888888888888888,
             "#fdca26"
            ],
            [
             1,
             "#f0f921"
            ]
           ]
          },
          "colorway": [
           "#636efa",
           "#EF553B",
           "#00cc96",
           "#ab63fa",
           "#FFA15A",
           "#19d3f3",
           "#FF6692",
           "#B6E880",
           "#FF97FF",
           "#FECB52"
          ],
          "font": {
           "color": "#2a3f5f"
          },
          "geo": {
           "bgcolor": "white",
           "lakecolor": "white",
           "landcolor": "#E5ECF6",
           "showlakes": true,
           "showland": true,
           "subunitcolor": "white"
          },
          "hoverlabel": {
           "align": "left"
          },
          "hovermode": "closest",
          "mapbox": {
           "style": "light"
          },
          "paper_bgcolor": "white",
          "plot_bgcolor": "#E5ECF6",
          "polar": {
           "angularaxis": {
            "gridcolor": "white",
            "linecolor": "white",
            "ticks": ""
           },
           "bgcolor": "#E5ECF6",
           "radialaxis": {
            "gridcolor": "white",
            "linecolor": "white",
            "ticks": ""
           }
          },
          "scene": {
           "xaxis": {
            "backgroundcolor": "#E5ECF6",
            "gridcolor": "white",
            "gridwidth": 2,
            "linecolor": "white",
            "showbackground": true,
            "ticks": "",
            "zerolinecolor": "white"
           },
           "yaxis": {
            "backgroundcolor": "#E5ECF6",
            "gridcolor": "white",
            "gridwidth": 2,
            "linecolor": "white",
            "showbackground": true,
            "ticks": "",
            "zerolinecolor": "white"
           },
           "zaxis": {
            "backgroundcolor": "#E5ECF6",
            "gridcolor": "white",
            "gridwidth": 2,
            "linecolor": "white",
            "showbackground": true,
            "ticks": "",
            "zerolinecolor": "white"
           }
          },
          "shapedefaults": {
           "line": {
            "color": "#2a3f5f"
           }
          },
          "ternary": {
           "aaxis": {
            "gridcolor": "white",
            "linecolor": "white",
            "ticks": ""
           },
           "baxis": {
            "gridcolor": "white",
            "linecolor": "white",
            "ticks": ""
           },
           "bgcolor": "#E5ECF6",
           "caxis": {
            "gridcolor": "white",
            "linecolor": "white",
            "ticks": ""
           }
          },
          "title": {
           "x": 0.05
          },
          "xaxis": {
           "automargin": true,
           "gridcolor": "white",
           "linecolor": "white",
           "ticks": "",
           "title": {
            "standoff": 15
           },
           "zerolinecolor": "white",
           "zerolinewidth": 2
          },
          "yaxis": {
           "automargin": true,
           "gridcolor": "white",
           "linecolor": "white",
           "ticks": "",
           "title": {
            "standoff": 15
           },
           "zerolinecolor": "white",
           "zerolinewidth": 2
          }
         }
        },
        "title": {
         "text": "Conversion over Time by Channel"
        },
        "xaxis": {
         "anchor": "y",
         "autorange": true,
         "domain": [
          0,
          1
         ],
         "range": [
          "2018-07-01",
          "2018-07-30"
         ],
         "title": {
          "text": "Time"
         },
         "type": "date"
        },
        "yaxis": {
         "anchor": "x",
         "autorange": true,
         "domain": [
          0,
          1
         ],
         "range": [
          -13.166666666666666,
          270.1666666666667
         ],
         "title": {
          "text": "Conversion"
         },
         "type": "linear"
        }
       }
      },
      "image/png": "[encoded data removed]",
      "text/html": [
       "<div>                            <div id=\"de853cbb-9e86-468d-967f-6e5e03dbbb77\" class=\"plotly-graph-div\" style=\"height:525px; width:100%;\"></div>            <script type=\"text/javascript\">                require([\"plotly\"], function(Plotly) {                    window.PLOTLYENV=window.PLOTLYENV || {};                                    if (document.getElementById(\"de853cbb-9e86-468d-967f-6e5e03dbbb77\")) {                    Plotly.newPlot(                        \"de853cbb-9e86-468d-967f-6e5e03dbbb77\",                        [{\"hovertemplate\":\"channel=Facebook<br>time=%{x}<br>conversion=%{y}<extra></extra>\",\"legendgroup\":\"Facebook\",\"line\":{\"color\":\"#636efa\",\"dash\":\"solid\"},\"marker\":{\"symbol\":\"circle\"},\"mode\":\"lines\",\"name\":\"Facebook\",\"orientation\":\"v\",\"showlegend\":true,\"type\":\"scatter\",\"x\":[\"2018-07-01\",\"2018-07-02\",\"2018-07-03\",\"2018-07-04\",\"2018-07-05\",\"2018-07-06\",\"2018-07-07\",\"2018-07-08\",\"2018-07-09\",\"2018-07-10\",\"2018-07-11\",\"2018-07-12\",\"2018-07-13\",\"2018-07-14\",\"2018-07-15\",\"2018-07-16\",\"2018-07-17\",\"2018-07-18\",\"2018-07-19\",\"2018-07-20\",\"2018-07-21\",\"2018-07-22\",\"2018-07-23\",\"2018-07-24\",\"2018-07-25\",\"2018-07-26\",\"2018-07-27\",\"2018-07-28\",\"2018-07-29\",\"2018-07-30\"],\"xaxis\":\"x\",\"y\":[135,158,162,173,175,174,197,169,139,157,179,163,151,199,155,174,195,170,173,153,185,187,209,165,159,163,168,158,230,226],\"yaxis\":\"y\"},{\"hovertemplate\":\"channel=Instagram<br>time=%{x}<br>conversion=%{y}<extra></extra>\",\"legendgroup\":\"Instagram\",\"line\":{\"color\":\"#EF553B\",\"dash\":\"solid\"},\"marker\":{\"symbol\":\"circle\"},\"mode\":\"lines\",\"name\":\"Instagram\",\"orientation\":\"v\",\"showlegend\":true,\"type\":\"scatter\",\"x\":[\"2018-07-01\",\"2018-07-02\",\"2018-07-03\",\"2018-07-04\",\"2018-07-05\",\"2018-07-06\",\"2018-07-07\",\"2018-07-08\",\"2018-07-09\",\"2018-07-10\",\"2018-07-11\",\"2018-07-12\",\"2018-07-13\",\"2018-07-14\",\"2018-07-15\",\"2018-07-16\",\"2018-07-17\",\"2018-07-18\",\"2018-07-19\",\"2018-07-20\",\"2018-07-21\",\"2018-07-22\",\"2018-07-23\",\"2018-07-24\",\"2018-07-25\",\"2018-07-26\",\"2018-07-27\",\"2018-07-28\",\"2018-07-29\",\"2018-07-30\"],\"xaxis\":\"x\",\"y\":[69,84,69,79,58,66,82,56,63,55,74,66,85,91,79,76,85,83,64,73,72,79,70,65,44,84,72,67,81,102],\"yaxis\":\"y\"},{\"hovertemplate\":\"channel=Online Display<br>time=%{x}<br>conversion=%{y}<extra></extra>\",\"legendgroup\":\"Online Display\",\"line\":{\"color\":\"#00cc96\",\"dash\":\"solid\"},\"marker\":{\"symbol\":\"circle\"},\"mode\":\"lines\",\"name\":\"Online Display\",\"orientation\":\"v\",\"showlegend\":true,\"type\":\"scatter\",\"x\":[\"2018-07-01\",\"2018-07-02\",\"2018-07-03\",\"2018-07-04\",\"2018-07-06\",\"2018-07-07\",\"2018-07-09\",\"2018-07-11\",\"2018-07-12\",\"2018-07-13\",\"2018-07-14\",\"2018-07-15\",\"2018-07-16\",\"2018-07-17\",\"2018-07-18\",\"2018-07-19\",\"2018-07-20\",\"2018-07-21\",\"2018-07-22\",\"2018-07-23\",\"2018-07-24\",\"2018-07-25\",\"2018-07-26\",\"2018-07-27\",\"2018-07-28\",\"2018-07-29\",\"2018-07-30\"],\"xaxis\":\"x\",\"y\":[75,71,70,63,57,62,86,90,114,83,78,114,100,111,105,110,67,64,81,92,71,72,70,69,78,85,1],\"yaxis\":\"y\"},{\"hovertemplate\":\"channel=Online Video<br>time=%{x}<br>conversion=%{y}<extra></extra>\",\"legendgroup\":\"Online Video\",\"line\":{\"color\":\"#ab63fa\",\"dash\":\"solid\"},\"marker\":{\"symbol\":\"circle\"},\"mode\":\"lines\",\"name\":\"Online Video\",\"orientation\":\"v\",\"showlegend\":true,\"type\":\"scatter\",\"x\":[\"2018-07-01\",\"2018-07-02\",\"2018-07-03\",\"2018-07-04\",\"2018-07-05\",\"2018-07-06\",\"2018-07-07\",\"2018-07-08\",\"2018-07-09\",\"2018-07-10\",\"2018-07-11\",\"2018-07-12\",\"2018-07-13\",\"2018-07-14\",\"2018-07-15\",\"2018-07-16\",\"2018-07-17\",\"2018-07-18\",\"2018-07-19\",\"2018-07-20\",\"2018-07-21\",\"2018-07-22\",\"2018-07-23\",\"2018-07-24\",\"2018-07-25\",\"2018-07-26\",\"2018-07-27\",\"2018-07-28\",\"2018-07-29\",\"2018-07-30\"],\"xaxis\":\"x\",\"y\":[42,73,76,66,68,46,68,92,102,178,162,182,99,141,178,147,147,211,188,131,148,187,134,72,164,113,38,39,101,15],\"yaxis\":\"y\"},{\"hovertemplate\":\"channel=Paid Search<br>time=%{x}<br>conversion=%{y}<extra></extra>\",\"legendgroup\":\"Paid Search\",\"line\":{\"color\":\"#FFA15A\",\"dash\":\"solid\"},\"marker\":{\"symbol\":\"circle\"},\"mode\":\"lines\",\"name\":\"Paid Search\",\"orientation\":\"v\",\"showlegend\":true,\"type\":\"scatter\",\"x\":[\"2018-07-01\",\"2018-07-02\",\"2018-07-03\",\"2018-07-04\",\"2018-07-05\",\"2018-07-06\",\"2018-07-07\",\"2018-07-08\",\"2018-07-09\",\"2018-07-10\",\"2018-07-11\",\"2018-07-12\",\"2018-07-13\",\"2018-07-14\",\"2018-07-15\",\"2018-07-16\",\"2018-07-17\",\"2018-07-18\",\"2018-07-19\",\"2018-07-20\",\"2018-07-21\",\"2018-07-22\",\"2018-07-23\",\"2018-07-24\",\"2018-07-25\",\"2018-07-26\",\"2018-07-27\",\"2018-07-28\",\"2018-07-29\",\"2018-07-30\"],\"xaxis\":\"x\",\"y\":[98,171,256,252,145,126,160,191,184,197,245,200,170,198,172,186,218,172,175,133,137,81,76,69,82,86,56,115,109,81],\"yaxis\":\"y\"}],                        {\"legend\":{\"title\":{\"text\":\"channel\"},\"tracegroupgap\":0},\"margin\":{\"t\":60},\"template\":{\"data\":{\"bar\":[{\"error_x\":{\"color\":\"#2a3f5f\"},\"error_y\":{\"color\":\"#2a3f5f\"},\"marker\":{\"line\":{\"color\":\"#E5ECF6\",\"width\":0.5},\"pattern\":{\"fillmode\":\"overlay\",\"size\":10,\"solidity\":0.2}},\"type\":\"bar\"}],\"barpolar\":[{\"marker\":{\"line\":{\"color\":\"#E5ECF6\",\"width\":0.5},\"pattern\":{\"fillmode\":\"overlay\",\"size\":10,\"solidity\":0.2}},\"type\":\"barpolar\"}],\"carpet\":[{\"aaxis\":{\"endlinecolor\":\"#2a3f5f\",\"gridcolor\":\"white\",\"linecolor\":\"white\",\"minorgridcolor\":\"white\",\"startlinecolor\":\"#2a3f5f\"},\"baxis\":{\"endlinecolor\":\"#2a3f5f\",\"gridcolor\":\"white\",\"linecolor\":\"white\",\"minorgridcolor\":\"white\",\"startlinecolor\":\"#2a3f5f\"},\"type\":\"carpet\"}],\"choropleth\":[{\"colorbar\":{\"outlinewidth\":0,\"ticks\":\"\"},\"type\":\"choropleth\"}],\"contour\":[{\"colorbar\":{\"outlinewidth\":0,\"ticks\":\"\"},\"colorscale\":[[0.0,\"#0d0887\"],[0.1111111111111111,\"#46039f\"],[0.2222222222222222,\"#7201a8\"],[0.3333333333333333,\"#9c179e\"],[0.4444444444444444,\"#bd3786\"],[0.5555555555555556,\"#d8576b\"],[0.6666666666666666,\"#ed7953\"],[0.7777777777777778,\"#fb9f3a\"],[0.8888888888888888,\"#fdca26\"],[1.0,\"#f0f921\"]],\"type\":\"contour\"}],\"contourcarpet\":[{\"colorbar\":{\"outlinewidth\":0,\"ticks\":\"\"},\"type\":\"contourcarpet\"}],\"heatmap\":[{\"colorbar\":{\"outlinewidth\":0,\"ticks\":\"\"},\"colorscale\":[[0.0,\"#0d0887\"],[0.1111111111111111,\"#46039f\"],[0.2222222222222222,\"#7201a8\"],[0.3333333333333333,\"#9c179e\"],[0.4444444444444444,\"#bd3786\"],[0.5555555555555556,\"#d8576b\"],[0.6666666666666666,\"#ed7953\"],[0.7777777777777778,\"#fb9f3a\"],[0.8888888888888888,\"#fdca26\"],[1.0,\"#f0f921\"]],\"type\":\"heatmap\"}],\"heatmapgl\":[{\"colorbar\":{\"outlinewidth\":0,\"ticks\":\"\"},\"colorscale\":[[0.0,\"#0d0887\"],[0.1111111111111111,\"#46039f\"],[0.2222222222222222,\"#7201a8\"],[0.3333333333333333,\"#9c179e\"],[0.4444444444444444,\"#bd3786\"],[0.5555555555555556,\"#d8576b\"],[0.6666666666666666,\"#ed7953\"],[0.7777777777777778,\"#fb9f3a\"],[0.8888888888888888,\"#fdca26\"],[1.0,\"#f0f921\"]],\"type\":\"heatmapgl\"}],\"histogram\":[{\"marker\":{\"pattern\":{\"fillmode\":\"overlay\",\"size\":10,\"solidity\":0.2}},\"type\":\"histogram\"}],\"histogram2d\":[{\"colorbar\":{\"outlinewidth\":0,\"ticks\":\"\"},\"colorscale\":[[0.0,\"#0d0887\"],[0.1111111111111111,\"#46039f\"],[0.2222222222222222,\"#7201a8\"],[0.3333333333333333,\"#9c179e\"],[0.4444444444444444,\"#bd3786\"],[0.5555555555555556,\"#d8576b\"],[0.6666666666666666,\"#ed7953\"],[0.7777777777777778,\"#fb9f3a\"],[0.8888888888888888,\"#fdca26\"],[1.0,\"#f0f921\"]],\"type\":\"histogram2d\"}],\"histogram2dcontour\":[{\"colorbar\":{\"outlinewidth\":0,\"ticks\":\"\"},\"colorscale\":[[0.0,\"#0d0887\"],[0.1111111111111111,\"#46039f\"],[0.2222222222222222,\"#7201a8\"],[0.3333333333333333,\"#9c179e\"],[0.4444444444444444,\"#bd3786\"],[0.5555555555555556,\"#d8576b\"],[0.6666666666666666,\"#ed7953\"],[0.7777777777777778,\"#fb9f3a\"],[0.8888888888888888,\"#fdca26\"],[1.0,\"#f0f921\"]],\"type\":\"histogram2dcontour\"}],\"mesh3d\":[{\"colorbar\":{\"outlinewidth\":0,\"ticks\":\"\"},\"type\":\"mesh3d\"}],\"parcoords\":[{\"line\":{\"colorbar\":{\"outlinewidth\":0,\"ticks\":\"\"}},\"type\":\"parcoords\"}],\"pie\":[{\"automargin\":true,\"type\":\"pie\"}],\"scatter\":[{\"marker\":{\"colorbar\":{\"outlinewidth\":0,\"ticks\":\"\"}},\"type\":\"scatter\"}],\"scatter3d\":[{\"line\":{\"colorbar\":{\"outlinewidth\":0,\"ticks\":\"\"}},\"marker\":{\"colorbar\":{\"outlinewidth\":0,\"ticks\":\"\"}},\"type\":\"scatter3d\"}],\"scattercarpet\":[{\"marker\":{\"colorbar\":{\"outlinewidth\":0,\"ticks\":\"\"}},\"type\":\"scattercarpet\"}],\"scattergeo\":[{\"marker\":{\"colorbar\":{\"outlinewidth\":0,\"ticks\":\"\"}},\"type\":\"scattergeo\"}],\"scattergl\":[{\"marker\":{\"colorbar\":{\"outlinewidth\":0,\"ticks\":\"\"}},\"type\":\"scattergl\"}],\"scattermapbox\":[{\"marker\":{\"colorbar\":{\"outlinewidth\":0,\"ticks\":\"\"}},\"type\":\"scattermapbox\"}],\"scatterpolar\":[{\"marker\":{\"colorbar\":{\"outlinewidth\":0,\"ticks\":\"\"}},\"type\":\"scatterpolar\"}],\"scatterpolargl\":[{\"marker\":{\"colorbar\":{\"outlinewidth\":0,\"ticks\":\"\"}},\"type\":\"scatterpolargl\"}],\"scatterternary\":[{\"marker\":{\"colorbar\":{\"outlinewidth\":0,\"ticks\":\"\"}},\"type\":\"scatterternary\"}],\"surface\":[{\"colorbar\":{\"outlinewidth\":0,\"ticks\":\"\"},\"colorscale\":[[0.0,\"#0d0887\"],[0.1111111111111111,\"#46039f\"],[0.2222222222222222,\"#7201a8\"],[0.3333333333333333,\"#9c179e\"],[0.4444444444444444,\"#bd3786\"],[0.5555555555555556,\"#d8576b\"],[0.6666666666666666,\"#ed7953\"],[0.7777777777777778,\"#fb9f3a\"],[0.8888888888888888,\"#fdca26\"],[1.0,\"#f0f921\"]],\"type\":\"surface\"}],\"table\":[{\"cells\":{\"fill\":{\"color\":\"#EBF0F8\"},\"line\":{\"color\":\"white\"}},\"header\":{\"fill\":{\"color\":\"#C8D4E3\"},\"line\":{\"color\":\"white\"}},\"type\":\"table\"}]},\"layout\":{\"annotationdefaults\":{\"arrowcolor\":\"#2a3f5f\",\"arrowhead\":0,\"arrowwidth\":1},\"autotypenumbers\":\"strict\",\"coloraxis\":{\"colorbar\":{\"outlinewidth\":0,\"ticks\":\"\"}},\"colorscale\":{\"diverging\":[[0,\"#8e0152\"],[0.1,\"#c51b7d\"],[0.2,\"#de77ae\"],[0.3,\"#f1b6da\"],[0.4,\"#fde0ef\"],[0.5,\"#f7f7f7\"],[0.6,\"#e6f5d0\"],[0.7,\"#b8e186\"],[0.8,\"#7fbc41\"],[0.9,\"#4d9221\"],[1,\"#276419\"]],\"sequential\":[[0.0,\"#0d0887\"],[0.1111111111111111,\"#46039f\"],[0.2222222222222222,\"#7201a8\"],[0.3333333333333333,\"#9c179e\"],[0.4444444444444444,\"#bd3786\"],[0.5555555555555556,\"#d8576b\"],[0.6666666666666666,\"#ed7953\"],[0.7777777777777778,\"#fb9f3a\"],[0.8888888888888888,\"#fdca26\"],[1.0,\"#f0f921\"]],\"sequentialminus\":[[0.0,\"#0d0887\"],[0.1111111111111111,\"#46039f\"],[0.2222222222222222,\"#7201a8\"],[0.3333333333333333,\"#9c179e\"],[0.4444444444444444,\"#bd3786\"],[0.5555555555555556,\"#d8576b\"],[0.6666666666666666,\"#ed7953\"],[0.7777777777777778,\"#fb9f3a\"],[0.8888888888888888,\"#fdca26\"],[1.0,\"#f0f921\"]]},\"colorway\":[\"#636efa\",\"#EF553B\",\"#00cc96\",\"#ab63fa\",\"#FFA15A\",\"#19d3f3\",\"#FF6692\",\"#B6E880\",\"#FF97FF\",\"#FECB52\"],\"font\":{\"color\":\"#2a3f5f\"},\"geo\":{\"bgcolor\":\"white\",\"lakecolor\":\"white\",\"landcolor\":\"#E5ECF6\",\"showlakes\":true,\"showland\":true,\"subunitcolor\":\"white\"},\"hoverlabel\":{\"align\":\"left\"},\"hovermode\":\"closest\",\"mapbox\":{\"style\":\"light\"},\"paper_bgcolor\":\"white\",\"plot_bgcolor\":\"#E5ECF6\",\"polar\":{\"angularaxis\":{\"gridcolor\":\"white\",\"linecolor\":\"white\",\"ticks\":\"\"},\"bgcolor\":\"#E5ECF6\",\"radialaxis\":{\"gridcolor\":\"white\",\"linecolor\":\"white\",\"ticks\":\"\"}},\"scene\":{\"xaxis\":{\"backgroundcolor\":\"#E5ECF6\",\"gridcolor\":\"white\",\"gridwidth\":2,\"linecolor\":\"white\",\"showbackground\":true,\"ticks\":\"\",\"zerolinecolor\":\"white\"},\"yaxis\":{\"backgroundcolor\":\"#E5ECF6\",\"gridcolor\":\"white\",\"gridwidth\":2,\"linecolor\":\"white\",\"showbackground\":true,\"ticks\":\"\",\"zerolinecolor\":\"white\"},\"zaxis\":{\"backgroundcolor\":\"#E5ECF6\",\"gridcolor\":\"white\",\"gridwidth\":2,\"linecolor\":\"white\",\"showbackground\":true,\"ticks\":\"\",\"zerolinecolor\":\"white\"}},\"shapedefaults\":{\"line\":{\"color\":\"#2a3f5f\"}},\"ternary\":{\"aaxis\":{\"gridcolor\":\"white\",\"linecolor\":\"white\",\"ticks\":\"\"},\"baxis\":{\"gridcolor\":\"white\",\"linecolor\":\"white\",\"ticks\":\"\"},\"bgcolor\":\"#E5ECF6\",\"caxis\":{\"gridcolor\":\"white\",\"linecolor\":\"white\",\"ticks\":\"\"}},\"title\":{\"x\":0.05},\"xaxis\":{\"automargin\":true,\"gridcolor\":\"white\",\"linecolor\":\"white\",\"ticks\":\"\",\"title\":{\"standoff\":15},\"zerolinecolor\":\"white\",\"zerolinewidth\":2},\"yaxis\":{\"automargin\":true,\"gridcolor\":\"white\",\"linecolor\":\"white\",\"ticks\":\"\",\"title\":{\"standoff\":15},\"zerolinecolor\":\"white\",\"zerolinewidth\":2}}},\"title\":{\"text\":\"Conversion over Time by Channel\"},\"xaxis\":{\"anchor\":\"y\",\"domain\":[0.0,1.0],\"title\":{\"text\":\"Time\"}},\"yaxis\":{\"anchor\":\"x\",\"domain\":[0.0,1.0],\"title\":{\"text\":\"Conversion\"}}},                        {\"responsive\": true}                    ).then(function(){\n",
       "                            \n",
       "var gd = document.getElementById('de853cbb-9e86-468d-967f-6e5e03dbbb77');\n",
       "var x = new MutationObserver(function (mutations, observer) {{\n",
       "        var display = window.getComputedStyle(gd).display;\n",
       "        if (!display || display === 'none') {{\n",
       "            console.log([gd, 'removed!']);\n",
       "            Plotly.purge(gd);\n",
       "            observer.disconnect();\n",
       "        }}\n",
       "}});\n",
       "\n",
       "// Listen for the removal of the full notebook cells\n",
       "var notebookContainer = gd.closest('#notebook-container');\n",
       "if (notebookContainer) {{\n",
       "    x.observe(notebookContainer, {childList: true});\n",
       "}}\n",
       "\n",
       "// Listen for the clearing of the current output cell\n",
       "var outputEl = gd.closest('.output');\n",
       "if (outputEl) {{\n",
       "    x.observe(outputEl, {childList: true});\n",
       "}}\n",
       "\n",
       "                        })                };                });            </script>        </div>"
      ]
     },
     "metadata": {},
     "output_type": "display_data"
    }
   ],
   "source": [
    "fig = px.line(conversions, x = 'time', y = 'conversion', color = 'channel')\n",
    "fig.update_layout(title = 'Conversion over Time by Channel',\n",
    "                  xaxis_title = 'Time',\n",
    "                  yaxis_title = 'Conversion')\n",
    "fig.show()"
   ]
  },
  {
   "cell_type": "code",
   "execution_count": 35,
   "id": "cd67d03a-a326-4656-b1b4-7e7a7e681404",
   "metadata": {},
   "outputs": [
    {
     "name": "stdout",
     "output_type": "stream",
     "text": [
      "Total conversions: 17639\n",
      "Total conversion rate: 3%\n",
      "Total value of conversions: $110231\n",
      "Average conversion value: $6\n"
     ]
    }
   ],
   "source": [
    "print('Total conversions: {}'.format(sum(data.conversion)))\n",
    "print('Total conversion rate: {}%'.format(round(sum(data.conversion) / len(data)*100)))\n",
    "print('Total value of conversions: ${}'.format(round(sum(data.conversion_value))))\n",
    "print('Average conversion value: ${}'.format(round(sum(data.conversion_value) / sum(data.conversion))))"
   ]
  },
  {
   "cell_type": "code",
   "execution_count": null,
   "id": "fae8022d-6bbd-4202-844c-e9ae5a9feadb",
   "metadata": {},
   "outputs": [],
   "source": []
  }
 ],
 "metadata": {
  "kernelspec": {
   "display_name": "Python 3 (ipykernel)",
   "language": "python",
   "name": "python3"
  },
  "language_info": {
   "codemirror_mode": {
    "name": "ipython",
    "version": 3
   },
   "file_extension": ".py",
   "mimetype": "text/x-python",
   "name": "python",
   "nbconvert_exporter": "python",
   "pygments_lexer": "ipython3",
   "version": "3.9.9"
  }
 },
 "nbformat": 4,
 "nbformat_minor": 5
}
