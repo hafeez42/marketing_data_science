{
  "nbformat": 4,
  "nbformat_minor": 0,
  "metadata": {
    "colab": {
      "name": "A/B test of Mobile Game.ipynb",
      "provenance": [],
      "toc_visible": true,
      "authorship_tag": "ABX9TyOLy1hIQus93MyssbZH/ZJE",
      "include_colab_link": true
    },
    "kernelspec": {
      "name": "python3",
      "display_name": "Python 3"
    },
    "language_info": {
      "name": "python"
    }
  },
  "cells": [
    {
      "cell_type": "markdown",
      "metadata": {
        "id": "view-in-github",
        "colab_type": "text"
      },
      "source": [
        "<a href=\"https://colab.research.google.com/github/hafeez42/marketing_data_science/blob/master/A_B_test_of_Mobile_Game.ipynb\" target=\"_parent\"><img src=\"https://colab.research.google.com/assets/colab-badge.svg\" alt=\"Open In Colab\"/></a>"
      ]
    },
    {
      "cell_type": "code",
      "execution_count": null,
      "metadata": {
        "id": "SjWbZYx5PrUU"
      },
      "outputs": [],
      "source": [
        "import pandas as pd\n",
        "import numpy as np\n",
        "import matplotlib.pyplot as plt\n",
        "import seaborn as sns\n",
        "\n",
        "%matplotlib inline"
      ]
    },
    {
      "cell_type": "code",
      "source": [
        "# import json file into colab\n",
        "from google.colab import files\n",
        "files.upload()\n",
        "\n",
        "# setup Kaggle DIR; copy json file ; chmod\n",
        "!mkdir -p ~/.kaggle\n",
        "!cp kaggle.json ~/.kaggle/\n",
        "!chmod 600 ~/.kaggle/kaggle.json\n",
        "!ls ~/.kaggle\n",
        "\n",
        "# verifying json file content\n",
        "!ls -l ~/.kaggle\n",
        "!cat ~/.kaggle/kaggle.json\n"
      ],
      "metadata": {
        "id": "Kl3a8BnFQGk2"
      },
      "execution_count": null,
      "outputs": []
    },
    {
      "cell_type": "code",
      "source": [
        "!kaggle datasets list -s A/B "
      ],
      "metadata": {
        "colab": {
          "base_uri": "https://localhost:8080/"
        },
        "id": "biu1VAfhQGr2",
        "outputId": "fa0855d0-7393-4b8b-af58-0c77c99813a8"
      },
      "execution_count": null,
      "outputs": [
        {
          "output_type": "stream",
          "name": "stdout",
          "text": [
            "Warning: Looks like you're using an outdated API Version, please consider updating (server 1.5.12 / client 1.5.4)\n",
            "ref                                                title                                           size  lastUpdated          downloadCount  \n",
            "-------------------------------------------------  ---------------------------------------------  -----  -------------------  -------------  \n",
            "yufengsui/mobile-games-ab-testing                  Mobile Games: A/B Testing                      490KB  2019-07-22 08:37:03           1459  \n",
            "ttahara/birdsong-resampled-train-audio-00          birdsong resampled train audio 00 (a ~ b)       12GB  2020-07-04 13:16:57           1995  \n",
            "zhangluyuan/ab-testing                             A/B testing                                      4MB  2018-06-25 15:47:34           3158  \n",
            "ilkeryildiz/example-dataset-for-ab-test            Example Dataset for A/B Test                     2KB  2021-10-03 19:45:11            126  \n",
            "futurecorporation/epitope-prediction               COVID-19/SARS B-cell Epitope Prediction          1MB  2020-07-24 02:53:28           2560  \n",
            "chebotinaa/fast-food-marketing-campaign-ab-test    Fast Food Marketing Campaign A\\B Test            3KB  2021-09-13 15:35:57            459  \n",
            "pablomgomez21/drugs-a-b-c-x-y-for-decision-trees   Drugs A, B, C, X, Y for Decision Trees           2KB  2021-06-26 11:13:21           1175  \n",
            "osuolaleemmanuel/ad-ab-testing                     Ad A/B Testing                                 216KB  2020-08-10 21:58:07            271  \n",
            "wyattowalsh/basketball                             Basketball Dataset                             349MB  2021-09-15 03:38:00           5706  \n",
            "mursideyarkin/mobile-games-ab-testing-cookie-cats  Mobile Games A/B Testing - Cookie Cats         487KB  2021-02-10 08:16:25            153  \n",
            "uciml/breast-cancer-wisconsin-data                 Breast Cancer Wisconsin (Diagnostic) Data Set   49KB  2016-09-25 10:49:04         182823  \n",
            "yamaerenay/synthetical-abtests                     Synthetical A/B-Tests                            3MB  2020-09-16 12:01:22             36  \n",
            "luisblanche/birdcall-singing-0                     BirdCall No Background A-B                      10GB  2020-07-14 19:56:27             63  \n",
            "deepu1109/star-dataset                             Star dataset to predict star types               3KB  2019-10-21 19:47:09           4640  \n",
            "gpreda/covid19-tweets                              COVID19 Tweets                                  28MB  2020-08-30 09:38:38          13692  \n",
            "ahmedmohameddawoud/ecommerce-ab-testing            E-commerce A/B testing                           3MB  2021-05-31 11:10:11             79  \n",
            "unanimad/us-election-2020                          US Election 2020                               429KB  2020-12-28 21:12:35          17269  \n",
            "jerzydziewierz/bee-vs-wasp                         Bee or wasp?                                   559MB  2020-08-23 18:07:47           2685  \n",
            "arashnic/fitbit                                    FitBit Fitness Tracker Data                     24MB  2020-12-16 15:20:03          18615  \n",
            "kinguistics/heartbeat-sounds                       Heartbeat Sounds                               110MB  2016-11-27 01:33:54          13896  \n"
          ]
        }
      ]
    },
    {
      "cell_type": "code",
      "source": [
        "# download the dataset from kaggle\n",
        "!kaggle datasets download -d yufengsui/mobile-games-ab-testing\n",
        "\n",
        "# unzip files\n",
        "!unzip \\*.zip"
      ],
      "metadata": {
        "colab": {
          "base_uri": "https://localhost:8080/"
        },
        "id": "57WGxsZQQMQX",
        "outputId": "025bea09-3450-4b81-de70-0c531e29e158"
      },
      "execution_count": null,
      "outputs": [
        {
          "output_type": "stream",
          "name": "stdout",
          "text": [
            "Downloading mobile-games-ab-testing.zip to /content\n",
            "\r  0% 0.00/490k [00:00<?, ?B/s]\n",
            "\r100% 490k/490k [00:00<00:00, 16.2MB/s]\n",
            "Archive:  mobile-games-ab-testing.zip\n",
            "  inflating: cookie_cats.csv         \n"
          ]
        }
      ]
    },
    {
      "cell_type": "code",
      "source": [
        "data = pd.read_csv('cookie_cats.csv')\n",
        "data.head()"
      ],
      "metadata": {
        "colab": {
          "base_uri": "https://localhost:8080/",
          "height": 206
        },
        "id": "WKGv-thCQyEH",
        "outputId": "2e60e9b7-66cf-4b4c-896c-6c13966b6be4"
      },
      "execution_count": null,
      "outputs": [
        {
          "output_type": "execute_result",
          "data": {
            "text/html": [
              "<div>\n",
              "<style scoped>\n",
              "    .dataframe tbody tr th:only-of-type {\n",
              "        vertical-align: middle;\n",
              "    }\n",
              "\n",
              "    .dataframe tbody tr th {\n",
              "        vertical-align: top;\n",
              "    }\n",
              "\n",
              "    .dataframe thead th {\n",
              "        text-align: right;\n",
              "    }\n",
              "</style>\n",
              "<table border=\"1\" class=\"dataframe\">\n",
              "  <thead>\n",
              "    <tr style=\"text-align: right;\">\n",
              "      <th></th>\n",
              "      <th>userid</th>\n",
              "      <th>version</th>\n",
              "      <th>sum_gamerounds</th>\n",
              "      <th>retention_1</th>\n",
              "      <th>retention_7</th>\n",
              "    </tr>\n",
              "  </thead>\n",
              "  <tbody>\n",
              "    <tr>\n",
              "      <th>0</th>\n",
              "      <td>116</td>\n",
              "      <td>gate_30</td>\n",
              "      <td>3</td>\n",
              "      <td>False</td>\n",
              "      <td>False</td>\n",
              "    </tr>\n",
              "    <tr>\n",
              "      <th>1</th>\n",
              "      <td>337</td>\n",
              "      <td>gate_30</td>\n",
              "      <td>38</td>\n",
              "      <td>True</td>\n",
              "      <td>False</td>\n",
              "    </tr>\n",
              "    <tr>\n",
              "      <th>2</th>\n",
              "      <td>377</td>\n",
              "      <td>gate_40</td>\n",
              "      <td>165</td>\n",
              "      <td>True</td>\n",
              "      <td>False</td>\n",
              "    </tr>\n",
              "    <tr>\n",
              "      <th>3</th>\n",
              "      <td>483</td>\n",
              "      <td>gate_40</td>\n",
              "      <td>1</td>\n",
              "      <td>False</td>\n",
              "      <td>False</td>\n",
              "    </tr>\n",
              "    <tr>\n",
              "      <th>4</th>\n",
              "      <td>488</td>\n",
              "      <td>gate_40</td>\n",
              "      <td>179</td>\n",
              "      <td>True</td>\n",
              "      <td>True</td>\n",
              "    </tr>\n",
              "  </tbody>\n",
              "</table>\n",
              "</div>"
            ],
            "text/plain": [
              "   userid  version  sum_gamerounds  retention_1  retention_7\n",
              "0     116  gate_30               3        False        False\n",
              "1     337  gate_30              38         True        False\n",
              "2     377  gate_40             165         True        False\n",
              "3     483  gate_40               1        False        False\n",
              "4     488  gate_40             179         True         True"
            ]
          },
          "metadata": {},
          "execution_count": 6
        }
      ]
    },
    {
      "cell_type": "markdown",
      "source": [
        "# Exploratory Analysis\n",
        "In the given data, the game is installed by 90,189 players.\n",
        "The variables are:\n",
        "\n",
        " - userid - a unique number that identifies each player.\n",
        " - version - whether the player was put in the control group (gate_30 - a gate at level 30) or the group with the moved gate (gate_40 - a gate at level 40).\n",
        " - sum_gamerounds - the number of game rounds played by the player during the first 14 days after install.\n",
        " - retention_1 - did the player come back and play 1 day after installing?\n",
        " - retention_7 - did the player come back and play 7 days after installing?\n",
        "\n",
        "First, let's check the class distribution"
      ],
      "metadata": {
        "id": "33iRTnisRPY3"
      }
    },
    {
      "cell_type": "markdown",
      "source": [
        "### Class Distribution"
      ],
      "metadata": {
        "id": "pVbqed1AVebb"
      }
    },
    {
      "cell_type": "code",
      "source": [
        "print(data.version.value_counts())"
      ],
      "metadata": {
        "colab": {
          "base_uri": "https://localhost:8080/"
        },
        "id": "icFHCU1tQ4SV",
        "outputId": "6bbb3777-944a-4360-be66-0b07ea1b8705"
      },
      "execution_count": null,
      "outputs": [
        {
          "output_type": "stream",
          "name": "stdout",
          "text": [
            "gate_40    45489\n",
            "gate_30    44700\n",
            "Name: version, dtype: int64\n"
          ]
        }
      ]
    },
    {
      "cell_type": "code",
      "source": [
        "sns.set_theme(style=\"darkgrid\")\n",
        "sns.countplot(x = \"version\", data=data)\n",
        "plt.show()"
      ],
      "metadata": {
        "colab": {
          "base_uri": "https://localhost:8080/",
          "height": 286
        },
        "id": "n4jHPkh7S0yO",
        "outputId": "c0e197b8-641e-40fe-ed54-87f768f3c363"
      },
      "execution_count": null,
      "outputs": [
        {
          "output_type": "display_data",
          "data": {
            "image/png": "[encoded data removed]",
            "text/plain": [
              "<Figure size 432x288 with 1 Axes>"
            ]
          },
          "metadata": {}
        }
      ]
    },
    {
      "cell_type": "markdown",
      "source": [
        "It looks like there is roughly the same number of players in each group.\n",
        "The focus of this analysis is on how the gate placement affects player retention.\n",
        "Let's plot the distribution of the number of game rounds players played during their first week playing the game."
      ],
      "metadata": {
        "id": "RHh8MEkBUnzS"
      }
    },
    {
      "cell_type": "markdown",
      "source": [
        "### The Distribution of Game Rounds"
      ],
      "metadata": {
        "id": "TdOYkw1iVizu"
      }
    },
    {
      "cell_type": "code",
      "source": [
        "# Counting the number of players for each number of gamerounds \n",
        "plot_df = data.groupby('sum_gamerounds')['userid'].count()\n",
        "\n",
        "# Plotting the distribution of players that played 0 to 100 game rounds\n",
        "ax = plot_df.head(n=100).plot(x='sum_gamerounds', y='userid', kind= 'hist')\n",
        "ax.set_xlabel(\"sum_gamerounds\")\n",
        "ax.set_ylabel(\"userid\")"
      ],
      "metadata": {
        "colab": {
          "base_uri": "https://localhost:8080/",
          "height": 302
        },
        "id": "8KDwLLqHTIbs",
        "outputId": "cdfbd6b0-f635-4cf0-a003-5133465063cd"
      },
      "execution_count": null,
      "outputs": [
        {
          "output_type": "execute_result",
          "data": {
            "text/plain": [
              "Text(0, 0.5, 'userid')"
            ]
          },
          "metadata": {},
          "execution_count": 9
        },
        {
          "output_type": "display_data",
          "data": {
            "image/png": "[encoded data removed]",
            "text/plain": [
              "<Figure size 432x288 with 1 Axes>"
            ]
          },
          "metadata": {}
        }
      ]
    },
    {
      "cell_type": "markdown",
      "source": [
        "From the plot above we can see that some players install the game but then never play it (0 game rounds), some players just play a couple of game rounds in their first week, and some really start enjoying it!\n",
        "\n",
        "\n",
        "# Overall 1-day retention\n",
        "\n",
        "\n",
        "We want players to enjoy the game and become addicted to it. The percentage of players who come back and play the game one day after installing it is a typical indicator in the video gaming industry evaluating how exciting and engaging it is. It is easier to keep gamers and grow a huge player base with a high 1-day retention rate."
      ],
      "metadata": {
        "id": "8UlkDBu-VwMJ"
      }
    },
    {
      "cell_type": "code",
      "source": [
        "np.multiply(np.mean(data['retention_1']), 100).round(2)"
      ],
      "metadata": {
        "colab": {
          "base_uri": "https://localhost:8080/"
        },
        "id": "eBAddqx-VIOE",
        "outputId": "a7d6ed87-8e53-4e32-d0a9-abe4ca1b9a37"
      },
      "execution_count": null,
      "outputs": [
        {
          "output_type": "execute_result",
          "data": {
            "text/plain": [
              "44.52"
            ]
          },
          "metadata": {},
          "execution_count": 10
        }
      ]
    },
    {
      "cell_type": "markdown",
      "source": [
        "\n",
        "As a result, somewhat less than half of the gamers return one day after downloading the game. Now that we have a benchmark let's see how 1-day retention compares between the two AB groups.\n",
        "\n",
        "### 1-Day Retention A/B Group"
      ],
      "metadata": {
        "id": "wqOSLZtMaGDk"
      }
    },
    {
      "cell_type": "code",
      "source": [
        "data.groupby('version')['retention_1'].agg('mean')"
      ],
      "metadata": {
        "colab": {
          "base_uri": "https://localhost:8080/"
        },
        "id": "-RlKTK2RYU5k",
        "outputId": "3d70aeaf-f12f-4a0d-f656-f1e1807815fc"
      },
      "execution_count": null,
      "outputs": [
        {
          "output_type": "execute_result",
          "data": {
            "text/plain": [
              "version\n",
              "gate_30    0.448188\n",
              "gate_40    0.442283\n",
              "Name: retention_1, dtype: float64"
            ]
          },
          "metadata": {},
          "execution_count": 11
        }
      ]
    },
    {
      "cell_type": "markdown",
      "source": [
        "It seems, when the gate was moved to level 40 (44.2%), there appeared to be a slight drop in 1-day retention compared to the control group when it was at level 30. (44.8%). It's a minor difference, but even minor improvements in retention can have a significant influence. But, while the data difference is certain, how certain can we be that a level 40 gate will be worse in the future?\n",
        "\n",
        "We can determine the certainty of these retention figures in a handful of ways. We'll use bootstrapping in this case: We'll re-sample our dataset (with replacement) several times and determine 1-day retention for each sample. The fluctuation in 1-day retention will indicate how unreliable the retention figures are.\n",
        "\n",
        "### Bootstraping"
      ],
      "metadata": {
        "id": "cotUjbNRcYa0"
      }
    },
    {
      "cell_type": "code",
      "source": [
        "# Creating an list with bootstrapped means for each AB-group\n",
        "boot_1d = []\n",
        "for i in range(5000):\n",
        "    boot_mean = data.sample(frac=1, replace=True).groupby('version')['retention_1'].mean()\n",
        "    boot_1d.append(boot_mean)\n",
        "    \n",
        "# Transforming the list to a DataFrame\n",
        "boot_1d = pd.DataFrame(boot_1d)\n",
        "    \n",
        "# A Kernel Density Estimate plot of the bootstrap distributions\n",
        "boot_1d.plot(kind = 'kde')"
      ],
      "metadata": {
        "colab": {
          "base_uri": "https://localhost:8080/",
          "height": 285
        },
        "id": "IBTTQ56wZOpY",
        "outputId": "12b445c9-57b3-4631-f4c4-bcab05a919ed"
      },
      "execution_count": null,
      "outputs": [
        {
          "output_type": "execute_result",
          "data": {
            "text/plain": [
              "<matplotlib.axes._subplots.AxesSubplot at 0x7fcb2fba2550>"
            ]
          },
          "metadata": {},
          "execution_count": 12
        },
        {
          "output_type": "display_data",
          "data": {
            "image/png": "[encoded data removed]",
            "text/plain": [
              "<Figure size 432x288 with 1 Axes>"
            ]
          },
          "metadata": {}
        }
      ]
    },
    {
      "cell_type": "markdown",
      "source": [
        "The two distributions above represent the bootstrap uncertainty for the underlying 1-day retention for the two AB groups. By simply looking at this graph, we can tell that there appears to be some indication of a difference, albeit minor. So, let's take a closer look at the difference in 1-day retention."
      ],
      "metadata": {
        "id": "G8bXoaF7doSO"
      }
    },
    {
      "cell_type": "code",
      "source": [
        "# adding a column with the % difference between the two AB-groups\n",
        "boot_1d['diff'] = (boot_1d['gate_30'] - boot_1d['gate_40']) /  boot_1d['gate_40'] * 100\n",
        "\n",
        "# ploting the bootstrap % difference\n",
        "ax = boot_1d['diff'].plot(kind = 'kde')\n",
        "ax.set_xlabel(\"% difference in means\")"
      ],
      "metadata": {
        "colab": {
          "base_uri": "https://localhost:8080/",
          "height": 302
        },
        "id": "dr4pCBhtdV2u",
        "outputId": "d1685144-9265-463a-cd2a-6fb1633798dc"
      },
      "execution_count": null,
      "outputs": [
        {
          "output_type": "execute_result",
          "data": {
            "text/plain": [
              "Text(0.5, 0, '% difference in means')"
            ]
          },
          "metadata": {},
          "execution_count": 14
        },
        {
          "output_type": "display_data",
          "data": {
            "image/png": "[encoded data removed]",
            "text/plain": [
              "<Figure size 432x288 with 1 Axes>"
            ]
          },
          "metadata": {}
        }
      ]
    },
    {
      "cell_type": "markdown",
      "source": [
        "We can see from this graph that the most likely percent difference is approximately 1% and that the majority of the distribution is above 0%, favoring a gate at level 30. But what are the chances that the difference is more than 0%? Let's do the math on it as well."
      ],
      "metadata": {
        "id": "iuubiuOOiLhg"
      }
    },
    {
      "cell_type": "code",
      "source": [
        "# calculating the probability that 1-day retention is greater when the gate is at level 30\n",
        "prob = np.mean(boot_1d['diff'] > 0.0)\n",
        "\n",
        "# printing the probability\n",
        "'{:.1%}'.format(prob)"
      ],
      "metadata": {
        "colab": {
          "base_uri": "https://localhost:8080/",
          "height": 35
        },
        "id": "IsBPso3ffpFx",
        "outputId": "a34f0d32-2866-446f-ad47-97bcbb20ddcd"
      },
      "execution_count": null,
      "outputs": [
        {
          "output_type": "execute_result",
          "data": {
            "application/vnd.google.colaboratory.intrinsic+json": {
              "type": "string"
            },
            "text/plain": [
              "'96.1%'"
            ]
          },
          "metadata": {},
          "execution_count": 15
        }
      ]
    },
    {
      "cell_type": "markdown",
      "source": [
        "The bootstrap results indicated that if the gate is at level 30, there is a strong possibility of better 1-day retention. However, because most players have only been playing for one day, they probably haven't yet achieved level 30. That is, even if the gate appears at level 30, many players will not have been affected.\n",
        "\n",
        "However, more players should have achieved level 40 after a week of play; thus, it seems reasonable to look at 7-day retention. For example, what percentage of users who downloaded the game returned to play it again a week later?\n",
        "\n",
        "To begin, compute 7-day retention for the two AB groups.\n",
        "\n",
        "# 7 Day Retention A/B Group\n"
      ],
      "metadata": {
        "id": "C50D6mO8hZ1Y"
      }
    },
    {
      "cell_type": "code",
      "source": [
        "data.groupby('version')['retention_7'].agg('mean')"
      ],
      "metadata": {
        "colab": {
          "base_uri": "https://localhost:8080/"
        },
        "id": "2WOBc4AEhYn_",
        "outputId": "d347dcd6-1e02-4442-ad9c-5a0486ba3f6b"
      },
      "execution_count": null,
      "outputs": [
        {
          "output_type": "execute_result",
          "data": {
            "text/plain": [
              "version\n",
              "gate_30    0.190201\n",
              "gate_40    0.182000\n",
              "Name: retention_7, dtype: float64"
            ]
          },
          "metadata": {},
          "execution_count": 16
        }
      ]
    },
    {
      "cell_type": "code",
      "source": [
        "boot_7d = []\n",
        "for i in range(5000):\n",
        "    boot_mean = data.sample(frac=1, replace=True).groupby('version')['retention_7'].mean()\n",
        "    boot_7d.append(boot_mean)\n",
        "    \n",
        "# transforming the list to a DataFrame\n",
        "boot_7d = pd.DataFrame(boot_7d)\n",
        "    \n",
        "# Kernel Density Estimate plot of the bootstrap distributions\n",
        "boot_7d.plot(kind = 'kde')"
      ],
      "metadata": {
        "colab": {
          "base_uri": "https://localhost:8080/",
          "height": 285
        },
        "id": "xHNGdAVvj8fb",
        "outputId": "b0fd2fc1-d425-4177-ee72-3ed0e1574db9"
      },
      "execution_count": null,
      "outputs": [
        {
          "output_type": "execute_result",
          "data": {
            "text/plain": [
              "<matplotlib.axes._subplots.AxesSubplot at 0x7fcb2ff55790>"
            ]
          },
          "metadata": {},
          "execution_count": 18
        },
        {
          "output_type": "display_data",
          "data": {
            "image/png": "[encoded data removed]",
            "text/plain": [
              "<Figure size 432x288 with 1 Axes>"
            ]
          },
          "metadata": {}
        }
      ]
    },
    {
      "cell_type": "code",
      "source": [
        "# adding a column with the % difference between the two AB-groups\n",
        "boot_7d['diff'] = (boot_7d['gate_30'] - boot_7d['gate_40']) /  boot_7d['gate_40'] * 100\n",
        "\n",
        "# ploting the bootstrap % difference\n",
        "ax = boot_7d['diff'].plot(kind = 'kde')\n",
        "ax.set_xlabel(\"% difference in means\")"
      ],
      "metadata": {
        "colab": {
          "base_uri": "https://localhost:8080/",
          "height": 302
        },
        "id": "TFjsg_2llQlg",
        "outputId": "e409878a-1f4a-40a0-a921-ff84a26dc0c6"
      },
      "execution_count": null,
      "outputs": [
        {
          "output_type": "execute_result",
          "data": {
            "text/plain": [
              "Text(0.5, 0, '% difference in means')"
            ]
          },
          "metadata": {},
          "execution_count": 19
        },
        {
          "output_type": "display_data",
          "data": {
            "image/png": "[encoded data removed]",
            "text/plain": [
              "<Figure size 432x288 with 1 Axes>"
            ]
          },
          "metadata": {}
        }
      ]
    },
    {
      "cell_type": "code",
      "source": [
        "# calculating the probability that 7-day retention is greater when the gate is at level 30\n",
        "prob = np.mean(boot_7d['diff'] > 0.0)\n",
        "\n",
        "# printing the probability\n",
        "'{:.1%}'.format(prob)"
      ],
      "metadata": {
        "colab": {
          "base_uri": "https://localhost:8080/",
          "height": 35
        },
        "id": "ztBt1Tsklvro",
        "outputId": "1142e5b2-0ac8-4e06-e030-5e2d9259f27f"
      },
      "execution_count": null,
      "outputs": [
        {
          "output_type": "execute_result",
          "data": {
            "application/vnd.google.colaboratory.intrinsic+json": {
              "type": "string"
            },
            "text/plain": [
              "'99.9%'"
            ]
          },
          "metadata": {},
          "execution_count": 20
        }
      ]
    },
    {
      "cell_type": "markdown",
      "source": [
        "# Conclusion\n",
        "\n",
        "The bootstrap result shows significant evidence that when the gate is at level 30, 7-day retention is higher than when it is at level 40. The conclusion is that we should not change the gate from level 30 to level 40 if we want to keep retention high – both 1-day and 7-day retention. Of course, we could look at additional measures, such as the number of game rounds played or the number of in-game purchases made by the two AB groups. However, one of the most crucial KPIs is retention. It doesn't matter how much money our players spend in-game if we don't keep them."
      ],
      "metadata": {
        "id": "2Eq7w9Ncms4D"
      }
    },
    {
      "cell_type": "code",
      "source": [
        "move_to_gate40 = False"
      ],
      "metadata": {
        "id": "zsm86cg_mv7g"
      },
      "execution_count": null,
      "outputs": []
    },
    {
      "cell_type": "code",
      "source": [
        ""
      ],
      "metadata": {
        "id": "w2mdHR7Zm0NX"
      },
      "execution_count": null,
      "outputs": []
    }
  ]
}