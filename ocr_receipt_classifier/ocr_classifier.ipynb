{
 "cells": [
  {
   "cell_type": "markdown",
   "metadata": {
    "colab_type": "text",
    "id": "E1SVKeFaFP3O"
   },
   "source": [
    "# OCR Classifier"
   ]
  },
  {
   "cell_type": "code",
   "execution_count": 1,
   "metadata": {
    "colab": {
     "base_uri": "https://localhost:8080/",
     "height": 72
    },
    "colab_type": "code",
    "id": "KChexPqK7uWA",
    "outputId": "8fe24d54-4d41-4459-963a-8b2c01f83eec"
   },
   "outputs": [
    {
     "name": "stderr",
     "output_type": "stream",
     "text": [
      "/usr/local/lib/python3.6/dist-packages/sklearn/externals/six.py:31: DeprecationWarning: The module is deprecated in version 0.21 and will be removed in version 0.23 since we've dropped support for Python 2.7. Please rely on the official version of six (https://pypi.org/project/six/).\n",
      "  \"(https://pypi.org/project/six/).\", DeprecationWarning)\n"
     ]
    }
   ],
   "source": [
    "# loading libraries\n",
    "import numpy as np \n",
    "import pandas as pd \n",
    "import matplotlib.pyplot as plt\n",
    "import seaborn as sns\n",
    "from time import time\n",
    "import json\n",
    "\n",
    "from sklearn.model_selection import cross_val_score, cross_val_predict, GridSearchCV, KFold, train_test_split, StratifiedShuffleSplit\n",
    "from sklearn.metrics import accuracy_score, confusion_matrix, roc_auc_score, roc_curve, average_precision_score\n",
    "from sklearn.metrics import precision_recall_curve, recall_score, precision_score, f1_score, classification_report\n",
    "from sklearn.preprocessing import LabelEncoder\n",
    "from sklearn.metrics import make_scorer, normalized_mutual_info_score\n",
    "\n",
    "from imblearn.over_sampling import RandomOverSampler\n",
    "from imblearn.under_sampling import RandomUnderSampler\n",
    "\n",
    "from sklearn.linear_model import LogisticRegression\n",
    "from sklearn.svm import SVC\n",
    "from sklearn.ensemble import RandomForestClassifier\n",
    "from sklearn.neural_network import MLPClassifier\n",
    "import xgboost as xgb\n",
    "import warnings\n",
    "warnings.filterwarnings('ignore')\n"
   ]
  },
  {
   "cell_type": "markdown",
   "metadata": {
    "colab_type": "text",
    "id": "BZDPoDoVmTJd"
   },
   "source": [
    "## Loading data into Colab"
   ]
  },
  {
   "cell_type": "code",
   "execution_count": 2,
   "metadata": {
    "colab": {
     "base_uri": "https://localhost:8080/",
     "height": 93,
     "resources": {
      "http://localhost:8080/nbextensions/google.colab/files.js": {
       "data": "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",
       "headers": [
        [
         "content-type",
         "application/javascript"
        ]
       ],
       "ok": true,
       "status": 200,
       "status_text": ""
      }
     }
    },
    "colab_type": "code",
    "id": "26Fi-vHsR6kP",
    "outputId": "3b282124-33ec-4c4c-c251-27f915bb5777"
   },
   "outputs": [
    {
     "data": {
      "text/html": [
       "\n",
       "     <input type=\"file\" id=\"files-58b30afc-ecb6-4653-ab4a-04ebb665cfb5\" name=\"files[]\" multiple disabled />\n",
       "     <output id=\"result-58b30afc-ecb6-4653-ab4a-04ebb665cfb5\">\n",
       "      Upload widget is only available when the cell has been executed in the\n",
       "      current browser session. Please rerun this cell to enable.\n",
       "      </output>\n",
       "      <script src=\"/nbextensions/google.colab/files.js\"></script> "
      ],
      "text/plain": [
       "<IPython.core.display.HTML object>"
      ]
     },
     "metadata": {
      "tags": []
     },
     "output_type": "display_data"
    },
    {
     "name": "stdout",
     "output_type": "stream",
     "text": [
      "Saving receipt_data.csv to receipt_data (1).csv\n",
      "User uploaded file \"receipt_data.csv\" with length 15907937 bytes\n"
     ]
    }
   ],
   "source": [
    "from google.colab import files\n",
    "\n",
    "uploaded = files.upload()\n",
    "\n",
    "for fn in uploaded.keys():\n",
    "  print('User uploaded file \"{name}\" with length {length} bytes'.format(\n",
    "      name=fn, length=len(uploaded[fn])))"
   ]
  },
  {
   "cell_type": "code",
   "execution_count": 0,
   "metadata": {
    "colab": {},
    "colab_type": "code",
    "id": "rWD3nAV-UdHy"
   },
   "outputs": [],
   "source": [
    "# define dataset options to display entire text row\n",
    "pd.set_option('display.max_colwidth', -1)\n",
    "df = pd.read_csv('receipt_data.csv')"
   ]
  },
  {
   "cell_type": "markdown",
   "metadata": {
    "colab_type": "text",
    "id": "f6elXN1onF1J"
   },
   "source": [
    "# Exploratory Analysis"
   ]
  },
  {
   "cell_type": "code",
   "execution_count": 3,
   "metadata": {
    "colab": {
     "base_uri": "https://localhost:8080/",
     "height": 646
    },
    "colab_type": "code",
    "id": "iqGCGTICXo1X",
    "outputId": "d7d142be-0889-4be7-a7e5-a61dcf186892"
   },
   "outputs": [
    {
     "data": {
      "text/html": [
       "<div>\n",
       "<style scoped>\n",
       "    .dataframe tbody tr th:only-of-type {\n",
       "        vertical-align: middle;\n",
       "    }\n",
       "\n",
       "    .dataframe tbody tr th {\n",
       "        vertical-align: top;\n",
       "    }\n",
       "\n",
       "    .dataframe thead th {\n",
       "        text-align: right;\n",
       "    }\n",
       "</style>\n",
       "<table border=\"1\" class=\"dataframe\">\n",
       "  <thead>\n",
       "    <tr style=\"text-align: right;\">\n",
       "      <th></th>\n",
       "      <th>comments</th>\n",
       "      <th>currency</th>\n",
       "      <th>lastUpdated</th>\n",
       "      <th>purchaseTime</th>\n",
       "      <th>status</th>\n",
       "      <th>uploadedTime</th>\n",
       "      <th>totalConfidence</th>\n",
       "      <th>lastOpenAt</th>\n",
       "      <th>lastVerifiedAt</th>\n",
       "      <th>taxTotal</th>\n",
       "      <th>total</th>\n",
       "      <th>deletedAt</th>\n",
       "      <th>retailerName</th>\n",
       "      <th>retailerCountry</th>\n",
       "      <th>retailerVatNumber</th>\n",
       "      <th>rawData</th>\n",
       "      <th>receiptImage</th>\n",
       "    </tr>\n",
       "  </thead>\n",
       "  <tbody>\n",
       "    <tr>\n",
       "      <th>0</th>\n",
       "      <td>NaN</td>\n",
       "      <td>GBP</td>\n",
       "      <td>2019-06-15 17:00:57</td>\n",
       "      <td>2019-06-14 18:20:00</td>\n",
       "      <td>REVIEWED</td>\n",
       "      <td>2019-06-14 22:11:40</td>\n",
       "      <td>0.70</td>\n",
       "      <td>NaN</td>\n",
       "      <td>2019-06-15 17:00:57</td>\n",
       "      <td>NaN</td>\n",
       "      <td>NaN</td>\n",
       "      <td>NaN</td>\n",
       "      <td>Selfridges</td>\n",
       "      <td>GB</td>\n",
       "      <td>NaN</td>\n",
       "      <td>{\"message\":\"SUCCESS: Result available\",\"status\":\"done\",\"status_code\":3,\"token\":null,\"success\":true,\"code\":202,\"duplicate\":false,\"duplicateToken\":null,\"result\":{\"establishment\":\"Selfridges\",\"validatedEstablishment\":false,\"date\":\"2019-06-14 18:20:00\",\"total\":30.000,\"url\":\"www.selfridges.com\",\"phoneNumber\":\"8569 4004156\",\"paymentMethod\":\"VISA\",\"address\":\"400 Oxford Street London W1A 1AB\",\"validatedTotal\":false,\"subTotal\":30.000,\"validatedSubTotal\":true,\"cash\":\"0.000\",\"change\":\"0.000\",\"tax\":0.000,\"discount\":0.000,\"subTotalConfidence\":0.99,\"totalConfidence\":0.7,\"cashConfidence\":0.0,\"changeConfidence\":0.0,\"roundingConfidence\":0.0,\"otherData\":[],\"lineItems\":[{\"qty\":0,\"desc\":\"FULTON BROLLYMA41568569 400415685692\",\"unit\":\"\",\"price\":0.000,\"descClean\":\"You 193 were served by : Ines FULTON BROLLYMA 400415685692\",\"lineTotal\":18.000,\"productCode\":\"41568569\"},{\"qty\":0,\"desc\":\"JJ DOT HYDR - TRA 82401412\",\"unit\":\"\",\"price\":0.000,\"descClean\":\"JJ DOT HYDR - TRA\",\"lineTotal\":12.000,\"productCode\":\"82401412\"}],\"summaryItems\":[{\"qty\":2,\"desc\":\"Total 2 Items\",\"unit\":\"\",\"price\":0.000,\"descClean\":\"Total Items\",\"lineTotal\":30.000,\"productCode\":\"\"},{\"qty\":0,\"desc\":\"Visa\",\"unit\":\"\",\"price\":0.000,\"descClean\":\"Visa\",\"lineTotal\":30.000,\"productCode\":\"\"},{\"qty\":14,\"desc\":\"009999 Date 14 / 06 / 19\",\"unit\":\"\",\"price\":0.000,\"descClean\":\"Date / 06 / 19\",\"lineTotal\":18.200,\"productCode\":\"009999\"}]}}</td>\n",
       "      <td>https://s3-eu-west-1.amazonaws.com/wevat-receipts/5955cc32-894b-4dbd-8c1f-f54fbd95d8e8</td>\n",
       "    </tr>\n",
       "    <tr>\n",
       "      <th>1</th>\n",
       "      <td>NaN</td>\n",
       "      <td>GBP</td>\n",
       "      <td>2019-06-19 20:47:21</td>\n",
       "      <td>2019-06-19 13:24:00</td>\n",
       "      <td>DELETED</td>\n",
       "      <td>2019-06-19 20:01:34</td>\n",
       "      <td>0.00</td>\n",
       "      <td>NaN</td>\n",
       "      <td>2019-06-19 20:47:21</td>\n",
       "      <td>NaN</td>\n",
       "      <td>NaN</td>\n",
       "      <td>2019-06-22 21:38:31</td>\n",
       "      <td>Harrods</td>\n",
       "      <td>GB</td>\n",
       "      <td>NaN</td>\n",
       "      <td>{\"message\":\"SUCCESS: Result available\",\"status\":\"done\",\"status_code\":3,\"token\":null,\"success\":true,\"code\":202,\"duplicate\":false,\"duplicateToken\":null,\"result\":{\"establishment\":\"Harrods\",\"validatedEstablishment\":false,\"date\":\"2019-06-19 13:24:00\",\"total\":86.000,\"url\":\"harrods.com\",\"phoneNumber\":\"020 7730 1234\",\"paymentMethod\":\"\",\"address\":\"LONDON S1 ot Road\",\"validatedTotal\":false,\"subTotal\":86.000,\"validatedSubTotal\":true,\"cash\":\"0.000\",\"change\":\"0.000\",\"tax\":0.000,\"discount\":0.000,\"subTotalConfidence\":0.6,\"totalConfidence\":0.0,\"cashConfidence\":0.0,\"changeConfidence\":0.0,\"roundingConfidence\":0.0,\"otherData\":[],\"lineItems\":[{\"qty\":0,\"desc\":\"Rewards 0005708615 Saving FRAGRANCE\",\"unit\":\"\",\"price\":0.000,\"descClean\":\"Rewards Saving FRAGRANCE f8.60\",\"lineTotal\":86.000,\"productCode\":\"0005708615\"}],\"summaryItems\":[{\"qty\":0,\"desc\":\"Sub Total\",\"unit\":\"\",\"price\":0.000,\"descClean\":\"Sub Total\",\"lineTotal\":86.000,\"productCode\":\"\"},{\"qty\":1,\"desc\":\"TOTAL ( 1 item )\",\"unit\":\"\",\"price\":0.000,\"descClean\":\"TOTAL ( item )\",\"lineTotal\":77.400,\"productCode\":\"\"},{\"qty\":0,\"desc\":\"Chinese Mobile Tendered\",\"unit\":\"\",\"price\":0.000,\"descClean\":\"Chinese Mobile Tendered\",\"lineTotal\":77.400,\"productCode\":\"\"},{\"qty\":0,\"desc\":\"Rewards Points balance\",\"unit\":\"\",\"price\":0.000,\"descClean\":\"Rewards Points balance\",\"lineTotal\":194.800,\"productCode\":\"\"}]}}</td>\n",
       "      <td>https://s3-eu-west-1.amazonaws.com/wevat-receipts/c714784d-6c12-4b39-b9c4-911cc6eaaf93</td>\n",
       "    </tr>\n",
       "    <tr>\n",
       "      <th>2</th>\n",
       "      <td>NaN</td>\n",
       "      <td>GBP</td>\n",
       "      <td>2019-06-18 18:02:50</td>\n",
       "      <td>2019-06-18 18:24:00</td>\n",
       "      <td>REVIEWED</td>\n",
       "      <td>2019-06-18 17:52:03</td>\n",
       "      <td>0.99</td>\n",
       "      <td>2019-06-19 12:48:30</td>\n",
       "      <td>2019-06-18 18:02:50</td>\n",
       "      <td>NaN</td>\n",
       "      <td>NaN</td>\n",
       "      <td>NaN</td>\n",
       "      <td>Boots</td>\n",
       "      <td>GB</td>\n",
       "      <td>NaN</td>\n",
       "      <td>{\"message\":\"SUCCESS: Result available\",\"status\":\"done\",\"status_code\":3,\"token\":null,\"success\":true,\"code\":202,\"duplicate\":false,\"duplicateToken\":null,\"result\":{\"establishment\":\"Boots\",\"validatedEstablishment\":false,\"date\":\"2019-06-18 18:24:00\",\"total\":20.460,\"url\":\"\",\"phoneNumber\":\"(0115) 9410199\",\"paymentMethod\":\"\",\"address\":\"\",\"validatedTotal\":true,\"subTotal\":0.000,\"validatedSubTotal\":false,\"cash\":\"50.500\",\"change\":\"30.040\",\"tax\":0.000,\"discount\":0.000,\"subTotalConfidence\":0.0,\"totalConfidence\":0.99,\"cashConfidence\":0.99,\"changeConfidence\":0.99,\"roundingConfidence\":0.0,\"otherData\":[\"f\",\"Boots UK Limited\",\"NOTTINGHAM - 6\",\"18/06/2019\",\"(0115) 9410199\",\"18:24\",\"Served by: LAURIEN GOOD\",\"1404\",\"619 7646 0006 144 *6330************686\",\"\"],\"lineItems\":[{\"qty\":28,\"desc\":\"Nno Nno Int Int Wht Wht Stp Strong 28 2 5.00 NOW\",\"unit\":\"\",\"price\":0.000,\"descClean\":\"Nno Nno Int Int Wht Wht Stp Strong 2 5.00 NOW STUDENT DISCOUNT\",\"lineTotal\":18.750,\"productCode\":\"\"}],\"summaryItems\":[{\"qty\":0,\"desc\":\"TOTAL TO PAY\",\"unit\":\"\",\"price\":0.000,\"descClean\":\"TOTAL TO PAY\",\"lineTotal\":20.460,\"productCode\":\"\"},{\"qty\":0,\"desc\":\"CASH\",\"unit\":\"\",\"price\":0.000,\"descClean\":\"CASH\",\"lineTotal\":50.500,\"productCode\":\"\"},{\"qty\":0,\"desc\":\"CHANGE\",\"unit\":\"\",\"price\":0.000,\"descClean\":\"CHANGE\",\"lineTotal\":30.040,\"productCode\":\"\"}]}}</td>\n",
       "      <td>https://s3-eu-west-1.amazonaws.com/wevat-receipts/43287831-20b1-465f-ab8a-817747294cf0</td>\n",
       "    </tr>\n",
       "    <tr>\n",
       "      <th>3</th>\n",
       "      <td>NaN</td>\n",
       "      <td>GBP</td>\n",
       "      <td>2019-06-24 12:42:17</td>\n",
       "      <td>2019-06-01 20:48:00</td>\n",
       "      <td>DELETED</td>\n",
       "      <td>2019-06-24 12:42:05</td>\n",
       "      <td>0.00</td>\n",
       "      <td>2019-06-24 12:50:23</td>\n",
       "      <td>NaN</td>\n",
       "      <td>123.33</td>\n",
       "      <td>740.0</td>\n",
       "      <td>2019-06-24 12:53:33</td>\n",
       "      <td>Selfridges</td>\n",
       "      <td>GB</td>\n",
       "      <td>NaN</td>\n",
       "      <td>{\"message\":\"SUCCESS: Result available\",\"status\":\"done\",\"status_code\":3,\"token\":null,\"success\":true,\"code\":202,\"duplicate\":false,\"duplicateToken\":null,\"result\":{\"establishment\":\"Selfridges\",\"validatedEstablishment\":false,\"date\":\"2019-06-01 20:48:00\",\"total\":370.000,\"url\":\"www.selfridges.com\",\"phoneNumber\":\"+44 (0) 207 160 62\",\"paymentMethod\":\"ALIPAY\",\"address\":\"400 Oxford Street London W1A 1AB\",\"validatedTotal\":false,\"subTotal\":0.000,\"validatedSubTotal\":false,\"cash\":\"0.000\",\"change\":\"0.000\",\"tax\":0.000,\"discount\":0.000,\"subTotalConfidence\":0.0,\"totalConfidence\":0.0,\"cashConfidence\":0.0,\"changeConfidence\":0.0,\"roundingConfidence\":0.0,\"otherData\":[\"SELFRIDGES&amp;Cº\",\"400 Oxford Street London W1A 1AB\",\"Freephone 0800 123 400\",\"( From overseas +44 (0) 207 160 6222)\",\"V.A.T NO. GB 705 3259 52\",\"www.selfridges.com\",\"You were served by: Mikel\",\"Chanel RTW &amp; Accs\",\"1 @ f370.00\",\"CAR\",\"Notified terms and conditions will apply\",\"For details visit selfridges.com/london\",\"****************************** ************\",\"We have a passion for what we do and\",\"want you to have an amazing experience\",\"every time you come to Selfridges.\",\"*****************************************\",\"Loteborhoomorpbtitles 298 espela\",\"Shop online at www.selfridges.com\",\"You are welcome to exchange or refund\",\"your purchase by Sat 29 Jun 2019\",\"Please note Sale items\",\"can only be exchanged\",\"-\",\"-\",\"Term 0250 Opr 9999979506 Trans 3919\",\"Store 009999 Date 01/06/19 20:48\",\"00999902503919190601204713\",\"mellogu\",\"erot new uovi\",\"\"],\"lineItems\":[{\"qty\":1,\"desc\":\"1 @ f370.00\",\"unit\":\"\",\"price\":0.000,\"descClean\":\"f370.00\",\"lineTotal\":370.000,\"productCode\":\"\"},{\"qty\":1,\"desc\":\"Alipay READVICE\",\"unit\":\"\",\"price\":0.000,\"descClean\":\"- - Total Item READVICE f370.00 Alipay READVICE\",\"lineTotal\":370.000,\"productCode\":\"\"}],\"summaryItems\":[]}}</td>\n",
       "      <td>https://s3-eu-west-1.amazonaws.com/wevat-receipts/fcb6b841-6313-490b-9701-b2bddc9546a0</td>\n",
       "    </tr>\n",
       "    <tr>\n",
       "      <th>4</th>\n",
       "      <td>NaN</td>\n",
       "      <td>GBP</td>\n",
       "      <td>2019-06-16 23:38:01</td>\n",
       "      <td>2019-06-16 14:02:00</td>\n",
       "      <td>REVIEWED</td>\n",
       "      <td>2019-06-16 15:25:05</td>\n",
       "      <td>0.60</td>\n",
       "      <td>NaN</td>\n",
       "      <td>2019-06-16 23:38:01</td>\n",
       "      <td>NaN</td>\n",
       "      <td>NaN</td>\n",
       "      <td>NaN</td>\n",
       "      <td>John Lewis</td>\n",
       "      <td>GB</td>\n",
       "      <td>NaN</td>\n",
       "      <td>{\"message\":\"SUCCESS: Result available\",\"status\":\"done\",\"status_code\":3,\"token\":null,\"success\":true,\"code\":202,\"duplicate\":false,\"duplicateToken\":null,\"result\":{\"establishment\":\"John Lewis\",\"validatedEstablishment\":false,\"date\":\"2019-06-16 14:02:00\",\"total\":26.940,\"url\":\"www.johnlewis.com/customer\",\"phoneNumber\":\"0114 276 8511\",\"paymentMethod\":\"\",\"address\":\", SS1 2HB\",\"validatedTotal\":false,\"subTotal\":26.940,\"validatedSubTotal\":true,\"cash\":\"3.060\",\"change\":\"0.000\",\"tax\":4.490,\"discount\":0.000,\"subTotalConfidence\":0.0,\"totalConfidence\":0.6,\"cashConfidence\":0.6,\"changeConfidence\":0.0,\"roundingConfidence\":0.0,\"otherData\":[],\"lineItems\":[{\"qty\":0,\"desc\":\"S 73220442 Construction Toy\",\"unit\":\"\",\"price\":0.000,\"descClean\":\"S Construction Toy\",\"lineTotal\":8.970,\"productCode\":\"73220442\"},{\"qty\":2,\"desc\":\"S 73220446 Construction Toy\",\"unit\":\"\",\"price\":0.000,\"descClean\":\"S Construction Toy No.items\",\"lineTotal\":17.970,\"productCode\":\"73220446\"}],\"summaryItems\":[{\"qty\":0,\"desc\":\"Total\",\"unit\":\"\",\"price\":0.000,\"descClean\":\"Total\",\"lineTotal\":26.940,\"productCode\":\"\"},{\"qty\":0,\"desc\":\"Cash\",\"unit\":\"\",\"price\":0.000,\"descClean\":\"Cash\",\"lineTotal\":30.000,\"productCode\":\"\"},{\"qty\":0,\"desc\":\"Cash\",\"unit\":\"\",\"price\":0.000,\"descClean\":\"Cash\",\"lineTotal\":3.060,\"productCode\":\"\"},{\"qty\":5,\"desc\":\"S 20.0% 26.94 4.49\",\"unit\":\"\",\"price\":4.490,\"descClean\":\"S 20.0% 26.94\",\"lineTotal\":22.450,\"productCode\":\"\"}]}}</td>\n",
       "      <td>https://s3-eu-west-1.amazonaws.com/wevat-receipts/24a11aaf-4704-4fe8-a26a-b14e404fabf3</td>\n",
       "    </tr>\n",
       "  </tbody>\n",
       "</table>\n",
       "</div>"
      ],
      "text/plain": [
       "   comments  ...                                                                            receiptImage\n",
       "0 NaN        ...  https://s3-eu-west-1.amazonaws.com/wevat-receipts/5955cc32-894b-4dbd-8c1f-f54fbd95d8e8\n",
       "1 NaN        ...  https://s3-eu-west-1.amazonaws.com/wevat-receipts/c714784d-6c12-4b39-b9c4-911cc6eaaf93\n",
       "2 NaN        ...  https://s3-eu-west-1.amazonaws.com/wevat-receipts/43287831-20b1-465f-ab8a-817747294cf0\n",
       "3 NaN        ...  https://s3-eu-west-1.amazonaws.com/wevat-receipts/fcb6b841-6313-490b-9701-b2bddc9546a0\n",
       "4 NaN        ...  https://s3-eu-west-1.amazonaws.com/wevat-receipts/24a11aaf-4704-4fe8-a26a-b14e404fabf3\n",
       "\n",
       "[5 rows x 17 columns]"
      ]
     },
     "execution_count": 3,
     "metadata": {
      "tags": []
     },
     "output_type": "execute_result"
    }
   ],
   "source": [
    "# first glance at the dataset\n",
    "df.head()"
   ]
  },
  {
   "cell_type": "code",
   "execution_count": 4,
   "metadata": {
    "colab": {
     "base_uri": "https://localhost:8080/",
     "height": 408
    },
    "colab_type": "code",
    "id": "g3xCHLcwYDZ9",
    "outputId": "938c1d2b-fa95-4a1d-b542-0b83b944d340"
   },
   "outputs": [
    {
     "name": "stdout",
     "output_type": "stream",
     "text": [
      "<class 'pandas.core.frame.DataFrame'>\n",
      "RangeIndex: 4690 entries, 0 to 4689\n",
      "Data columns (total 17 columns):\n",
      "comments             0 non-null float64\n",
      "currency             4690 non-null object\n",
      "lastUpdated          4690 non-null object\n",
      "purchaseTime         4687 non-null object\n",
      "status               4690 non-null object\n",
      "uploadedTime         4690 non-null object\n",
      "totalConfidence      4678 non-null float64\n",
      "lastOpenAt           264 non-null object\n",
      "lastVerifiedAt       3932 non-null object\n",
      "taxTotal             1602 non-null float64\n",
      "total                1602 non-null float64\n",
      "deletedAt            230 non-null object\n",
      "retailerName         4689 non-null object\n",
      "retailerCountry      4689 non-null object\n",
      "retailerVatNumber    1 non-null float64\n",
      "rawData              4678 non-null object\n",
      "receiptImage         4689 non-null object\n",
      "dtypes: float64(5), object(12)\n",
      "memory usage: 623.0+ KB\n"
     ]
    }
   ],
   "source": [
    "# dataset general information\n",
    "df.info()"
   ]
  },
  {
   "cell_type": "code",
   "execution_count": 5,
   "metadata": {
    "colab": {
     "base_uri": "https://localhost:8080/",
     "height": 337
    },
    "colab_type": "code",
    "id": "-wzitM53X5fa",
    "outputId": "5287ca0b-d956-4b43-ad9d-b839ad8e640e"
   },
   "outputs": [
    {
     "data": {
      "text/plain": [
       "comments             4690\n",
       "currency             0   \n",
       "lastUpdated          0   \n",
       "purchaseTime         3   \n",
       "status               0   \n",
       "uploadedTime         0   \n",
       "totalConfidence      12  \n",
       "lastOpenAt           4426\n",
       "lastVerifiedAt       758 \n",
       "taxTotal             3088\n",
       "total                3088\n",
       "deletedAt            4460\n",
       "retailerName         1   \n",
       "retailerCountry      1   \n",
       "retailerVatNumber    4689\n",
       "rawData              12  \n",
       "receiptImage         1   \n",
       "dtype: int64"
      ]
     },
     "execution_count": 5,
     "metadata": {
      "tags": []
     },
     "output_type": "execute_result"
    }
   ],
   "source": [
    "# checking for missing values\n",
    "df.isnull().sum()"
   ]
  },
  {
   "cell_type": "markdown",
   "metadata": {
    "colab_type": "text",
    "id": "s-xNRRU2nTEr"
   },
   "source": [
    "## Multiclass distribution"
   ]
  },
  {
   "cell_type": "code",
   "execution_count": 6,
   "metadata": {
    "colab": {
     "base_uri": "https://localhost:8080/",
     "height": 635
    },
    "colab_type": "code",
    "id": "qpA53wyBXqFW",
    "outputId": "8af181ce-337a-4710-fd02-2c1180d38a29"
   },
   "outputs": [
    {
     "data": {
      "image/png": "[encoded data removed]",
      "text/plain": [
       "<Figure size 720x432 with 1 Axes>"
      ]
     },
     "metadata": {
      "tags": []
     },
     "output_type": "display_data"
    },
    {
     "data": {
      "text/plain": [
       "Selfridges           1318\n",
       "Boots                1068\n",
       "Harrods              803 \n",
       "Holland & Barrett    392 \n",
       "John Lewis           314 \n",
       "TK Maxx              277 \n",
       "Debenhams            259 \n",
       "Boots UK Limited     258 \n",
       "Name: retailerName, dtype: int64"
      ]
     },
     "execution_count": 6,
     "metadata": {
      "tags": []
     },
     "output_type": "execute_result"
    }
   ],
   "source": [
    "# class distribution\n",
    "plt.figure(figsize = (10,6))\n",
    "_ = sns.barplot(x = df['retailerName'], y = df['retailerName'].value_counts().tolist(), color = 'purple')\n",
    "_.set(xlabel = 'Companies', ylabel = 'Count', title = 'Class distribution')\n",
    "plt.xticks(rotation=60)\n",
    "plt.show()\n",
    "df['retailerName'].value_counts()"
   ]
  },
  {
   "cell_type": "markdown",
   "metadata": {
    "colab_type": "text",
    "id": "JJPxh9Y9oN6w"
   },
   "source": [
    "# Data Preprocessing"
   ]
  },
  {
   "cell_type": "code",
   "execution_count": 7,
   "metadata": {
    "colab": {
     "base_uri": "https://localhost:8080/",
     "height": 144
    },
    "colab_type": "code",
    "id": "1HK8hCsVGvYh",
    "outputId": "fc5b8e60-993a-425e-c8f9-f7db2c33f90f"
   },
   "outputs": [
    {
     "data": {
      "text/plain": [
       "0    {\"message\":\"SUCCESS: Result available\",\"status\":\"done\",\"status_code\":3,\"token\":null,\"success\":true,\"code\":202,\"duplicate\":false,\"duplicateToken\":null,\"result\":{\"establishment\":\"Selfridges\",\"validatedEstablishment\":false,\"date\":\"2019-06-14 18:20:00\",\"total\":30.000,\"url\":\"www.selfridges.com\",\"phoneNumber\":\"8569 4004156\",\"paymentMethod\":\"VISA\",\"address\":\"400 Oxford Street London W1A 1AB\",\"validatedTotal\":false,\"subTotal\":30.000,\"validatedSubTotal\":true,\"cash\":\"0.000\",\"change\":\"0.000\",\"tax\":0.000,\"discount\":0.000,\"subTotalConfidence\":0.99,\"totalConfidence\":0.7,\"cashConfidence\":0.0,\"changeConfidence\":0.0,\"roundingConfidence\":0.0,\"otherData\":[],\"lineItems\":[{\"qty\":0,\"desc\":\"FULTON BROLLYMA41568569 400415685692\",\"unit\":\"\",\"price\":0.000,\"descClean\":\"You 193 were served by : Ines FULTON BROLLYMA 400415685692\",\"lineTotal\":18.000,\"productCode\":\"41568569\"},{\"qty\":0,\"desc\":\"JJ DOT HYDR - TRA 82401412\",\"unit\":\"\",\"price\":0.000,\"descClean\":\"JJ DOT HYDR - TRA\",\"lineTotal\":12.000,\"productCode\":\"82401412\"}],\"summaryItems\":[{\"qty\":2,\"desc\":\"Total 2 Items\",\"unit\":\"\",\"price\":0.000,\"descClean\":\"Total Items\",\"lineTotal\":30.000,\"productCode\":\"\"},{\"qty\":0,\"desc\":\"Visa\",\"unit\":\"\",\"price\":0.000,\"descClean\":\"Visa\",\"lineTotal\":30.000,\"productCode\":\"\"},{\"qty\":14,\"desc\":\"009999 Date 14 / 06 / 19\",\"unit\":\"\",\"price\":0.000,\"descClean\":\"Date / 06 / 19\",\"lineTotal\":18.200,\"productCode\":\"009999\"}]}}                                                                                                                                                                                                                                                                                                                                                                                                                                                 \n",
       "1    {\"message\":\"SUCCESS: Result available\",\"status\":\"done\",\"status_code\":3,\"token\":null,\"success\":true,\"code\":202,\"duplicate\":false,\"duplicateToken\":null,\"result\":{\"establishment\":\"Harrods\",\"validatedEstablishment\":false,\"date\":\"2019-06-19 13:24:00\",\"total\":86.000,\"url\":\"harrods.com\",\"phoneNumber\":\"020 7730 1234\",\"paymentMethod\":\"\",\"address\":\"LONDON S1 ot Road\",\"validatedTotal\":false,\"subTotal\":86.000,\"validatedSubTotal\":true,\"cash\":\"0.000\",\"change\":\"0.000\",\"tax\":0.000,\"discount\":0.000,\"subTotalConfidence\":0.6,\"totalConfidence\":0.0,\"cashConfidence\":0.0,\"changeConfidence\":0.0,\"roundingConfidence\":0.0,\"otherData\":[],\"lineItems\":[{\"qty\":0,\"desc\":\"Rewards 0005708615 Saving FRAGRANCE\",\"unit\":\"\",\"price\":0.000,\"descClean\":\"Rewards Saving FRAGRANCE f8.60\",\"lineTotal\":86.000,\"productCode\":\"0005708615\"}],\"summaryItems\":[{\"qty\":0,\"desc\":\"Sub Total\",\"unit\":\"\",\"price\":0.000,\"descClean\":\"Sub Total\",\"lineTotal\":86.000,\"productCode\":\"\"},{\"qty\":1,\"desc\":\"TOTAL ( 1 item )\",\"unit\":\"\",\"price\":0.000,\"descClean\":\"TOTAL ( item )\",\"lineTotal\":77.400,\"productCode\":\"\"},{\"qty\":0,\"desc\":\"Chinese Mobile Tendered\",\"unit\":\"\",\"price\":0.000,\"descClean\":\"Chinese Mobile Tendered\",\"lineTotal\":77.400,\"productCode\":\"\"},{\"qty\":0,\"desc\":\"Rewards Points balance\",\"unit\":\"\",\"price\":0.000,\"descClean\":\"Rewards Points balance\",\"lineTotal\":194.800,\"productCode\":\"\"}]}}                                                                                                                                                                                                                                                                                                                                                                                                                                                                                              \n",
       "2    {\"message\":\"SUCCESS: Result available\",\"status\":\"done\",\"status_code\":3,\"token\":null,\"success\":true,\"code\":202,\"duplicate\":false,\"duplicateToken\":null,\"result\":{\"establishment\":\"Boots\",\"validatedEstablishment\":false,\"date\":\"2019-06-18 18:24:00\",\"total\":20.460,\"url\":\"\",\"phoneNumber\":\"(0115) 9410199\",\"paymentMethod\":\"\",\"address\":\"\",\"validatedTotal\":true,\"subTotal\":0.000,\"validatedSubTotal\":false,\"cash\":\"50.500\",\"change\":\"30.040\",\"tax\":0.000,\"discount\":0.000,\"subTotalConfidence\":0.0,\"totalConfidence\":0.99,\"cashConfidence\":0.99,\"changeConfidence\":0.99,\"roundingConfidence\":0.0,\"otherData\":[\"f\",\"Boots UK Limited\",\"NOTTINGHAM - 6\",\"18/06/2019\",\"(0115) 9410199\",\"18:24\",\"Served by: LAURIEN GOOD\",\"1404\",\"619 7646 0006 144 *6330************686\",\"\"],\"lineItems\":[{\"qty\":28,\"desc\":\"Nno Nno Int Int Wht Wht Stp Strong 28 2 5.00 NOW\",\"unit\":\"\",\"price\":0.000,\"descClean\":\"Nno Nno Int Int Wht Wht Stp Strong 2 5.00 NOW STUDENT DISCOUNT\",\"lineTotal\":18.750,\"productCode\":\"\"}],\"summaryItems\":[{\"qty\":0,\"desc\":\"TOTAL TO PAY\",\"unit\":\"\",\"price\":0.000,\"descClean\":\"TOTAL TO PAY\",\"lineTotal\":20.460,\"productCode\":\"\"},{\"qty\":0,\"desc\":\"CASH\",\"unit\":\"\",\"price\":0.000,\"descClean\":\"CASH\",\"lineTotal\":50.500,\"productCode\":\"\"},{\"qty\":0,\"desc\":\"CHANGE\",\"unit\":\"\",\"price\":0.000,\"descClean\":\"CHANGE\",\"lineTotal\":30.040,\"productCode\":\"\"}]}}                                                                                                                                                                                                                                                                                                                                                                                                                                                                                                                       \n",
       "3    {\"message\":\"SUCCESS: Result available\",\"status\":\"done\",\"status_code\":3,\"token\":null,\"success\":true,\"code\":202,\"duplicate\":false,\"duplicateToken\":null,\"result\":{\"establishment\":\"Selfridges\",\"validatedEstablishment\":false,\"date\":\"2019-06-01 20:48:00\",\"total\":370.000,\"url\":\"www.selfridges.com\",\"phoneNumber\":\"+44 (0) 207 160 62\",\"paymentMethod\":\"ALIPAY\",\"address\":\"400 Oxford Street London W1A 1AB\",\"validatedTotal\":false,\"subTotal\":0.000,\"validatedSubTotal\":false,\"cash\":\"0.000\",\"change\":\"0.000\",\"tax\":0.000,\"discount\":0.000,\"subTotalConfidence\":0.0,\"totalConfidence\":0.0,\"cashConfidence\":0.0,\"changeConfidence\":0.0,\"roundingConfidence\":0.0,\"otherData\":[\"SELFRIDGES&Cº\",\"400 Oxford Street London W1A 1AB\",\"Freephone 0800 123 400\",\"( From overseas +44 (0) 207 160 6222)\",\"V.A.T NO. GB 705 3259 52\",\"www.selfridges.com\",\"You were served by: Mikel\",\"Chanel RTW & Accs\",\"1 @ f370.00\",\"CAR\",\"Notified terms and conditions will apply\",\"For details visit selfridges.com/london\",\"****************************** ************\",\"We have a passion for what we do and\",\"want you to have an amazing experience\",\"every time you come to Selfridges.\",\"*****************************************\",\"Loteborhoomorpbtitles 298 espela\",\"Shop online at www.selfridges.com\",\"You are welcome to exchange or refund\",\"your purchase by Sat 29 Jun 2019\",\"Please note Sale items\",\"can only be exchanged\",\"-\",\"-\",\"Term 0250 Opr 9999979506 Trans 3919\",\"Store 009999 Date 01/06/19 20:48\",\"00999902503919190601204713\",\"mellogu\",\"erot new uovi\",\"\"],\"lineItems\":[{\"qty\":1,\"desc\":\"1 @ f370.00\",\"unit\":\"\",\"price\":0.000,\"descClean\":\"f370.00\",\"lineTotal\":370.000,\"productCode\":\"\"},{\"qty\":1,\"desc\":\"Alipay READVICE\",\"unit\":\"\",\"price\":0.000,\"descClean\":\"- - Total Item READVICE f370.00 Alipay READVICE\",\"lineTotal\":370.000,\"productCode\":\"\"}],\"summaryItems\":[]}}\n",
       "4    {\"message\":\"SUCCESS: Result available\",\"status\":\"done\",\"status_code\":3,\"token\":null,\"success\":true,\"code\":202,\"duplicate\":false,\"duplicateToken\":null,\"result\":{\"establishment\":\"John Lewis\",\"validatedEstablishment\":false,\"date\":\"2019-06-16 14:02:00\",\"total\":26.940,\"url\":\"www.johnlewis.com/customer\",\"phoneNumber\":\"0114 276 8511\",\"paymentMethod\":\"\",\"address\":\", SS1 2HB\",\"validatedTotal\":false,\"subTotal\":26.940,\"validatedSubTotal\":true,\"cash\":\"3.060\",\"change\":\"0.000\",\"tax\":4.490,\"discount\":0.000,\"subTotalConfidence\":0.0,\"totalConfidence\":0.6,\"cashConfidence\":0.6,\"changeConfidence\":0.0,\"roundingConfidence\":0.0,\"otherData\":[],\"lineItems\":[{\"qty\":0,\"desc\":\"S 73220442 Construction Toy\",\"unit\":\"\",\"price\":0.000,\"descClean\":\"S Construction Toy\",\"lineTotal\":8.970,\"productCode\":\"73220442\"},{\"qty\":2,\"desc\":\"S 73220446 Construction Toy\",\"unit\":\"\",\"price\":0.000,\"descClean\":\"S Construction Toy No.items\",\"lineTotal\":17.970,\"productCode\":\"73220446\"}],\"summaryItems\":[{\"qty\":0,\"desc\":\"Total\",\"unit\":\"\",\"price\":0.000,\"descClean\":\"Total\",\"lineTotal\":26.940,\"productCode\":\"\"},{\"qty\":0,\"desc\":\"Cash\",\"unit\":\"\",\"price\":0.000,\"descClean\":\"Cash\",\"lineTotal\":30.000,\"productCode\":\"\"},{\"qty\":0,\"desc\":\"Cash\",\"unit\":\"\",\"price\":0.000,\"descClean\":\"Cash\",\"lineTotal\":3.060,\"productCode\":\"\"},{\"qty\":5,\"desc\":\"S 20.0% 26.94 4.49\",\"unit\":\"\",\"price\":4.490,\"descClean\":\"S 20.0% 26.94\",\"lineTotal\":22.450,\"productCode\":\"\"}]}}                                                                                                                                                                                                                                                                                                                                                                                                                                 \n",
       "Name: rawData, dtype: object"
      ]
     },
     "execution_count": 7,
     "metadata": {
      "tags": []
     },
     "output_type": "execute_result"
    }
   ],
   "source": [
    "# checking raw text data\n",
    "df.rawData.head()"
   ]
  },
  {
   "cell_type": "code",
   "execution_count": 0,
   "metadata": {
    "colab": {},
    "colab_type": "code",
    "id": "-RdbnY5rTzUT"
   },
   "outputs": [],
   "source": [
    "# removing missing values\n",
    "df = df.dropna(subset = ['rawData'])"
   ]
  },
  {
   "cell_type": "code",
   "execution_count": 0,
   "metadata": {
    "colab": {},
    "colab_type": "code",
    "id": "uQZ-pz0fd3zM"
   },
   "outputs": [],
   "source": [
    "# custom function to get establishment names\n",
    "def get_name(column):\n",
    "  \"\"\"This function returns establishment names from text data\n",
    "    \n",
    "    Parameters\n",
    "    ----------\n",
    "    column: text data column name \n",
    "    \n",
    "    Returns\n",
    "    -------\n",
    "    list:\n",
    "        establishment names   \n",
    "    \n",
    "    \"\"\"\n",
    "  l = []\n",
    "  for row in column: \n",
    "    dic = json.loads(row)\n",
    "    a = dic['result']['establishment']\n",
    "    l.append(a)\n",
    "  return l"
   ]
  },
  {
   "cell_type": "code",
   "execution_count": 10,
   "metadata": {
    "colab": {
     "base_uri": "https://localhost:8080/",
     "height": 370
    },
    "colab_type": "code",
    "id": "zjbq0RzUfGBc",
    "outputId": "1b2acdb3-1694-4111-ec94-4c3ba8f8eba6"
   },
   "outputs": [
    {
     "name": "stdout",
     "output_type": "stream",
     "text": [
      "218\n"
     ]
    },
    {
     "data": {
      "text/html": [
       "<div>\n",
       "<style scoped>\n",
       "    .dataframe tbody tr th:only-of-type {\n",
       "        vertical-align: middle;\n",
       "    }\n",
       "\n",
       "    .dataframe tbody tr th {\n",
       "        vertical-align: top;\n",
       "    }\n",
       "\n",
       "    .dataframe thead th {\n",
       "        text-align: right;\n",
       "    }\n",
       "</style>\n",
       "<table border=\"1\" class=\"dataframe\">\n",
       "  <thead>\n",
       "    <tr style=\"text-align: right;\">\n",
       "      <th></th>\n",
       "      <th>establishment</th>\n",
       "      <th>retailerName</th>\n",
       "    </tr>\n",
       "  </thead>\n",
       "  <tbody>\n",
       "    <tr>\n",
       "      <th>0</th>\n",
       "      <td>selfridges</td>\n",
       "      <td>selfridges</td>\n",
       "    </tr>\n",
       "    <tr>\n",
       "      <th>1</th>\n",
       "      <td>harrods</td>\n",
       "      <td>harrods</td>\n",
       "    </tr>\n",
       "    <tr>\n",
       "      <th>2</th>\n",
       "      <td>boots</td>\n",
       "      <td>boots</td>\n",
       "    </tr>\n",
       "    <tr>\n",
       "      <th>3</th>\n",
       "      <td>selfridges</td>\n",
       "      <td>selfridges</td>\n",
       "    </tr>\n",
       "    <tr>\n",
       "      <th>4</th>\n",
       "      <td>john lewis</td>\n",
       "      <td>john lewis</td>\n",
       "    </tr>\n",
       "    <tr>\n",
       "      <th>5</th>\n",
       "      <td>selfridges</td>\n",
       "      <td>selfridges</td>\n",
       "    </tr>\n",
       "    <tr>\n",
       "      <th>6</th>\n",
       "      <td>holland &amp; barrett</td>\n",
       "      <td>holland &amp; barrett</td>\n",
       "    </tr>\n",
       "    <tr>\n",
       "      <th>7</th>\n",
       "      <td>selfridges</td>\n",
       "      <td>selfridges</td>\n",
       "    </tr>\n",
       "    <tr>\n",
       "      <th>8</th>\n",
       "      <td>selfridges</td>\n",
       "      <td>selfridges</td>\n",
       "    </tr>\n",
       "    <tr>\n",
       "      <th>9</th>\n",
       "      <td>john lewis</td>\n",
       "      <td>john lewis</td>\n",
       "    </tr>\n",
       "  </tbody>\n",
       "</table>\n",
       "</div>"
      ],
      "text/plain": [
       "       establishment       retailerName\n",
       "0  selfridges         selfridges       \n",
       "1  harrods            harrods          \n",
       "2  boots              boots            \n",
       "3  selfridges         selfridges       \n",
       "4  john lewis         john lewis       \n",
       "5  selfridges         selfridges       \n",
       "6  holland & barrett  holland & barrett\n",
       "7  selfridges         selfridges       \n",
       "8  selfridges         selfridges       \n",
       "9  john lewis         john lewis       "
      ]
     },
     "execution_count": 10,
     "metadata": {
      "tags": []
     },
     "output_type": "execute_result"
    }
   ],
   "source": [
    "# creating new 'establishment' column\n",
    "df['establishment'] = get_name(df['rawData'])\n",
    "\n",
    "data = df[['establishment', 'retailerName']]\n",
    "# lowercase all the text\n",
    "data = data.apply(lambda x: x.astype(str).str.lower())\n",
    "print(data.establishment.nunique())\n",
    "data.head(10)\n"
   ]
  },
  {
   "cell_type": "code",
   "execution_count": 13,
   "metadata": {
    "colab": {
     "base_uri": "https://localhost:8080/",
     "height": 1000
    },
    "colab_type": "code",
    "id": "tTiPgXRwBDG4",
    "outputId": "49bc7f87-4045-41c2-f3d4-ccef4d83ec25"
   },
   "outputs": [
    {
     "name": "stdout",
     "output_type": "stream",
     "text": [
      "['selfridges' 'harrods' 'boots' 'john lewis' 'holland   barrett'\n",
      " 'westfield stratford it' 'debenhams' 'holland   baerett' 'tk maxx'\n",
      " 'osamarine dobio otobewbibwod' 'uk limited' 'innova taxfree uk'\n",
      " 'nolland   barrett' 'newcastle eldon sq        ' '    the'\n",
      " 'holland go barrett' 'osamarin' 'holland    barrett' 'gister        trai'\n",
      " 'holland s barrett' 'wendy' 'bath' 'tiolland   barrett' '      '\n",
      " 'gilt soon' 'selfridges co' '            ' 'bocts uk limited'\n",
      " 'selfridges   co' 'blackpool' 'tkmaxx' 'lonu' 'ue du' 'selfridges c '\n",
      " 'tohn lewis' 'holland   baralit' 'selfridgesc' 'advantage card statement'\n",
      " 'ww you for shopping at' 'mid  a             ' 'big labels  small pri'\n",
      " 'ande azamo   a asub sten    ' 'liverpool' 'balis' 'sale' 'dennama'\n",
      " 'diy iduels  silla preo' 'oder' '           gbp' 'mornado'\n",
      " 'strand london        ' 'punu bogomebnu se amol ' 'tan loy bao chunan'\n",
      " 'john lev' '     by  paige' 'shop online at harrods com'\n",
      " 'tell us how we did' 'boos uk limited' 'tkmax' 'bout uk limited'\n",
      " '  tooting high street' 'hello' 'el                  ' '     '\n",
      " 'yan     bao' 'transaction viewer   report viewer' 'oxford st '\n",
      " 'jolland   barrett' 'of y  sd    ow molins niet of niw voy bluona'\n",
      " 'big labels  small pl iluu' 'served by  brennan' 'stratford e london'\n",
      " 'tk max' 'ciun' 'oxford st' 'knxay' 'holland o barrett'\n",
      " 'leeds bond street' 'd  xxx      tid  xxxx    ' '     byres road    '\n",
      " 'uw i bed' 'ohn lewis' 'meadowhall centre' 'holland   barret'\n",
      " 'papayeun ulewaj piym szybu' 'john ll' 'ola liste emernede' 'ng   qa'\n",
      " 'holland barrett' 'signature verified' 'laiuvi   anvtion' 'tomon'\n",
      " 'louis vuitton' '  mahmaga' 'kemax' 'of opvuoi  o t o bolo a   '\n",
      " 'total to pay' 'bnega lets' 'ontordur' 'page   of  ' '   u             '\n",
      " 'holland   barrel' 'hulland   barrett' 'evahox' 'ungdi' 'exchange'\n",
      " 'casasco' 'tk ma' 'iii i duolit' 'england' 'debe' 'exxx    '\n",
      " '  items subtotal' 'utingham    ' 'latk medium carrier' 'handbags'\n",
      " 'joy b ' 'online at' 'oxford street' 't onnexe' 'diolch am siopa yn'\n",
      " 'holland   bard' 'boos uk liim ted' 'burberry' 'reading' 'maddox street'\n",
      " 'boots uk limited' 'manchester' 'total saving today       '\n",
      " 'site  knightsbridge' 'abels  small' 's          foundation'\n",
      " 'boots kited' 'h       ' 'reading oracle' 'non cash non cash'\n",
      " 'holland   barreit' 'juhn lewis' 'prescriptions and other advice'\n",
      " 'hollando darrlit' 'telefonica uk ltd'\n",
      " 'refund or exchange available until' 'limited' 'total'\n",
      " 'browns of chester' 'oe   ovo no        motanos'\n",
      " 'michaels square grosveno' 'bristol broadmead' '    ' 'yanlot bao'\n",
      " 'boots ur limitego' 'modnede' '          h b cranb as      ' 'assistant'\n",
      " '   b' 'odles vuugigi' 'order number           ' 'holland u baralit'\n",
      " 'yom oorintbolo    olba not beoubet emoti'\n",
      " 'spec tav asoonsambalo ni borciale' 'emisdoodoll'\n",
      " 'on mutsi ezbolq bnim ox agnos uoxil' 'call number   '\n",
      " 'janobismetnl ansas bello'\n",
      " 'oj onits    evron viotuista tuoy pensjon on you' 'olidomonilno' 'uus'\n",
      " '  partners' 'orino ons ootan' 'big labels  small pre' 'ournemouth'\n",
      " '           ' 'big labels  small prices' 'edgware road' 'yan lot bao'\n",
      " 'you for shopping at' 'i     ' 'kid  huuuuuuuuuuu'\n",
      " 'dlcepureuilled cosmetics pruuucis' 'guld laull  unul' '  comm' '   tu'\n",
      " 'of op     dovov      ato i niw of endos    ' 'sales voucher'\n",
      " 'lundon swix  xl' 'leaf for det' 'duis ddy' 'boots u' 'tulland e barrett'\n",
      " '                    ' 'debenhaus' 'c             ' 'www seliriuges com'\n",
      " 'denboended everlainwarbon coiler and bamiajq    ' 'planet payment uk'\n",
      " 'hedwa' 'served by  sco till' 'yon lot bao' 'selfridgesec'\n",
      " 'reading oracle        ' 'bots uk uited' 'swansea' 'tets feel good'\n",
      " 'order number' 'regent st         ' '           uov    ' 'asas       '\n",
      " 'unit ds  bullring link  bullring' 'tudio olla picas' 'boots ur limited']\n",
      "(4678, 2)\n"
     ]
    }
   ],
   "source": [
    "# checking extracted text data\n",
    "print(data.establishment.unique())\n",
    "print(data.shape)"
   ]
  },
  {
   "cell_type": "code",
   "execution_count": 14,
   "metadata": {
    "colab": {
     "base_uri": "https://localhost:8080/",
     "height": 35
    },
    "colab_type": "code",
    "id": "omnboDYYQRKB",
    "outputId": "41ca3a13-1b19-4e83-ac65-12be275fd283"
   },
   "outputs": [
    {
     "data": {
      "text/plain": [
       "210"
      ]
     },
     "execution_count": 14,
     "metadata": {
      "tags": []
     },
     "output_type": "execute_result"
    }
   ],
   "source": [
    "# text cleaning\n",
    "import re\n",
    "def text_preprocess(text):\n",
    "    # all text to lowercase\n",
    "    no_apostrophe = text.replace(\"'\", \"\")\n",
    "    # remove special characters\n",
    "    clean_text = re.sub('[^a-zA-Z]', ' ', no_apostrophe)\n",
    "    return clean_text\n",
    "\n",
    "  \n",
    "data['establishment'] = data['establishment'].map(lambda text: text_preprocess(text)) \n",
    "data['establishment'].nunique()"
   ]
  },
  {
   "cell_type": "code",
   "execution_count": 15,
   "metadata": {
    "colab": {
     "base_uri": "https://localhost:8080/",
     "height": 52
    },
    "colab_type": "code",
    "id": "18kM4hAb3vef",
    "outputId": "084ef69d-3415-4dc4-c9f8-4041d7f6c1c5"
   },
   "outputs": [
    {
     "data": {
      "text/plain": [
       "array(['selfridges', 'harrods', 'boots', 'john lewis',\n",
       "       'holland & barrett', 'debenhams', 'tk maxx'], dtype=object)"
      ]
     },
     "execution_count": 15,
     "metadata": {
      "tags": []
     },
     "output_type": "execute_result"
    }
   ],
   "source": [
    "# replacing 'boots uk limited' with 'boots' \n",
    "data['establishment'] = data['establishment'].str.replace('boots uk limited', 'boots')\n",
    "data['establishment'] = data['establishment'].str.replace('uk limited', 'boots')\n",
    "data['retailerName'] = data['retailerName'].str.replace('boots uk limited', 'boots')\n",
    "\n",
    "data.retailerName.unique()\n"
   ]
  },
  {
   "cell_type": "markdown",
   "metadata": {
    "colab_type": "text",
    "id": "IUvXoEkzDDWw"
   },
   "source": [
    "## Feature engineering"
   ]
  },
  {
   "cell_type": "code",
   "execution_count": 17,
   "metadata": {
    "colab": {
     "base_uri": "https://localhost:8080/",
     "height": 212
    },
    "colab_type": "code",
    "id": "vBntJMegOihn",
    "outputId": "46d1e1b5-c5c4-44db-8dca-b29a10411e5b"
   },
   "outputs": [
    {
     "name": "stdout",
     "output_type": "stream",
     "text": [
      "establishment    0\n",
      "retailerName     0\n",
      "features         0\n",
      "dtype: int64\n",
      "  establishment retailerName    features\n",
      "0  selfridges    selfridges   selfridges\n",
      "1  harrods       harrods      harrods   \n",
      "2  boots         boots        boots     \n",
      "3  selfridges    selfridges   selfridges\n",
      "4  john lewis    john lewis   john lewis\n"
     ]
    },
    {
     "data": {
      "text/plain": [
       "(4443, 3)"
      ]
     },
     "execution_count": 17,
     "metadata": {
      "tags": []
     },
     "output_type": "execute_result"
    }
   ],
   "source": [
    "# generating features from establishment column\n",
    "threshold = 5 # anything that occurs less than this will be removed.\n",
    "value_counts = data['establishment'].value_counts() # Entire DataFrame \n",
    "to_remove = value_counts[value_counts <= threshold].index\n",
    "data['features'] = data.establishment.replace(to_remove, np.nan)\n",
    "\n",
    "# removing NaN values\n",
    "data.dropna(inplace = True)\n",
    "\n",
    "# checking for null values\n",
    "print(data.isnull().sum())\n",
    "print(data.head())\n",
    "data.shape"
   ]
  },
  {
   "cell_type": "code",
   "execution_count": 18,
   "metadata": {
    "colab": {
     "base_uri": "https://localhost:8080/",
     "height": 52
    },
    "colab_type": "code",
    "id": "yE9mxSSrcrgx",
    "outputId": "aec7a53e-df56-4f79-81f8-5aa9b33175e0"
   },
   "outputs": [
    {
     "name": "stdout",
     "output_type": "stream",
     "text": [
      "(4443, 7)\n",
      "(4443,)\n"
     ]
    }
   ],
   "source": [
    "# getting features and outcome variable\n",
    "X = pd.get_dummies(data['features'])\n",
    "y = data.retailerName\n",
    "\n",
    "print(X.shape)\n",
    "print(y.shape)"
   ]
  },
  {
   "cell_type": "markdown",
   "metadata": {
    "colab_type": "text",
    "id": "NUYKsxpbqS71"
   },
   "source": [
    "# Model Building"
   ]
  },
  {
   "cell_type": "code",
   "execution_count": 0,
   "metadata": {
    "colab": {},
    "colab_type": "code",
    "id": "tU4_MDkmgk7p"
   },
   "outputs": [],
   "source": [
    "# a dataset to hold the results for comparison\n",
    "report = pd.DataFrame()\n",
    "\n",
    "# define a function \n",
    "def run_model(model, params, X_train, y_train, X_test, y_test, i):\n",
    "    \"\"\"This function returns best parameters to fit the model and model's accuracy stats\n",
    "    \n",
    "    Parameters\n",
    "    ----------\n",
    "    model: classifier\n",
    "    params: parameters\n",
    "        dictionary\n",
    "    X_train: the training data set\n",
    "    y_train: the set of labels to all the data in X_train\n",
    "    X_test: the test data set\n",
    "    Y_test: the set of labels to all the data in X_test\n",
    "    \n",
    "    Returns\n",
    "    -------\n",
    "    str:\n",
    "        model name\n",
    "    float:\n",
    "        Train set accuracy score\n",
    "    float: \n",
    "        Test set accuracy score\n",
    "    float:\n",
    "        5 folds cross-validation accuracy score  \n",
    "    \"\"\"\n",
    "    t0 = time()\n",
    "    # Heading\n",
    "    print('\\n','-'*40,'\\n',model.__class__.__name__,'\\n','-'*40)\n",
    "    \n",
    "    # Find best parameters based on scoring of choice\n",
    "    search = GridSearchCV(model, params,\n",
    "                          cv=5).fit(X_train, y_train)\n",
    "    # Extract best estimator\n",
    "    best = search.best_estimator_\n",
    "    print(\"Best parameters:\", search.best_params_)\n",
    "\n",
    "    # Cross-validate on train set\n",
    "    cvs = cross_val_score(best, X_train, y_train, cv=5)\n",
    "    print(\"Cross-validation stats: mean: {}, std: {}\".format(round(cvs.mean(), 4), round(cvs.std(), 5)))\n",
    "    report.loc[i,'Cross_Val_Mean'] = cvs.mean() \n",
    "    report.loc[i,'Cross_Val_Std'] = cvs.std() \n",
    "   \n",
    "    # Get train accuracy\n",
    "    best = best.fit(X_train,y_train)\n",
    "    train = best.score(X_train, y_train)\n",
    "    report.loc[i,'Train_Accuracy'] = train \n",
    "    print(\"\\nTrain Accuracy Score:\", train)\n",
    "\n",
    "    # Get test accuracy\n",
    "    test = best.score(X_test, y_test)\n",
    "    report.loc[i,'Test_Accuracy'] = test \n",
    "    print(\"\\nTest Accuracy Score:\", test)\n",
    "    \n",
    "    y_pred = best.predict(X_test)\n",
    "\n",
    "    print(classification_report(y_test, y_pred))\n",
    "\n",
    "    conf_matrix = pd.crosstab(y_test,y_pred)\n",
    "    sns.heatmap(conf_matrix, annot=True, fmt='d', cmap=plt.cm.copper)\n",
    "    plt.show()\n",
    "    \n",
    "    report.loc[i,'n_train'] = len(X_train)\n",
    "    report.loc[i,'Model'] = model.__class__.__name__\n",
    "    print(time()-t0,'seconds.')"
   ]
  },
  {
   "cell_type": "code",
   "execution_count": 22,
   "metadata": {
    "colab": {
     "base_uri": "https://localhost:8080/",
     "height": 52
    },
    "colab_type": "code",
    "id": "FZQ_-n5aeoN8",
    "outputId": "50270fae-b4fa-446c-edf9-27b9f24e84f3"
   },
   "outputs": [
    {
     "name": "stdout",
     "output_type": "stream",
     "text": [
      "(3998, 7)\n",
      "(445, 7)\n"
     ]
    }
   ],
   "source": [
    "# splitting the data into train and test sets\n",
    "X_train, X_test, y_train, y_test = train_test_split(X, y,\n",
    "                                                    test_size=0.1,\n",
    "                                                    random_state=42, stratify = y)\n",
    "                        \n",
    "print(X_train.shape)\n",
    "print(X_test.shape)\n"
   ]
  },
  {
   "cell_type": "markdown",
   "metadata": {
    "colab_type": "text",
    "id": "OoLzuDKrDxtF"
   },
   "source": [
    "## Train and Test data"
   ]
  },
  {
   "cell_type": "markdown",
   "metadata": {
    "colab_type": "text",
    "id": "CS22FicfuV6t"
   },
   "source": [
    "## Logistic Regression (Ridge technique)"
   ]
  },
  {
   "cell_type": "code",
   "execution_count": 23,
   "metadata": {
    "colab": {
     "base_uri": "https://localhost:8080/",
     "height": 804
    },
    "colab_type": "code",
    "id": "s-nF_gLdg-mi",
    "outputId": "66382d23-6914-415b-8d68-a273ae704627"
   },
   "outputs": [
    {
     "name": "stdout",
     "output_type": "stream",
     "text": [
      "\n",
      " ---------------------------------------- \n",
      " LogisticRegression \n",
      " ----------------------------------------\n",
      "Best parameters: {'C': 0.3, 'penalty': 'l2', 'solver': 'newton-cg'}\n",
      "Cross-validation stats: mean: 0.999, std: 0.00146\n",
      "\n",
      "Train Accuracy Score: 0.9989994997498749\n",
      "\n",
      "Test Accuracy Score: 0.9977528089887641\n",
      "                   precision    recall  f1-score   support\n",
      "\n",
      "            boots       0.99      1.00      1.00       128\n",
      "        debenhams       1.00      1.00      1.00        20\n",
      "          harrods       1.00      1.00      1.00        79\n",
      "holland & barrett       1.00      0.97      0.99        35\n",
      "       john lewis       1.00      1.00      1.00        30\n",
      "       selfridges       1.00      1.00      1.00       130\n",
      "          tk maxx       1.00      1.00      1.00        23\n",
      "\n",
      "         accuracy                           1.00       445\n",
      "        macro avg       1.00      1.00      1.00       445\n",
      "     weighted avg       1.00      1.00      1.00       445\n",
      "\n"
     ]
    },
    {
     "data": {
      "image/png": "[encoded data removed]",
      "text/plain": [
       "<Figure size 432x288 with 2 Axes>"
      ]
     },
     "metadata": {
      "tags": []
     },
     "output_type": "display_data"
    },
    {
     "name": "stdout",
     "output_type": "stream",
     "text": [
      "19.12214183807373 seconds.\n"
     ]
    }
   ],
   "source": [
    "params = [{\n",
    "    'solver': ['newton-cg', 'lbfgs', 'sag'],\n",
    "    'C': [0.3, 0.5, 0.7, 1],\n",
    "    'penalty': ['l2']\n",
    "    },{\n",
    "    'solver': ['liblinear','saga'],\n",
    "    'C': [0.3, 0.5, 0.7, 1],\n",
    "    'penalty': ['l1','l2']\n",
    "}]\n",
    "\n",
    "lr = LogisticRegression(\n",
    "    n_jobs=-1 # Use all CPU\n",
    ")\n",
    "\n",
    "run_model(lr, params, X_train, y_train, X_test, y_test, i=1)"
   ]
  },
  {
   "cell_type": "markdown",
   "metadata": {
    "colab_type": "text",
    "id": "_f1YS9cqufU6"
   },
   "source": [
    "## Random Forest Classifier"
   ]
  },
  {
   "cell_type": "code",
   "execution_count": 24,
   "metadata": {
    "colab": {
     "base_uri": "https://localhost:8080/",
     "height": 804
    },
    "colab_type": "code",
    "id": "6moaVzHxhYz5",
    "outputId": "00d62bd7-c1fc-4c5c-e865-757e3b80df55"
   },
   "outputs": [
    {
     "name": "stdout",
     "output_type": "stream",
     "text": [
      "\n",
      " ---------------------------------------- \n",
      " RandomForestClassifier \n",
      " ----------------------------------------\n",
      "Best parameters: {'criterion': 'entropy'}\n",
      "Cross-validation stats: mean: 0.999, std: 0.00146\n",
      "\n",
      "Train Accuracy Score: 0.9989994997498749\n",
      "\n",
      "Test Accuracy Score: 0.9977528089887641\n",
      "                   precision    recall  f1-score   support\n",
      "\n",
      "            boots       0.99      1.00      1.00       128\n",
      "        debenhams       1.00      1.00      1.00        20\n",
      "          harrods       1.00      1.00      1.00        79\n",
      "holland & barrett       1.00      0.97      0.99        35\n",
      "       john lewis       1.00      1.00      1.00        30\n",
      "       selfridges       1.00      1.00      1.00       130\n",
      "          tk maxx       1.00      1.00      1.00        23\n",
      "\n",
      "         accuracy                           1.00       445\n",
      "        macro avg       1.00      1.00      1.00       445\n",
      "     weighted avg       1.00      1.00      1.00       445\n",
      "\n"
     ]
    },
    {
     "data": {
      "image/png": "[encoded data removed]",
      "text/plain": [
       "<Figure size 432x288 with 2 Axes>"
      ]
     },
     "metadata": {
      "tags": []
     },
     "output_type": "display_data"
    },
    {
     "name": "stdout",
     "output_type": "stream",
     "text": [
      "1.1111981868743896 seconds.\n"
     ]
    }
   ],
   "source": [
    "params = {\n",
    "    'criterion':['entropy','gini'],\n",
    "}\n",
    "\n",
    "# initialize the classifier\n",
    "rfc = RandomForestClassifier()\n",
    "\n",
    "run_model(rfc, params, X_train, y_train, X_test, y_test,i=2)"
   ]
  },
  {
   "cell_type": "markdown",
   "metadata": {
    "colab_type": "text",
    "id": "geDVhGiKukZ9"
   },
   "source": [
    "## XGBoost Classifier"
   ]
  },
  {
   "cell_type": "code",
   "execution_count": 25,
   "metadata": {
    "colab": {
     "base_uri": "https://localhost:8080/",
     "height": 804
    },
    "colab_type": "code",
    "id": "6e1Zk2lOlf-P",
    "outputId": "8012a107-c7f0-426d-d435-b540c6b30e6b"
   },
   "outputs": [
    {
     "name": "stdout",
     "output_type": "stream",
     "text": [
      "\n",
      " ---------------------------------------- \n",
      " XGBClassifier \n",
      " ----------------------------------------\n",
      "Best parameters: {'learning_rate': 0.001, 'max_depth': 3}\n",
      "Cross-validation stats: mean: 0.999, std: 0.00146\n",
      "\n",
      "Train Accuracy Score: 0.9989994997498749\n",
      "\n",
      "Test Accuracy Score: 0.9977528089887641\n",
      "                   precision    recall  f1-score   support\n",
      "\n",
      "            boots       0.99      1.00      1.00       128\n",
      "        debenhams       1.00      1.00      1.00        20\n",
      "          harrods       1.00      1.00      1.00        79\n",
      "holland & barrett       1.00      0.97      0.99        35\n",
      "       john lewis       1.00      1.00      1.00        30\n",
      "       selfridges       1.00      1.00      1.00       130\n",
      "          tk maxx       1.00      1.00      1.00        23\n",
      "\n",
      "         accuracy                           1.00       445\n",
      "        macro avg       1.00      1.00      1.00       445\n",
      "     weighted avg       1.00      1.00      1.00       445\n",
      "\n"
     ]
    },
    {
     "data": {
      "image/png": "[encoded data removed]",
      "text/plain": [
       "<Figure size 432x288 with 2 Axes>"
      ]
     },
     "metadata": {
      "tags": []
     },
     "output_type": "display_data"
    },
    {
     "name": "stdout",
     "output_type": "stream",
     "text": [
      "19.698041439056396 seconds.\n"
     ]
    }
   ],
   "source": [
    "max_depth = [3, 5]\n",
    "learning_rate = [0.001, 0.01, 0.1]\n",
    "\n",
    "params = dict(max_depth = max_depth, \n",
    "              learning_rate = learning_rate)\n",
    "\n",
    "# initialize the classifier\n",
    "xgb = xgb.XGBClassifier()\n",
    "\n",
    "run_model(xgb, params, X_train, y_train, X_test, y_test,i=3)"
   ]
  },
  {
   "cell_type": "markdown",
   "metadata": {
    "colab_type": "text",
    "id": "0-BmuzuivqFh"
   },
   "source": [
    "## Support Vector Classifier"
   ]
  },
  {
   "cell_type": "code",
   "execution_count": 26,
   "metadata": {
    "colab": {
     "base_uri": "https://localhost:8080/",
     "height": 804
    },
    "colab_type": "code",
    "id": "AWIX_-PIu3LV",
    "outputId": "d3334d28-cf9d-4b88-ac77-08f82009ca60"
   },
   "outputs": [
    {
     "name": "stdout",
     "output_type": "stream",
     "text": [
      "\n",
      " ---------------------------------------- \n",
      " SVC \n",
      " ----------------------------------------\n",
      "Best parameters: {'C': 0.1}\n",
      "Cross-validation stats: mean: 0.999, std: 0.00146\n",
      "\n",
      "Train Accuracy Score: 0.9989994997498749\n",
      "\n",
      "Test Accuracy Score: 0.9977528089887641\n",
      "                   precision    recall  f1-score   support\n",
      "\n",
      "            boots       0.99      1.00      1.00       128\n",
      "        debenhams       1.00      1.00      1.00        20\n",
      "          harrods       1.00      1.00      1.00        79\n",
      "holland & barrett       1.00      0.97      0.99        35\n",
      "       john lewis       1.00      1.00      1.00        30\n",
      "       selfridges       1.00      1.00      1.00       130\n",
      "          tk maxx       1.00      1.00      1.00        23\n",
      "\n",
      "         accuracy                           1.00       445\n",
      "        macro avg       1.00      1.00      1.00       445\n",
      "     weighted avg       1.00      1.00      1.00       445\n",
      "\n"
     ]
    },
    {
     "data": {
      "image/png": "[encoded data removed]",
      "text/plain": [
       "<Figure size 432x288 with 2 Axes>"
      ]
     },
     "metadata": {
      "tags": []
     },
     "output_type": "display_data"
    },
    {
     "name": "stdout",
     "output_type": "stream",
     "text": [
      "3.5592544078826904 seconds.\n"
     ]
    }
   ],
   "source": [
    "Cs = [0.01, 0.1, 1]\n",
    "\n",
    "params = dict(C=Cs)\n",
    "\n",
    "# initialize and run the model\n",
    "svc = SVC(kernel = 'rbf')\n",
    "run_model(svc, params, X_train, y_train, X_test, y_test, i=5)"
   ]
  },
  {
   "cell_type": "markdown",
   "metadata": {
    "colab_type": "text",
    "id": "8I-BsnAnv2_P"
   },
   "source": [
    "# Model Selection"
   ]
  },
  {
   "cell_type": "code",
   "execution_count": 27,
   "metadata": {
    "colab": {
     "base_uri": "https://localhost:8080/",
     "height": 170
    },
    "colab_type": "code",
    "id": "BuPmt99lv74d",
    "outputId": "f2772fc9-1d2c-48b0-d552-5e29bf4e0a3d"
   },
   "outputs": [
    {
     "data": {
      "text/html": [
       "<div>\n",
       "<style scoped>\n",
       "    .dataframe tbody tr th:only-of-type {\n",
       "        vertical-align: middle;\n",
       "    }\n",
       "\n",
       "    .dataframe tbody tr th {\n",
       "        vertical-align: top;\n",
       "    }\n",
       "\n",
       "    .dataframe thead th {\n",
       "        text-align: right;\n",
       "    }\n",
       "</style>\n",
       "<table border=\"1\" class=\"dataframe\">\n",
       "  <thead>\n",
       "    <tr style=\"text-align: right;\">\n",
       "      <th></th>\n",
       "      <th>Cross_Val_Mean</th>\n",
       "      <th>Cross_Val_Std</th>\n",
       "      <th>Train_Accuracy</th>\n",
       "      <th>Test_Accuracy</th>\n",
       "      <th>n_train</th>\n",
       "      <th>Model</th>\n",
       "    </tr>\n",
       "  </thead>\n",
       "  <tbody>\n",
       "    <tr>\n",
       "      <th>1</th>\n",
       "      <td>0.998998</td>\n",
       "      <td>0.001461</td>\n",
       "      <td>0.998999</td>\n",
       "      <td>0.997753</td>\n",
       "      <td>3998.0</td>\n",
       "      <td>LogisticRegression</td>\n",
       "    </tr>\n",
       "    <tr>\n",
       "      <th>2</th>\n",
       "      <td>0.998998</td>\n",
       "      <td>0.001461</td>\n",
       "      <td>0.998999</td>\n",
       "      <td>0.997753</td>\n",
       "      <td>3998.0</td>\n",
       "      <td>RandomForestClassifier</td>\n",
       "    </tr>\n",
       "    <tr>\n",
       "      <th>3</th>\n",
       "      <td>0.998998</td>\n",
       "      <td>0.001461</td>\n",
       "      <td>0.998999</td>\n",
       "      <td>0.997753</td>\n",
       "      <td>3998.0</td>\n",
       "      <td>XGBClassifier</td>\n",
       "    </tr>\n",
       "    <tr>\n",
       "      <th>5</th>\n",
       "      <td>0.998998</td>\n",
       "      <td>0.001461</td>\n",
       "      <td>0.998999</td>\n",
       "      <td>0.997753</td>\n",
       "      <td>3998.0</td>\n",
       "      <td>SVC</td>\n",
       "    </tr>\n",
       "  </tbody>\n",
       "</table>\n",
       "</div>"
      ],
      "text/plain": [
       "   Cross_Val_Mean  Cross_Val_Std  ...  n_train                   Model\n",
       "1  0.998998        0.001461       ...  3998.0   LogisticRegression    \n",
       "2  0.998998        0.001461       ...  3998.0   RandomForestClassifier\n",
       "3  0.998998        0.001461       ...  3998.0   XGBClassifier         \n",
       "5  0.998998        0.001461       ...  3998.0   SVC                   \n",
       "\n",
       "[4 rows x 6 columns]"
      ]
     },
     "execution_count": 27,
     "metadata": {
      "tags": []
     },
     "output_type": "execute_result"
    }
   ],
   "source": [
    "report"
   ]
  },
  {
   "cell_type": "markdown",
   "metadata": {
    "colab_type": "text",
    "id": "fLY_6yqqA4At"
   },
   "source": [
    "# Hyperparameter Tuning for Random Forest Classifier "
   ]
  },
  {
   "cell_type": "code",
   "execution_count": 0,
   "metadata": {
    "colab": {},
    "colab_type": "code",
    "id": "Va29XpgxRedj"
   },
   "outputs": [],
   "source": [
    "params = {'criterion':['entropy','gini'],\n",
    " 'max_depth': [10, 20, 30, None],\n",
    " 'max_features': ['auto', 'sqrt'],\n",
    " 'min_samples_leaf': [1, 2, 4],\n",
    " 'min_samples_split': [2, 5],\n",
    " 'n_estimators': [200, 500]}"
   ]
  },
  {
   "cell_type": "code",
   "execution_count": 29,
   "metadata": {
    "colab": {
     "base_uri": "https://localhost:8080/",
     "height": 804
    },
    "colab_type": "code",
    "id": "E1oYnfKQYDuz",
    "outputId": "e0af7b94-cf77-40d8-ed6f-723d53ad8258"
   },
   "outputs": [
    {
     "name": "stdout",
     "output_type": "stream",
     "text": [
      "\n",
      " ---------------------------------------- \n",
      " RandomForestClassifier \n",
      " ----------------------------------------\n",
      "Best parameters: {'criterion': 'entropy', 'max_depth': 10, 'max_features': 'auto', 'min_samples_leaf': 1, 'min_samples_split': 2, 'n_estimators': 200}\n",
      "Cross-validation stats: mean: 0.999, std: 0.00146\n",
      "\n",
      "Train Accuracy Score: 0.9989994997498749\n",
      "\n",
      "Test Accuracy Score: 0.9977528089887641\n",
      "                   precision    recall  f1-score   support\n",
      "\n",
      "            boots       0.99      1.00      1.00       128\n",
      "        debenhams       1.00      1.00      1.00        20\n",
      "          harrods       1.00      1.00      1.00        79\n",
      "holland & barrett       1.00      0.97      0.99        35\n",
      "       john lewis       1.00      1.00      1.00        30\n",
      "       selfridges       1.00      1.00      1.00       130\n",
      "          tk maxx       1.00      1.00      1.00        23\n",
      "\n",
      "         accuracy                           1.00       445\n",
      "        macro avg       1.00      1.00      1.00       445\n",
      "     weighted avg       1.00      1.00      1.00       445\n",
      "\n"
     ]
    },
    {
     "data": {
      "image/png": "[encoded data removed]",
      "text/plain": [
       "<Figure size 432x288 with 2 Axes>"
      ]
     },
     "metadata": {
      "tags": []
     },
     "output_type": "display_data"
    },
    {
     "name": "stdout",
     "output_type": "stream",
     "text": [
      "526.7216432094574 seconds.\n"
     ]
    }
   ],
   "source": [
    "rfc = RandomForestClassifier()\n",
    "run_model(rfc, params, X_train, y_train, X_test, y_test, 6)"
   ]
  },
  {
   "cell_type": "markdown",
   "metadata": {
    "colab_type": "text",
    "id": "mE5oBVjFsYqr"
   },
   "source": [
    "# Extract Model"
   ]
  },
  {
   "cell_type": "code",
   "execution_count": 30,
   "metadata": {
    "colab": {
     "base_uri": "https://localhost:8080/",
     "height": 35
    },
    "colab_type": "code",
    "id": "HTwvWs5n81r9",
    "outputId": "1394deb1-1392-4047-ccb4-9628add3a189"
   },
   "outputs": [
    {
     "data": {
      "text/plain": [
       "0.9977528089887641"
      ]
     },
     "execution_count": 30,
     "metadata": {
      "tags": []
     },
     "output_type": "execute_result"
    }
   ],
   "source": [
    "from sklearn.externals import joblib\n",
    "\n",
    "# initializing classifier\n",
    "clf = RandomForestClassifier(criterion = 'entropy',\n",
    "                            max_features = 'auto',\n",
    "                            n_estimators = 200)\n",
    "\n",
    "clf.fit(X_train, y_train)\n",
    "\n",
    "# score model\n",
    "clf.score(X_test, y_test)"
   ]
  },
  {
   "cell_type": "code",
   "execution_count": 31,
   "metadata": {
    "colab": {
     "base_uri": "https://localhost:8080/",
     "height": 35
    },
    "colab_type": "code",
    "id": "Ob9a8YWsQcCx",
    "outputId": "5477f731-82d1-442a-d743-c222f60d33b1"
   },
   "outputs": [
    {
     "data": {
      "text/plain": [
       "['ocr_classifier.pkl']"
      ]
     },
     "execution_count": 31,
     "metadata": {
      "tags": []
     },
     "output_type": "execute_result"
    }
   ],
   "source": [
    "joblib.dump(clf, 'ocr_classifier.pkl')"
   ]
  },
  {
   "cell_type": "code",
   "execution_count": 37,
   "metadata": {
    "colab": {
     "base_uri": "https://localhost:8080/",
     "height": 126
    },
    "colab_type": "code",
    "id": "lYEK8eqs1TJ1",
    "outputId": "23a99bb2-5c55-478d-efe3-bc8ecd9bac97"
   },
   "outputs": [
    {
     "name": "stdout",
     "output_type": "stream",
     "text": [
      "Go to this URL in a browser: https://accounts.google.com/o/oauth2/auth?client_id=947318989803-6bn6qk8qdgf4n4g3pfee6491hc0brc4i.apps.googleusercontent.com&redirect_uri=urn%3Aietf%3Awg%3Aoauth%3A2.0%3Aoob&scope=email%20https%3A%2F%2Fwww.googleapis.com%2Fauth%2Fdocs.test%20https%3A%2F%2Fwww.googleapis.com%2Fauth%2Fdrive%20https%3A%2F%2Fwww.googleapis.com%2Fauth%2Fdrive.photos.readonly%20https%3A%2F%2Fwww.googleapis.com%2Fauth%2Fpeopleapi.readonly&response_type=code\n",
      "\n",
      "Enter your authorization code:\n",
      "··········\n",
      "Mounted at /content/gdrive\n"
     ]
    }
   ],
   "source": [
    "from google.colab import drive\n",
    "drive.mount('/content/gdrive')\n",
    "!pip freeze --local > /content/gdrive/My\\ Drive/colab_installed.txt\n"
   ]
  },
  {
   "cell_type": "code",
   "execution_count": 3,
   "metadata": {
    "colab": {
     "base_uri": "https://localhost:8080/",
     "height": 1000
    },
    "colab_type": "code",
    "id": "cVHM6IboD1kd",
    "outputId": "1f92650a-e61b-4134-f407-e4ba2a049975"
   },
   "outputs": [
    {
     "name": "stderr",
     "output_type": "stream",
     "text": [
      "[NbConvertApp] Converting notebook OCR_Classifier.ipynb to html\n",
      "[NbConvertApp] Writing 515355 bytes to OCR_Classifier.html\n"
     ]
    }
   ],
   "source": [
    "!jupyter nbconvert OCR_Classifier.ipynb --to html --output OCR_Classifier.html"
   ]
  },
  {
   "cell_type": "code",
   "execution_count": 0,
   "metadata": {
    "colab": {},
    "colab_type": "code",
    "id": "Y2oSAeaWFCLA"
   },
   "outputs": [],
   "source": []
  }
 ],
 "metadata": {
  "accelerator": "GPU",
  "colab": {
   "collapsed_sections": [],
   "name": "OCR_Classifier.ipynb",
   "provenance": [],
   "toc_visible": true,
   "version": "0.3.2"
  },
  "kernelspec": {
   "display_name": "Python 3",
   "language": "python",
   "name": "python3"
  },
  "language_info": {
   "codemirror_mode": {
    "name": "ipython",
    "version": 3
   },
   "file_extension": ".py",
   "mimetype": "text/x-python",
   "name": "python",
   "nbconvert_exporter": "python",
   "pygments_lexer": "ipython3",
   "version": "3.6.8"
  }
 },
 "nbformat": 4,
 "nbformat_minor": 1
}
